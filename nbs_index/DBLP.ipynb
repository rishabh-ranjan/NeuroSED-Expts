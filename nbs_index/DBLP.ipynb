{
 "cells": [
  {
   "cell_type": "code",
   "execution_count": 6,
   "id": "432d6d23-b00d-4c72-81e5-a6b18e880036",
   "metadata": {},
   "outputs": [],
   "source": [
    "CUDA_INDEX = 1\n",
    "NAME = 'DBLP'\n",
    "CLASSES = 8"
   ]
  },
  {
   "cell_type": "code",
   "execution_count": 2,
   "id": "9b10d1b3-bd2f-4d89-aaf0-40654efbd9ef",
   "metadata": {},
   "outputs": [],
   "source": [
    "import sys\n",
    "sys.path.insert(0, '../..')\n",
    "sys.path.insert(0, '../../pyged/lib')"
   ]
  },
  {
   "cell_type": "code",
   "execution_count": 7,
   "id": "429ab5f3-27f1-4ce7-a371-5a69c529d303",
   "metadata": {},
   "outputs": [
    {
     "data": {
      "text/plain": [
       "<module 'neuro.viz' from '../../neuro/viz.py'>"
      ]
     },
     "execution_count": 7,
     "metadata": {},
     "output_type": "execute_result"
    }
   ],
   "source": [
    "import os\n",
    "import pickle\n",
    "import random\n",
    "import time\n",
    "\n",
    "import IPython as ipy\n",
    "import matplotlib.pyplot as plt\n",
    "import numpy as np\n",
    "import torch\n",
    "torch.cuda.set_device(CUDA_INDEX)\n",
    "torch.backends.cudnn.benchmark = True\n",
    "import torch.optim\n",
    "import torch_geometric as tg\n",
    "import torch_geometric.data\n",
    "from tqdm.auto import tqdm\n",
    "\n",
    "from neuro import config, datasets, index, metrics, models, train, utils, viz\n",
    "import pyged\n",
    "\n",
    "from importlib import reload\n",
    "reload(config)\n",
    "reload(datasets)\n",
    "reload(index)\n",
    "reload(metrics)\n",
    "reload(models)\n",
    "reload(pyged)\n",
    "reload(train)\n",
    "reload(utils)\n",
    "reload(viz)"
   ]
  },
  {
   "cell_type": "code",
   "execution_count": 4,
   "id": "b56516dd-f7e5-42ca-963f-e893282e991f",
   "metadata": {},
   "outputs": [
    {
     "data": {
      "text/plain": [
       "<module 'neuro.h2mn_utils' from '../../neuro/h2mn_utils.py'>"
      ]
     },
     "execution_count": 4,
     "metadata": {},
     "output_type": "execute_result"
    }
   ],
   "source": [
    "import ext.H2MN as h2mn\n",
    "import ext.H2MN.models\n",
    "from neuro import h2mn_utils\n",
    "\n",
    "reload(h2mn)\n",
    "reload(h2mn_utils)"
   ]
  },
  {
   "cell_type": "code",
   "execution_count": 5,
   "id": "8d972ba3-9375-4e69-931d-f1094fa9f289",
   "metadata": {},
   "outputs": [],
   "source": [
    "# graphs = utils.remove_extra_attrs(utils.label_graphs(tg.datasets.CitationFull(root=f'../data/{NAME}/tg', name=f'{NAME}')))"
   ]
  },
  {
   "cell_type": "code",
   "execution_count": 5,
   "id": "51e8b396-4297-48a6-b277-3cc87a6aa412",
   "metadata": {},
   "outputs": [],
   "source": [
    "# tic = time.time()\n",
    "# nbrs = datasets.decompose(graphs, n_hops=2)\n",
    "# toc = time.time()\n",
    "# torch.save(nbrs, f'../data/{NAME}/nbrs.pt')\n",
    "# tqdm.write(f'neighborhood decomposition time: {toc-tic:.3} s')\n",
    "nbrs = torch.load(f'/data/rishabh/neurosim/final/data/{NAME}/nbrs.pt')"
   ]
  },
  {
   "cell_type": "code",
   "execution_count": 8,
   "id": "ef58d72c-d610-4ae2-9e80-8eb7701812bf",
   "metadata": {},
   "outputs": [],
   "source": [
    "# queries = datasets.make_queries(nbrs, n_queries=5, n_hops=2, trav_prob=0.5, node_lim=25)\n",
    "# torch.save(queries, f'../retrvs/{NAME}/queries.pt')\n",
    "queries = torch.load(f'../retrvs/{NAME}/queries.pt', map_location='cpu')"
   ]
  },
  {
   "cell_type": "code",
   "execution_count": 10,
   "id": "0237bbf2-c71e-4898-aee2-113807d81be5",
   "metadata": {},
   "outputs": [],
   "source": [
    "model = models.NormSEDModel(8, CLASSES, 64, 64)\n",
    "model.load_state_dict(torch.load(f'../runlogs/{NAME}/1628504752.911032/best_model.pt', map_location='cpu'))\n",
    "model = model.eval()\n",
    "model = model.to(config.device)"
   ]
  },
  {
   "cell_type": "code",
   "execution_count": 11,
   "id": "6005510d-fcab-4dbf-8354-f5fbdeabfa2d",
   "metadata": {},
   "outputs": [],
   "source": [
    "rw_path = f'/home/neuroGQuery/siddharth/H2MN/ckpt/{NAME}-RW'\n",
    "rw_args = torch.load(os.path.join(rw_path, 'args.pt'), map_location='cpu')\n",
    "rw_model = h2mn.models.Model(rw_args)\n",
    "rw_model.load_state_dict(torch.load(os.path.join(rw_path, 'model.pth'), map_location='cpu'))\n",
    "rw_model = rw_model.eval()\n",
    "rw_model = rw_model.to(config.device)\n",
    "rw_dist_fn = h2mn_utils.DistancePredictor(rw_model, batch_size=16)"
   ]
  },
  {
   "cell_type": "code",
   "execution_count": 9,
   "id": "c62cd14a-fa35-46ec-bcb3-875815b1b47d",
   "metadata": {},
   "outputs": [],
   "source": [
    "ne_path = f'/home/neuroGQuery/siddharth/H2MN/ckpt/{NAME}_K1-NE'\n",
    "ne_args = torch.load(os.path.join(ne_path, 'args.pt'), map_location='cpu')\n",
    "ne_model = h2mn.models.Model(ne_args)\n",
    "ne_model.load_state_dict(torch.load(os.path.join(ne_path, 'model.pth'), map_location='cpu'))\n",
    "ne_model = ne_model.eval()\n",
    "ne_model = ne_model.to(config.device)\n",
    "ne_dist_fn = h2mn_utils.DistancePredictor(ne_model, batch_size=16)"
   ]
  },
  {
   "cell_type": "code",
   "execution_count": 13,
   "id": "7f64c613-92b4-44fa-9fc1-b553525a022b",
   "metadata": {},
   "outputs": [
    {
     "data": {
      "application/vnd.jupyter.widget-view+json": {
       "model_id": "155600d93cf34ca1a27eb565425b8231",
       "version_major": 2,
       "version_minor": 0
      },
      "text/plain": [
       "target batches:   0%|          | 0/406 [00:00<?, ?it/s]"
      ]
     },
     "metadata": {},
     "output_type": "display_data"
    },
    {
     "name": "stdout",
     "output_type": "stream",
     "text": [
      "total target embedding time: 3.19e+02 s\n",
      "per target embedding time: 0.000192 s\n"
     ]
    }
   ],
   "source": [
    "tic = time.time()\n",
    "target_embs_list = []\n",
    "batch_size = 4096\n",
    "with torch.no_grad():\n",
    "    for i in tqdm(range(0,len(nbrs),batch_size), 'target batches'):\n",
    "        target_embs_list.append(model.embed_model(tg.data.Batch.from_data_list(nbrs[i:i+batch_size]).to(config.device)))\n",
    "target_embs = torch.cat(target_embs_list)\n",
    "toc = time.time()\n",
    "tqdm.write(f'total target embedding time: {toc-tic:.3} s')\n",
    "tqdm.write(f'per target embedding time: {(toc-tic)/len(nbrs):.3} s')\n",
    "torch.save(target_embs, f'../retrvs/{NAME}/target_embs.pt')\n",
    "target_embs = torch.load(f'../retrvs/{NAME}/target_embs.pt', map_location='cpu')"
   ]
  },
  {
   "cell_type": "code",
   "execution_count": 14,
   "id": "9b7e7299-1f2c-4fa5-a310-1c015016bb3b",
   "metadata": {},
   "outputs": [
    {
     "name": "stdout",
     "output_type": "stream",
     "text": [
      "total query embedding time: 0.00408 s\n",
      "per query embedding time: 0.000815 s\n"
     ]
    }
   ],
   "source": [
    "tic = time.time()\n",
    "with torch.no_grad():\n",
    "    query_embs = model.embed_model(tg.data.Batch.from_data_list(queries).to(config.device))\n",
    "toc = time.time()\n",
    "tqdm.write(f'total query embedding time: {toc-tic:.3} s')\n",
    "tqdm.write(f'per query embedding time: {(toc-tic)/len(queries):.3} s')\n",
    "torch.save(query_embs, f'../retrvs/{NAME}/query_embs.pt')\n",
    "query_embs = torch.load(f'../retrvs/{NAME}/query_embs.pt', map_location='cpu')"
   ]
  },
  {
   "cell_type": "code",
   "execution_count": 15,
   "id": "bc895ebf-7d83-4a4a-b1b2-6658001a7377",
   "metadata": {},
   "outputs": [],
   "source": [
    "temb = target_embs\n",
    "qemb = query_embs"
   ]
  },
  {
   "cell_type": "code",
   "execution_count": 25,
   "id": "efbf447d-d142-48ef-a02e-a8b2993146b3",
   "metadata": {},
   "outputs": [],
   "source": [
    "tobj_h2mn = nbrs[:10000]\n",
    "qobj_h2mn = queries[:1]"
   ]
  },
  {
   "cell_type": "code",
   "execution_count": 34,
   "id": "6fc7e8e3",
   "metadata": {},
   "outputs": [
    {
     "data": {
      "text/plain": [
       "1661871"
      ]
     },
     "execution_count": 34,
     "metadata": {},
     "output_type": "execute_result"
    }
   ],
   "source": [
    "len(nbrs)"
   ]
  },
  {
   "cell_type": "code",
   "execution_count": 29,
   "id": "a7cf742f",
   "metadata": {},
   "outputs": [],
   "source": []
  },
  {
   "cell_type": "markdown",
   "id": "43d06eae-84d9-45c2-96fb-a9216c70c224",
   "metadata": {
    "tags": []
   },
   "source": [
    "## Vectorised Linear Scan on GPU"
   ]
  },
  {
   "cell_type": "code",
   "execution_count": 21,
   "id": "aa505308-9924-4200-84ba-5c5583b97461",
   "metadata": {},
   "outputs": [
    {
     "name": "stdout",
     "output_type": "stream",
     "text": [
      "fast (vectorised) linear scan index\n",
      "config.device: cuda\n",
      "preprocessing time: 0.00844 s\n"
     ]
    }
   ],
   "source": [
    "config.device = torch.device('cuda')\n",
    "tic = time.time()\n",
    "index_str = index.FastLinearScan(temb, dist_fn=utils.norm_sed_func)\n",
    "toc = time.time()\n",
    "tqdm.write(f'preprocessing time: {toc-tic:.3} s')"
   ]
  },
  {
   "cell_type": "code",
   "execution_count": 22,
   "id": "ede9d38d-15d3-4a7a-9bf9-a9351f994847",
   "metadata": {
    "tags": []
   },
   "outputs": [
    {
     "data": {
      "application/vnd.jupyter.widget-view+json": {
       "model_id": "adfe980eeb0b4708bfe50d74f45fb791",
       "version_major": 2,
       "version_minor": 0
      },
      "text/plain": [
       "k = 10 | queries:   0%|          | 0/5 [00:00<?, ?it/s]"
      ]
     },
     "metadata": {},
     "output_type": "display_data"
    },
    {
     "name": "stdout",
     "output_type": "stream",
     "text": [
      "time per query in s: 0.126\n"
     ]
    }
   ],
   "source": [
    "k = 10\n",
    "tic = time.time()\n",
    "for q in tqdm(qemb, f'k = {k} | queries'):\n",
    "    index_str.knn_query(q, k, verbose=False)\n",
    "toc = time.time()\n",
    "tqdm.write('time per query in s: ' f'{(toc-tic)/qemb.shape[0]:.3}')"
   ]
  },
  {
   "cell_type": "code",
   "execution_count": 23,
   "id": "73b80f03-d15d-4cfa-8a05-40657863c92e",
   "metadata": {
    "tags": []
   },
   "outputs": [
    {
     "data": {
      "application/vnd.jupyter.widget-view+json": {
       "model_id": "9a3da9c0609c4be89a5de7b989dbf3b4",
       "version_major": 2,
       "version_minor": 0
      },
      "text/plain": [
       "r = 2 | queries:   0%|          | 0/5 [00:00<?, ?it/s]"
      ]
     },
     "metadata": {},
     "output_type": "display_data"
    },
    {
     "name": "stdout",
     "output_type": "stream",
     "text": [
      "time per query in s: 0.0696\n"
     ]
    }
   ],
   "source": [
    "r = 2\n",
    "tic = time.time()\n",
    "for q in tqdm(qemb, f'r = {r} | queries'):\n",
    "    index_str.range_query(q, r, verbose=False)\n",
    "toc = time.time()\n",
    "tqdm.write('time per query in s: ' f'{(toc-tic)/qemb.shape[0]:.3}')"
   ]
  },
  {
   "cell_type": "code",
   "execution_count": 30,
   "id": "d111162d-d934-430c-9d34-71ee3de53fb1",
   "metadata": {},
   "outputs": [],
   "source": [
    "del index_str\n",
    "torch.cuda.empty_cache()"
   ]
  },
  {
   "cell_type": "code",
   "execution_count": 20,
   "id": "e6475dcf-f0dd-49c7-a1c8-9370a9b5fc78",
   "metadata": {},
   "outputs": [
    {
     "name": "stdout",
     "output_type": "stream",
     "text": [
      "fast (vectorised) linear scan index\n",
      "config.device: cuda\n",
      "preprocessing time: 0.000832 s\n"
     ]
    }
   ],
   "source": [
    "config.device = torch.device('cuda')\n",
    "tic = time.time()\n",
    "index_str = index.FastLinearScan(tobj_h2mn, dist_fn=ne_dist_fn)\n",
    "toc = time.time()\n",
    "tqdm.write(f'preprocessing time: {toc-tic:.3} s')"
   ]
  },
  {
   "cell_type": "code",
   "execution_count": 21,
   "id": "59a9801f-f282-4b3d-b744-ef2f623ef2cf",
   "metadata": {
    "tags": []
   },
   "outputs": [
    {
     "data": {
      "application/vnd.jupyter.widget-view+json": {
       "model_id": "a9e072e54298412eb81a4dd18be68d62",
       "version_major": 2,
       "version_minor": 0
      },
      "text/plain": [
       "k = 10 | queries:   0%|          | 0/1 [00:00<?, ?it/s]"
      ]
     },
     "metadata": {},
     "output_type": "display_data"
    },
    {
     "data": {
      "application/vnd.jupyter.widget-view+json": {
       "model_id": "cf5113a6978b4a7db823b21d0bf45274",
       "version_major": 2,
       "version_minor": 0
      },
      "text/plain": [
       "batches:   0%|          | 0/625 [00:00<?, ?it/s]"
      ]
     },
     "metadata": {},
     "output_type": "display_data"
    },
    {
     "ename": "RuntimeError",
     "evalue": "mat1 dim 1 must match mat2 dim 0",
     "output_type": "error",
     "traceback": [
      "\u001b[0;31m---------------------------------------------------------------------------\u001b[0m",
      "\u001b[0;31mRuntimeError\u001b[0m                              Traceback (most recent call last)",
      "\u001b[0;32m<ipython-input-21-ec229450bc04>\u001b[0m in \u001b[0;36m<module>\u001b[0;34m\u001b[0m\n\u001b[1;32m      2\u001b[0m \u001b[0mtic\u001b[0m \u001b[0;34m=\u001b[0m \u001b[0mtime\u001b[0m\u001b[0;34m.\u001b[0m\u001b[0mtime\u001b[0m\u001b[0;34m(\u001b[0m\u001b[0;34m)\u001b[0m\u001b[0;34m\u001b[0m\u001b[0;34m\u001b[0m\u001b[0m\n\u001b[1;32m      3\u001b[0m \u001b[0;32mfor\u001b[0m \u001b[0mq\u001b[0m \u001b[0;32min\u001b[0m \u001b[0mtqdm\u001b[0m\u001b[0;34m(\u001b[0m\u001b[0mqobj_h2mn\u001b[0m\u001b[0;34m,\u001b[0m \u001b[0;34mf'k = {k} | queries'\u001b[0m\u001b[0;34m)\u001b[0m\u001b[0;34m:\u001b[0m\u001b[0;34m\u001b[0m\u001b[0;34m\u001b[0m\u001b[0m\n\u001b[0;32m----> 4\u001b[0;31m     \u001b[0mindex_str\u001b[0m\u001b[0;34m.\u001b[0m\u001b[0mknn_query\u001b[0m\u001b[0;34m(\u001b[0m\u001b[0mq\u001b[0m\u001b[0;34m,\u001b[0m \u001b[0mk\u001b[0m\u001b[0;34m,\u001b[0m \u001b[0mverbose\u001b[0m\u001b[0;34m=\u001b[0m\u001b[0;32mFalse\u001b[0m\u001b[0;34m)\u001b[0m\u001b[0;34m\u001b[0m\u001b[0;34m\u001b[0m\u001b[0m\n\u001b[0m\u001b[1;32m      5\u001b[0m \u001b[0mtoc\u001b[0m \u001b[0;34m=\u001b[0m \u001b[0mtime\u001b[0m\u001b[0;34m.\u001b[0m\u001b[0mtime\u001b[0m\u001b[0;34m(\u001b[0m\u001b[0;34m)\u001b[0m\u001b[0;34m\u001b[0m\u001b[0;34m\u001b[0m\u001b[0m\n\u001b[1;32m      6\u001b[0m \u001b[0mtqdm\u001b[0m\u001b[0;34m.\u001b[0m\u001b[0mwrite\u001b[0m\u001b[0;34m(\u001b[0m\u001b[0;34m'time per query in s: '\u001b[0m \u001b[0;34mf'{(toc-tic)/len(qobj_h2mn):.3}'\u001b[0m\u001b[0;34m)\u001b[0m\u001b[0;34m\u001b[0m\u001b[0;34m\u001b[0m\u001b[0m\n",
      "\u001b[0;32m~/anaconda3/envs/GraphMTL/lib/python3.6/site-packages/torch/autograd/grad_mode.py\u001b[0m in \u001b[0;36mdecorate_context\u001b[0;34m(*args, **kwargs)\u001b[0m\n\u001b[1;32m     25\u001b[0m         \u001b[0;32mdef\u001b[0m \u001b[0mdecorate_context\u001b[0m\u001b[0;34m(\u001b[0m\u001b[0;34m*\u001b[0m\u001b[0margs\u001b[0m\u001b[0;34m,\u001b[0m \u001b[0;34m**\u001b[0m\u001b[0mkwargs\u001b[0m\u001b[0;34m)\u001b[0m\u001b[0;34m:\u001b[0m\u001b[0;34m\u001b[0m\u001b[0;34m\u001b[0m\u001b[0m\n\u001b[1;32m     26\u001b[0m             \u001b[0;32mwith\u001b[0m \u001b[0mself\u001b[0m\u001b[0;34m.\u001b[0m\u001b[0m__class__\u001b[0m\u001b[0;34m(\u001b[0m\u001b[0;34m)\u001b[0m\u001b[0;34m:\u001b[0m\u001b[0;34m\u001b[0m\u001b[0;34m\u001b[0m\u001b[0m\n\u001b[0;32m---> 27\u001b[0;31m                 \u001b[0;32mreturn\u001b[0m \u001b[0mfunc\u001b[0m\u001b[0;34m(\u001b[0m\u001b[0;34m*\u001b[0m\u001b[0margs\u001b[0m\u001b[0;34m,\u001b[0m \u001b[0;34m**\u001b[0m\u001b[0mkwargs\u001b[0m\u001b[0;34m)\u001b[0m\u001b[0;34m\u001b[0m\u001b[0;34m\u001b[0m\u001b[0m\n\u001b[0m\u001b[1;32m     28\u001b[0m         \u001b[0;32mreturn\u001b[0m \u001b[0mcast\u001b[0m\u001b[0;34m(\u001b[0m\u001b[0mF\u001b[0m\u001b[0;34m,\u001b[0m \u001b[0mdecorate_context\u001b[0m\u001b[0;34m)\u001b[0m\u001b[0;34m\u001b[0m\u001b[0;34m\u001b[0m\u001b[0m\n\u001b[1;32m     29\u001b[0m \u001b[0;34m\u001b[0m\u001b[0m\n",
      "\u001b[0;32m~/rishabh/neurosim/neuro/index.py\u001b[0m in \u001b[0;36mknn_query\u001b[0;34m(self, qobj, k, verbose)\u001b[0m\n\u001b[1;32m    254\u001b[0m     \u001b[0;32mdef\u001b[0m \u001b[0mknn_query\u001b[0m\u001b[0;34m(\u001b[0m\u001b[0mself\u001b[0m\u001b[0;34m,\u001b[0m \u001b[0mqobj\u001b[0m\u001b[0;34m,\u001b[0m \u001b[0mk\u001b[0m\u001b[0;34m,\u001b[0m \u001b[0mverbose\u001b[0m\u001b[0;34m=\u001b[0m\u001b[0;32mFalse\u001b[0m\u001b[0;34m)\u001b[0m\u001b[0;34m:\u001b[0m\u001b[0;34m\u001b[0m\u001b[0;34m\u001b[0m\u001b[0m\n\u001b[1;32m    255\u001b[0m         \u001b[0mqobj\u001b[0m \u001b[0;34m=\u001b[0m \u001b[0mqobj\u001b[0m\u001b[0;34m.\u001b[0m\u001b[0mto\u001b[0m\u001b[0;34m(\u001b[0m\u001b[0mconfig\u001b[0m\u001b[0;34m.\u001b[0m\u001b[0mdevice\u001b[0m\u001b[0;34m)\u001b[0m\u001b[0;34m\u001b[0m\u001b[0;34m\u001b[0m\u001b[0m\n\u001b[0;32m--> 256\u001b[0;31m         \u001b[0m_\u001b[0m\u001b[0;34m,\u001b[0m \u001b[0mret\u001b[0m \u001b[0;34m=\u001b[0m \u001b[0mtorch\u001b[0m\u001b[0;34m.\u001b[0m\u001b[0mtopk\u001b[0m\u001b[0;34m(\u001b[0m\u001b[0mself\u001b[0m\u001b[0;34m.\u001b[0m\u001b[0mdist_fn\u001b[0m\u001b[0;34m(\u001b[0m\u001b[0mqobj\u001b[0m\u001b[0;34m,\u001b[0m \u001b[0mself\u001b[0m\u001b[0;34m.\u001b[0m\u001b[0mtobj\u001b[0m\u001b[0;34m)\u001b[0m\u001b[0;34m,\u001b[0m \u001b[0mk\u001b[0m\u001b[0;34m,\u001b[0m \u001b[0mlargest\u001b[0m\u001b[0;34m=\u001b[0m\u001b[0;32mFalse\u001b[0m\u001b[0;34m,\u001b[0m \u001b[0msorted\u001b[0m\u001b[0;34m=\u001b[0m\u001b[0;32mFalse\u001b[0m\u001b[0;34m)\u001b[0m\u001b[0;34m\u001b[0m\u001b[0;34m\u001b[0m\u001b[0m\n\u001b[0m\u001b[1;32m    257\u001b[0m         \u001b[0;32mif\u001b[0m \u001b[0mverbose\u001b[0m\u001b[0;34m:\u001b[0m\u001b[0;34m\u001b[0m\u001b[0;34m\u001b[0m\u001b[0m\n\u001b[1;32m    258\u001b[0m             \u001b[0mtqdm\u001b[0m\u001b[0;34m.\u001b[0m\u001b[0mwrite\u001b[0m\u001b[0;34m(\u001b[0m\u001b[0;34mf'rank k distance: <extra computation for unsorted knn query>'\u001b[0m\u001b[0;34m)\u001b[0m\u001b[0;34m\u001b[0m\u001b[0;34m\u001b[0m\u001b[0m\n",
      "\u001b[0;32m~/rishabh/neurosim/neuro/h2mn_utils.py\u001b[0m in \u001b[0;36m__call__\u001b[0;34m(self, query, targets)\u001b[0m\n\u001b[1;32m     53\u001b[0m                     \u001b[0mg\u001b[0m \u001b[0;34m=\u001b[0m \u001b[0mg\u001b[0m\u001b[0;34m.\u001b[0m\u001b[0mto\u001b[0m\u001b[0;34m(\u001b[0m\u001b[0mconfig\u001b[0m\u001b[0;34m.\u001b[0m\u001b[0mdevice\u001b[0m\u001b[0;34m)\u001b[0m\u001b[0;34m\u001b[0m\u001b[0;34m\u001b[0m\u001b[0m\n\u001b[1;32m     54\u001b[0m                     \u001b[0mh\u001b[0m \u001b[0;34m=\u001b[0m \u001b[0mh\u001b[0m\u001b[0;34m.\u001b[0m\u001b[0mto\u001b[0m\u001b[0;34m(\u001b[0m\u001b[0mconfig\u001b[0m\u001b[0;34m.\u001b[0m\u001b[0mdevice\u001b[0m\u001b[0;34m)\u001b[0m\u001b[0;34m\u001b[0m\u001b[0;34m\u001b[0m\u001b[0m\n\u001b[0;32m---> 55\u001b[0;31m                     \u001b[0msim\u001b[0m\u001b[0;34m[\u001b[0m\u001b[0mi\u001b[0m\u001b[0;34m*\u001b[0m\u001b[0mself\u001b[0m\u001b[0;34m.\u001b[0m\u001b[0mbatch_size\u001b[0m\u001b[0;34m:\u001b[0m\u001b[0;34m(\u001b[0m\u001b[0mi\u001b[0m\u001b[0;34m+\u001b[0m\u001b[0;36m1\u001b[0m\u001b[0;34m)\u001b[0m\u001b[0;34m*\u001b[0m\u001b[0mself\u001b[0m\u001b[0;34m.\u001b[0m\u001b[0mbatch_size\u001b[0m\u001b[0;34m]\u001b[0m \u001b[0;34m=\u001b[0m \u001b[0mself\u001b[0m\u001b[0;34m.\u001b[0m\u001b[0mmodel\u001b[0m\u001b[0;34m(\u001b[0m\u001b[0mdict\u001b[0m\u001b[0;34m(\u001b[0m\u001b[0mg1\u001b[0m\u001b[0;34m=\u001b[0m\u001b[0mg\u001b[0m\u001b[0;34m,\u001b[0m \u001b[0mg2\u001b[0m\u001b[0;34m=\u001b[0m\u001b[0mh\u001b[0m\u001b[0;34m)\u001b[0m\u001b[0;34m)\u001b[0m\u001b[0;34m\u001b[0m\u001b[0;34m\u001b[0m\u001b[0m\n\u001b[0m\u001b[1;32m     56\u001b[0m                 \u001b[0mself\u001b[0m\u001b[0;34m.\u001b[0m\u001b[0mmodel\u001b[0m\u001b[0;34m.\u001b[0m\u001b[0mtrain\u001b[0m\u001b[0;34m(\u001b[0m\u001b[0;34m)\u001b[0m\u001b[0;34m\u001b[0m\u001b[0;34m\u001b[0m\u001b[0m\n\u001b[1;32m     57\u001b[0m         \u001b[0mgs\u001b[0m \u001b[0;34m=\u001b[0m \u001b[0mtorch\u001b[0m\u001b[0;34m.\u001b[0m\u001b[0mtensor\u001b[0m\u001b[0;34m(\u001b[0m\u001b[0;34m[\u001b[0m\u001b[0mx\u001b[0m\u001b[0;34m.\u001b[0m\u001b[0mnum_nodes\u001b[0m \u001b[0;32mfor\u001b[0m \u001b[0mx\u001b[0m \u001b[0;32min\u001b[0m \u001b[0mqueries\u001b[0m\u001b[0;34m]\u001b[0m\u001b[0;34m)\u001b[0m\u001b[0;34m.\u001b[0m\u001b[0mto\u001b[0m\u001b[0;34m(\u001b[0m\u001b[0mconfig\u001b[0m\u001b[0;34m.\u001b[0m\u001b[0mdevice\u001b[0m\u001b[0;34m)\u001b[0m\u001b[0;34m\u001b[0m\u001b[0;34m\u001b[0m\u001b[0m\n",
      "\u001b[0;32m~/anaconda3/envs/GraphMTL/lib/python3.6/site-packages/torch/nn/modules/module.py\u001b[0m in \u001b[0;36m_call_impl\u001b[0;34m(self, *input, **kwargs)\u001b[0m\n\u001b[1;32m    887\u001b[0m             \u001b[0mresult\u001b[0m \u001b[0;34m=\u001b[0m \u001b[0mself\u001b[0m\u001b[0;34m.\u001b[0m\u001b[0m_slow_forward\u001b[0m\u001b[0;34m(\u001b[0m\u001b[0;34m*\u001b[0m\u001b[0minput\u001b[0m\u001b[0;34m,\u001b[0m \u001b[0;34m**\u001b[0m\u001b[0mkwargs\u001b[0m\u001b[0;34m)\u001b[0m\u001b[0;34m\u001b[0m\u001b[0;34m\u001b[0m\u001b[0m\n\u001b[1;32m    888\u001b[0m         \u001b[0;32melse\u001b[0m\u001b[0;34m:\u001b[0m\u001b[0;34m\u001b[0m\u001b[0;34m\u001b[0m\u001b[0m\n\u001b[0;32m--> 889\u001b[0;31m             \u001b[0mresult\u001b[0m \u001b[0;34m=\u001b[0m \u001b[0mself\u001b[0m\u001b[0;34m.\u001b[0m\u001b[0mforward\u001b[0m\u001b[0;34m(\u001b[0m\u001b[0;34m*\u001b[0m\u001b[0minput\u001b[0m\u001b[0;34m,\u001b[0m \u001b[0;34m**\u001b[0m\u001b[0mkwargs\u001b[0m\u001b[0;34m)\u001b[0m\u001b[0;34m\u001b[0m\u001b[0;34m\u001b[0m\u001b[0m\n\u001b[0m\u001b[1;32m    890\u001b[0m         for hook in itertools.chain(\n\u001b[1;32m    891\u001b[0m                 \u001b[0m_global_forward_hooks\u001b[0m\u001b[0;34m.\u001b[0m\u001b[0mvalues\u001b[0m\u001b[0;34m(\u001b[0m\u001b[0;34m)\u001b[0m\u001b[0;34m,\u001b[0m\u001b[0;34m\u001b[0m\u001b[0;34m\u001b[0m\u001b[0m\n",
      "\u001b[0;32m~/rishabh/neurosim/ext/H2MN/models.py\u001b[0m in \u001b[0;36mforward\u001b[0;34m(self, data)\u001b[0m\n\u001b[1;32m     53\u001b[0m         \u001b[0;31m# Layer 0\u001b[0m\u001b[0;34m\u001b[0m\u001b[0;34m\u001b[0m\u001b[0;34m\u001b[0m\u001b[0m\n\u001b[1;32m     54\u001b[0m         \u001b[0;31m# Graph Convolution Operation\u001b[0m\u001b[0;34m\u001b[0m\u001b[0;34m\u001b[0m\u001b[0;34m\u001b[0m\u001b[0m\n\u001b[0;32m---> 55\u001b[0;31m         \u001b[0mf1_conv0\u001b[0m \u001b[0;34m=\u001b[0m \u001b[0mF\u001b[0m\u001b[0;34m.\u001b[0m\u001b[0mleaky_relu\u001b[0m\u001b[0;34m(\u001b[0m\u001b[0mself\u001b[0m\u001b[0;34m.\u001b[0m\u001b[0mconv0\u001b[0m\u001b[0;34m(\u001b[0m\u001b[0mfeatures_1\u001b[0m\u001b[0;34m,\u001b[0m \u001b[0medge_index_1\u001b[0m\u001b[0;34m,\u001b[0m \u001b[0medge_attr_1\u001b[0m\u001b[0;34m)\u001b[0m\u001b[0;34m,\u001b[0m \u001b[0mnegative_slope\u001b[0m\u001b[0;34m=\u001b[0m\u001b[0;36m0.2\u001b[0m\u001b[0;34m)\u001b[0m\u001b[0;34m\u001b[0m\u001b[0;34m\u001b[0m\u001b[0m\n\u001b[0m\u001b[1;32m     56\u001b[0m         \u001b[0mf2_conv0\u001b[0m \u001b[0;34m=\u001b[0m \u001b[0mF\u001b[0m\u001b[0;34m.\u001b[0m\u001b[0mleaky_relu\u001b[0m\u001b[0;34m(\u001b[0m\u001b[0mself\u001b[0m\u001b[0;34m.\u001b[0m\u001b[0mconv0\u001b[0m\u001b[0;34m(\u001b[0m\u001b[0mfeatures_2\u001b[0m\u001b[0;34m,\u001b[0m \u001b[0medge_index_2\u001b[0m\u001b[0;34m,\u001b[0m \u001b[0medge_attr_2\u001b[0m\u001b[0;34m)\u001b[0m\u001b[0;34m,\u001b[0m \u001b[0mnegative_slope\u001b[0m\u001b[0;34m=\u001b[0m\u001b[0;36m0.2\u001b[0m\u001b[0;34m)\u001b[0m\u001b[0;34m\u001b[0m\u001b[0;34m\u001b[0m\u001b[0m\n\u001b[1;32m     57\u001b[0m \u001b[0;34m\u001b[0m\u001b[0m\n",
      "\u001b[0;32m~/anaconda3/envs/GraphMTL/lib/python3.6/site-packages/torch/nn/modules/module.py\u001b[0m in \u001b[0;36m_call_impl\u001b[0;34m(self, *input, **kwargs)\u001b[0m\n\u001b[1;32m    887\u001b[0m             \u001b[0mresult\u001b[0m \u001b[0;34m=\u001b[0m \u001b[0mself\u001b[0m\u001b[0;34m.\u001b[0m\u001b[0m_slow_forward\u001b[0m\u001b[0;34m(\u001b[0m\u001b[0;34m*\u001b[0m\u001b[0minput\u001b[0m\u001b[0;34m,\u001b[0m \u001b[0;34m**\u001b[0m\u001b[0mkwargs\u001b[0m\u001b[0;34m)\u001b[0m\u001b[0;34m\u001b[0m\u001b[0;34m\u001b[0m\u001b[0m\n\u001b[1;32m    888\u001b[0m         \u001b[0;32melse\u001b[0m\u001b[0;34m:\u001b[0m\u001b[0;34m\u001b[0m\u001b[0;34m\u001b[0m\u001b[0m\n\u001b[0;32m--> 889\u001b[0;31m             \u001b[0mresult\u001b[0m \u001b[0;34m=\u001b[0m \u001b[0mself\u001b[0m\u001b[0;34m.\u001b[0m\u001b[0mforward\u001b[0m\u001b[0;34m(\u001b[0m\u001b[0;34m*\u001b[0m\u001b[0minput\u001b[0m\u001b[0;34m,\u001b[0m \u001b[0;34m**\u001b[0m\u001b[0mkwargs\u001b[0m\u001b[0;34m)\u001b[0m\u001b[0;34m\u001b[0m\u001b[0;34m\u001b[0m\u001b[0m\n\u001b[0m\u001b[1;32m    890\u001b[0m         for hook in itertools.chain(\n\u001b[1;32m    891\u001b[0m                 \u001b[0m_global_forward_hooks\u001b[0m\u001b[0;34m.\u001b[0m\u001b[0mvalues\u001b[0m\u001b[0;34m(\u001b[0m\u001b[0;34m)\u001b[0m\u001b[0;34m,\u001b[0m\u001b[0;34m\u001b[0m\u001b[0;34m\u001b[0m\u001b[0m\n",
      "\u001b[0;32m~/anaconda3/envs/GraphMTL/lib/python3.6/site-packages/torch_geometric/nn/conv/gcn_conv.py\u001b[0m in \u001b[0;36mforward\u001b[0;34m(self, x, edge_index, edge_weight)\u001b[0m\n\u001b[1;32m    177\u001b[0m                     \u001b[0medge_index\u001b[0m \u001b[0;34m=\u001b[0m \u001b[0mcache\u001b[0m\u001b[0;34m\u001b[0m\u001b[0;34m\u001b[0m\u001b[0m\n\u001b[1;32m    178\u001b[0m \u001b[0;34m\u001b[0m\u001b[0m\n\u001b[0;32m--> 179\u001b[0;31m         \u001b[0mx\u001b[0m \u001b[0;34m=\u001b[0m \u001b[0mx\u001b[0m \u001b[0;34m@\u001b[0m \u001b[0mself\u001b[0m\u001b[0;34m.\u001b[0m\u001b[0mweight\u001b[0m\u001b[0;34m\u001b[0m\u001b[0;34m\u001b[0m\u001b[0m\n\u001b[0m\u001b[1;32m    180\u001b[0m \u001b[0;34m\u001b[0m\u001b[0m\n\u001b[1;32m    181\u001b[0m         \u001b[0;31m# propagate_type: (x: Tensor, edge_weight: OptTensor)\u001b[0m\u001b[0;34m\u001b[0m\u001b[0;34m\u001b[0m\u001b[0;34m\u001b[0m\u001b[0m\n",
      "\u001b[0;31mRuntimeError\u001b[0m: mat1 dim 1 must match mat2 dim 0"
     ]
    }
   ],
   "source": [
    "k = 10\n",
    "tic = time.time()\n",
    "for q in tqdm(qobj_h2mn, f'k = {k} | queries'):\n",
    "    index_str.knn_query(q, k, verbose=False)\n",
    "toc = time.time()\n",
    "tqdm.write('time per query in s: ' f'{(toc-tic)/len(qobj_h2mn):.3}')"
   ]
  },
  {
   "cell_type": "code",
   "execution_count": 21,
   "id": "168dd13c-df55-450c-8dbf-c0a789c474f5",
   "metadata": {
    "tags": []
   },
   "outputs": [
    {
     "data": {
      "application/vnd.jupyter.widget-view+json": {
       "model_id": "eb66934753a94b35b40f01b469b95fd7",
       "version_major": 2,
       "version_minor": 0
      },
      "text/plain": [
       "r = 2 | queries:   0%|          | 0/1 [00:00<?, ?it/s]"
      ]
     },
     "metadata": {},
     "output_type": "display_data"
    },
    {
     "data": {
      "application/vnd.jupyter.widget-view+json": {
       "model_id": "1b44d3a5b5a04a24bea59947ff3837b9",
       "version_major": 2,
       "version_minor": 0
      },
      "text/plain": [
       "batches:   0%|          | 0/103867 [00:00<?, ?it/s]"
      ]
     },
     "metadata": {},
     "output_type": "display_data"
    },
    {
     "name": "stdout",
     "output_type": "stream",
     "text": [
      "time per query in s: 8.55e+03\n"
     ]
    }
   ],
   "source": [
    "r = 2\n",
    "tic = time.time()\n",
    "for q in tqdm(qobj_h2mn, f'r = {r} | queries'):\n",
    "    index_str.range_query(q, r, verbose=False)\n",
    "toc = time.time()\n",
    "tqdm.write('time per query in s: ' f'{(toc-tic)/len(qobj_h2mn):.3}')"
   ]
  },
  {
   "cell_type": "code",
   "execution_count": 22,
   "id": "aca275cc-36cf-4521-9341-0daf4582b113",
   "metadata": {},
   "outputs": [],
   "source": [
    "del index_str\n",
    "torch.cuda.empty_cache()"
   ]
  },
  {
   "cell_type": "code",
   "execution_count": 31,
   "id": "8516f410-be11-4b7a-aab0-817f31f3871f",
   "metadata": {},
   "outputs": [
    {
     "name": "stdout",
     "output_type": "stream",
     "text": [
      "fast (vectorised) linear scan index\n",
      "config.device: cuda\n",
      "preprocessing time: 0.000741 s\n"
     ]
    }
   ],
   "source": [
    "config.device = torch.device('cuda')\n",
    "tic = time.time()\n",
    "index_str = index.FastLinearScan(tobj_h2mn, dist_fn=ne_dist_fn)\n",
    "toc = time.time()\n",
    "tqdm.write(f'preprocessing time: {toc-tic:.3} s')"
   ]
  },
  {
   "cell_type": "code",
   "execution_count": 32,
   "id": "495983e4-5e7d-455d-bd2a-3e56a059a781",
   "metadata": {
    "tags": []
   },
   "outputs": [
    {
     "data": {
      "application/vnd.jupyter.widget-view+json": {
       "model_id": "cb4f48983dd44ea489d40ad9d3ec6ec5",
       "version_major": 2,
       "version_minor": 0
      },
      "text/plain": [
       "k = 10 | queries:   0%|          | 0/1 [00:00<?, ?it/s]"
      ]
     },
     "metadata": {},
     "output_type": "display_data"
    },
    {
     "data": {
      "application/vnd.jupyter.widget-view+json": {
       "model_id": "79c22a5e609347b8885847132b3f6e32",
       "version_major": 2,
       "version_minor": 0
      },
      "text/plain": [
       "batches:   0%|          | 0/625 [00:00<?, ?it/s]"
      ]
     },
     "metadata": {},
     "output_type": "display_data"
    },
    {
     "name": "stdout",
     "output_type": "stream",
     "text": [
      "time per query in s: 58.9\n"
     ]
    }
   ],
   "source": [
    "k = 10\n",
    "tic = time.time()\n",
    "for q in tqdm(qobj_h2mn, f'k = {k} | queries'):\n",
    "    index_str.knn_query(q, k, verbose=False)\n",
    "toc = time.time()\n",
    "tqdm.write('time per query in s: ' f'{(toc-tic)/len(qobj_h2mn):.3}')"
   ]
  },
  {
   "cell_type": "code",
   "execution_count": 33,
   "id": "73485652-78dc-4ead-967d-0852fa328aec",
   "metadata": {
    "tags": []
   },
   "outputs": [
    {
     "data": {
      "application/vnd.jupyter.widget-view+json": {
       "model_id": "5b6839b6a3a44c1f9ca9262912e8be99",
       "version_major": 2,
       "version_minor": 0
      },
      "text/plain": [
       "r = 2 | queries:   0%|          | 0/1 [00:00<?, ?it/s]"
      ]
     },
     "metadata": {},
     "output_type": "display_data"
    },
    {
     "data": {
      "application/vnd.jupyter.widget-view+json": {
       "model_id": "5f39c7f69a1d47e7b68d1117f5765aa1",
       "version_major": 2,
       "version_minor": 0
      },
      "text/plain": [
       "batches:   0%|          | 0/625 [00:00<?, ?it/s]"
      ]
     },
     "metadata": {},
     "output_type": "display_data"
    },
    {
     "name": "stdout",
     "output_type": "stream",
     "text": [
      "time per query in s: 53.6\n"
     ]
    }
   ],
   "source": [
    "r = 2\n",
    "tic = time.time()\n",
    "for q in tqdm(qobj_h2mn, f'r = {r} | queries'):\n",
    "    index_str.range_query(q, r, verbose=False)\n",
    "toc = time.time()\n",
    "tqdm.write('time per query in s: ' f'{(toc-tic)/len(qobj_h2mn):.3}')"
   ]
  },
  {
   "cell_type": "code",
   "execution_count": null,
   "id": "04891148-95c8-4bf4-a0ff-1d61d944accb",
   "metadata": {},
   "outputs": [],
   "source": [
    "del index_str\n",
    "torch.cuda.empty_cache()"
   ]
  },
  {
   "cell_type": "markdown",
   "id": "d204d84a-c22c-4868-9db2-aa0498dcca2f",
   "metadata": {},
   "source": [
    "## Unvectorised Linear Scan on CPU (threads=1)"
   ]
  },
  {
   "cell_type": "code",
   "execution_count": 23,
   "id": "8e156a14-2a85-4071-a6e0-f2646c1e5976",
   "metadata": {},
   "outputs": [
    {
     "name": "stdout",
     "output_type": "stream",
     "text": [
      "slow (pythonic) linear scan index\n",
      "config.device: cpu\n",
      "preprocessing time: 0.00279 s\n"
     ]
    }
   ],
   "source": [
    "config.device = torch.device('cpu')\n",
    "torch.set_num_threads(1)\n",
    "tic = time.time()\n",
    "index_str = index.LinearScan(temb, dist_fn=utils.norm_sed_func)\n",
    "toc = time.time()\n",
    "tqdm.write(f'preprocessing time: {toc-tic:.3} s')\n",
    "index_str = index_str.to(config.device)"
   ]
  },
  {
   "cell_type": "code",
   "execution_count": 24,
   "id": "e4846f72-3a45-4925-8229-bfab87188828",
   "metadata": {
    "tags": []
   },
   "outputs": [
    {
     "data": {
      "application/vnd.jupyter.widget-view+json": {
       "model_id": "70579781bb15463fba8049d0cda9d10a",
       "version_major": 2,
       "version_minor": 0
      },
      "text/plain": [
       "k = 10 | queries:   0%|          | 0/5 [00:00<?, ?it/s]"
      ]
     },
     "metadata": {},
     "output_type": "display_data"
    },
    {
     "data": {
      "application/vnd.jupyter.widget-view+json": {
       "model_id": "bb702a1874b04bb2b2bccbffb62c3f41",
       "version_major": 2,
       "version_minor": 0
      },
      "text/plain": [
       "targets:   0%|          | 0/1661871 [00:02<?, ?it/s]"
      ]
     },
     "metadata": {},
     "output_type": "display_data"
    },
    {
     "data": {
      "application/vnd.jupyter.widget-view+json": {
       "model_id": "3ecf5eaa9d2546d98de3fb46db30a174",
       "version_major": 2,
       "version_minor": 0
      },
      "text/plain": [
       "targets:   0%|          | 0/1661871 [00:01<?, ?it/s]"
      ]
     },
     "metadata": {},
     "output_type": "display_data"
    },
    {
     "data": {
      "application/vnd.jupyter.widget-view+json": {
       "model_id": "286d6a08bf0f4449a246b178d5902f16",
       "version_major": 2,
       "version_minor": 0
      },
      "text/plain": [
       "targets:   0%|          | 0/1661871 [00:11<?, ?it/s]"
      ]
     },
     "metadata": {},
     "output_type": "display_data"
    },
    {
     "data": {
      "application/vnd.jupyter.widget-view+json": {
       "model_id": "5b3e46b7dfca49a9aabd7d357a9849f4",
       "version_major": 2,
       "version_minor": 0
      },
      "text/plain": [
       "targets:   0%|          | 0/1661871 [00:01<?, ?it/s]"
      ]
     },
     "metadata": {},
     "output_type": "display_data"
    },
    {
     "data": {
      "application/vnd.jupyter.widget-view+json": {
       "model_id": "fa57d1f7fe6c445285ea5d505ba8160e",
       "version_major": 2,
       "version_minor": 0
      },
      "text/plain": [
       "targets:   0%|          | 0/1661871 [00:01<?, ?it/s]"
      ]
     },
     "metadata": {},
     "output_type": "display_data"
    },
    {
     "name": "stdout",
     "output_type": "stream",
     "text": [
      "time per query in s: 50.4\n"
     ]
    }
   ],
   "source": [
    "k = 10\n",
    "tic = time.time()\n",
    "for q in tqdm(qemb, f'k = {k} | queries'):\n",
    "    index_str.knn_query(q, k, verbose=False)\n",
    "toc = time.time()\n",
    "tqdm.write('time per query in s: ' f'{(toc-tic)/qemb.shape[0]:.3}')"
   ]
  },
  {
   "cell_type": "code",
   "execution_count": 25,
   "id": "dda921a9-afcd-4ab3-910e-dffdcb58be39",
   "metadata": {
    "tags": []
   },
   "outputs": [
    {
     "data": {
      "application/vnd.jupyter.widget-view+json": {
       "model_id": "c00e83472f1544509977a12944b38895",
       "version_major": 2,
       "version_minor": 0
      },
      "text/plain": [
       "r = 2 | queries:   0%|          | 0/5 [00:00<?, ?it/s]"
      ]
     },
     "metadata": {},
     "output_type": "display_data"
    },
    {
     "data": {
      "application/vnd.jupyter.widget-view+json": {
       "model_id": "0ad461209d19456e94f44a2e44a27e37",
       "version_major": 2,
       "version_minor": 0
      },
      "text/plain": [
       "targets:   0%|          | 0/1661871 [00:13<?, ?it/s]"
      ]
     },
     "metadata": {},
     "output_type": "display_data"
    },
    {
     "data": {
      "application/vnd.jupyter.widget-view+json": {
       "model_id": "04e8a7583c124fd58377a97445d75482",
       "version_major": 2,
       "version_minor": 0
      },
      "text/plain": [
       "targets:   0%|          | 0/1661871 [00:01<?, ?it/s]"
      ]
     },
     "metadata": {},
     "output_type": "display_data"
    },
    {
     "data": {
      "application/vnd.jupyter.widget-view+json": {
       "model_id": "d4a08d3a44fd47078fe7ac4206c9e86e",
       "version_major": 2,
       "version_minor": 0
      },
      "text/plain": [
       "targets:   0%|          | 0/1661871 [00:13<?, ?it/s]"
      ]
     },
     "metadata": {},
     "output_type": "display_data"
    },
    {
     "data": {
      "application/vnd.jupyter.widget-view+json": {
       "model_id": "d3afab9751504735a4c9c2bbe70d496c",
       "version_major": 2,
       "version_minor": 0
      },
      "text/plain": [
       "targets:   0%|          | 0/1661871 [00:01<?, ?it/s]"
      ]
     },
     "metadata": {},
     "output_type": "display_data"
    },
    {
     "data": {
      "application/vnd.jupyter.widget-view+json": {
       "model_id": "5db629f90d454e7ba84aff6ed4552cb2",
       "version_major": 2,
       "version_minor": 0
      },
      "text/plain": [
       "targets:   0%|          | 0/1661871 [00:15<?, ?it/s]"
      ]
     },
     "metadata": {},
     "output_type": "display_data"
    },
    {
     "name": "stdout",
     "output_type": "stream",
     "text": [
      "time per query in s: 48.0\n"
     ]
    }
   ],
   "source": [
    "r = 2\n",
    "tic = time.time()\n",
    "for q in tqdm(qemb, f'r = {r} | queries'):\n",
    "    index_str.range_query(q, r, verbose=False)\n",
    "toc = time.time()\n",
    "tqdm.write('time per query in s: ' f'{(toc-tic)/qemb.shape[0]:.3}')"
   ]
  },
  {
   "cell_type": "code",
   "execution_count": 26,
   "id": "1835d73d-8838-4204-979f-066ae773a58c",
   "metadata": {},
   "outputs": [],
   "source": [
    "del index_str\n",
    "torch.cuda.empty_cache()"
   ]
  },
  {
   "cell_type": "markdown",
   "id": "f530afc9-a3d7-4f8f-a7a7-32c8de7a2359",
   "metadata": {},
   "source": [
    "## Unvectorised (Metric-)Tree on CPU (threads=1)"
   ]
  },
  {
   "cell_type": "code",
   "execution_count": 27,
   "id": "63e4da66-2ae3-49f9-832f-e78552308837",
   "metadata": {},
   "outputs": [
    {
     "name": "stdout",
     "output_type": "stream",
     "text": [
      "construct (metric-)tree for asymmetric/symmetric distance function\n",
      "config.device: cpu\n"
     ]
    },
    {
     "data": {
      "application/vnd.jupyter.widget-view+json": {
       "model_id": "2f41a7eaf2d44341a88763b38e747f15",
       "version_major": 2,
       "version_minor": 0
      },
      "text/plain": [
       "  0%|          | 0/1661871 [00:00<?, ?it/s]"
      ]
     },
     "metadata": {},
     "output_type": "display_data"
    },
    {
     "name": "stdout",
     "output_type": "stream",
     "text": [
      "distance computations: 27252518\n",
      "internal nodes: 10486 / 41945\n",
      "leaf nodes: 31459 / 41945\n",
      "big leaf nodes: 101 / 31459\n",
      "max leaf size: 949\n",
      "preprocessing time: 16.8 s\n"
     ]
    }
   ],
   "source": [
    "config.device = torch.device('cpu')\n",
    "torch.set_num_threads(1)\n",
    "tic = time.time()\n",
    "index_str = index.AsymTree(temb, dist_fn=utils.norm_sed_func, max_leaf_size=128)\n",
    "toc = time.time()\n",
    "tqdm.write(f'preprocessing time: {toc-tic:.3} s')\n",
    "index_str = index_str.to(config.device)"
   ]
  },
  {
   "cell_type": "code",
   "execution_count": 28,
   "id": "a5ea9362-b4d3-48f0-8a89-40e74d1b2634",
   "metadata": {
    "tags": []
   },
   "outputs": [
    {
     "data": {
      "application/vnd.jupyter.widget-view+json": {
       "model_id": "93f50b7ea77e47b8aac0ddea6ef3b2ba",
       "version_major": 2,
       "version_minor": 0
      },
      "text/plain": [
       "k = 10 | queries:   0%|          | 0/5 [00:00<?, ?it/s]"
      ]
     },
     "metadata": {},
     "output_type": "display_data"
    },
    {
     "name": "stdout",
     "output_type": "stream",
     "text": [
      "time per query in s: 18.6\n"
     ]
    }
   ],
   "source": [
    "k = 10\n",
    "tic = time.time()\n",
    "for q in tqdm(qemb, f'k = {k} | queries'):\n",
    "    index_str.knn_query(q, k, slow=True, verbose=False)\n",
    "toc = time.time()\n",
    "tqdm.write('time per query in s: ' f'{(toc-tic)/qemb.shape[0]:.3}')"
   ]
  },
  {
   "cell_type": "code",
   "execution_count": 29,
   "id": "2950ebf6-0f70-47e2-a6cc-8946a48128a7",
   "metadata": {
    "tags": []
   },
   "outputs": [
    {
     "data": {
      "application/vnd.jupyter.widget-view+json": {
       "model_id": "ec3f58f91c3f4304aa3886cf44c8e58b",
       "version_major": 2,
       "version_minor": 0
      },
      "text/plain": [
       "r = 2 | queries:   0%|          | 0/5 [00:00<?, ?it/s]"
      ]
     },
     "metadata": {},
     "output_type": "display_data"
    },
    {
     "name": "stdout",
     "output_type": "stream",
     "text": [
      "time per query in s: 20.9\n"
     ]
    }
   ],
   "source": [
    "r = 2\n",
    "tic = time.time()\n",
    "for q in tqdm(qemb, f'r = {r} | queries'):\n",
    "    index_str.range_query(q, r, slow=True, verbose=False)\n",
    "toc = time.time()\n",
    "tqdm.write('time per query in s: ' f'{(toc-tic)/qemb.shape[0]:.3}')"
   ]
  },
  {
   "cell_type": "code",
   "execution_count": 30,
   "id": "c91bfc1b-c968-4771-a3d7-84536ccfd006",
   "metadata": {},
   "outputs": [],
   "source": [
    "del index_str\n",
    "torch.cuda.empty_cache()"
   ]
  },
  {
   "cell_type": "markdown",
   "id": "9f260574-996a-4750-aa2e-113f694f883c",
   "metadata": {},
   "source": [
    "## Alignment"
   ]
  },
  {
   "cell_type": "code",
   "execution_count": 15,
   "id": "ecc601f0-7158-4cbb-872e-ca363f00ac0d",
   "metadata": {
    "tags": []
   },
   "outputs": [
    {
     "data": {
      "application/vnd.jupyter.widget-view+json": {
       "model_id": "d81f43c67d81407d84809f769b9599d4",
       "version_major": 2,
       "version_minor": 0
      },
      "text/plain": [
       "k = 10 | queries:   0%|          | 0/10 [00:00<?, ?it/s]"
      ]
     },
     "metadata": {},
     "output_type": "display_data"
    },
    {
     "name": "stdout",
     "output_type": "stream",
     "text": [
      "time in s: 0.00447\n"
     ]
    }
   ],
   "source": [
    "tic = time.time()\n",
    "k = 10\n",
    "topk = []\n",
    "for q in tqdm(qemb, f'k = {k} | queries'):\n",
    "    topk.append(index_str.knn_query(q, k, verbose=False))\n",
    "toc = time.time()\n",
    "tqdm.write('time in s: ' f'{(toc-tic)/qemb.shape[0]:.3}')"
   ]
  },
  {
   "cell_type": "code",
   "execution_count": 16,
   "id": "9fd4ff6e-baef-4ce9-9759-9f52c1a5b2a6",
   "metadata": {},
   "outputs": [
    {
     "data": {
      "application/vnd.jupyter.widget-view+json": {
       "model_id": "13b4ef0ac4d947ab8540d5ec87e0b404",
       "version_major": 2,
       "version_minor": 0
      },
      "text/plain": [
       "queries:   0%|          | 0/10 [00:00<?, ?it/s]"
      ]
     },
     "metadata": {},
     "output_type": "display_data"
    },
    {
     "data": {
      "application/vnd.jupyter.widget-view+json": {
       "model_id": "e2c257f6e1b44c2a912c61953740eb1c",
       "version_major": 2,
       "version_minor": 0
      },
      "text/plain": [
       "targets:   0%|          | 0/10 [00:00<?, ?it/s]"
      ]
     },
     "metadata": {},
     "output_type": "display_data"
    },
    {
     "name": "stdout",
     "output_type": "stream",
     "text": [
      "0.0 0.0 | 0.0 0.0 | 0.0 0.0 | 0.0 0.0 | 0.0 0.0 | 0.0 0.0 | 0.0 0.0 | 1.0 1.0 | 0.0 0.0 | 0.0 0.0 | \n"
     ]
    },
    {
     "data": {
      "application/vnd.jupyter.widget-view+json": {
       "model_id": "81e81299b42141299ff19afee37f68d4",
       "version_major": 2,
       "version_minor": 0
      },
      "text/plain": [
       "targets:   0%|          | 0/10 [00:00<?, ?it/s]"
      ]
     },
     "metadata": {},
     "output_type": "display_data"
    },
    {
     "name": "stdout",
     "output_type": "stream",
     "text": [
      "0.0 0.0 | 2.0 2.0 | 0.0 0.0 | 0.0 0.0 | 0.0 0.0 | 0.0 0.0 | 0.0 0.0 | 0.0 0.0 | 0.0 0.0 | 0.0 0.0 | \n"
     ]
    },
    {
     "data": {
      "application/vnd.jupyter.widget-view+json": {
       "model_id": "b687004cbf294cac81654ba3b73fb905",
       "version_major": 2,
       "version_minor": 0
      },
      "text/plain": [
       "targets:   0%|          | 0/10 [00:00<?, ?it/s]"
      ]
     },
     "metadata": {},
     "output_type": "display_data"
    },
    {
     "name": "stdout",
     "output_type": "stream",
     "text": [
      "1.0 1.0 | 0.0 0.0 | 1.0 1.0 | 1.0 1.0 | 1.0 1.0 | 0.0 0.0 | 1.0 1.0 | 1.0 1.0 | 2.0 2.0 | 1.0 1.0 | \n"
     ]
    },
    {
     "data": {
      "application/vnd.jupyter.widget-view+json": {
       "model_id": "bae165f8f63e45a1a227324b86bafcf2",
       "version_major": 2,
       "version_minor": 0
      },
      "text/plain": [
       "targets:   0%|          | 0/10 [00:00<?, ?it/s]"
      ]
     },
     "metadata": {},
     "output_type": "display_data"
    },
    {
     "name": "stdout",
     "output_type": "stream",
     "text": [
      "0.0 0.0 | 0.0 0.0 | 0.0 0.0 | 0.0 0.0 | 0.0 0.0 | 0.0 0.0 | 0.0 0.0 | 0.0 0.0 | 0.0 0.0 | 0.0 0.0 | \n"
     ]
    },
    {
     "data": {
      "application/vnd.jupyter.widget-view+json": {
       "model_id": "7f7bdf959ac64257980e311ff5d31997",
       "version_major": 2,
       "version_minor": 0
      },
      "text/plain": [
       "targets:   0%|          | 0/10 [00:00<?, ?it/s]"
      ]
     },
     "metadata": {},
     "output_type": "display_data"
    },
    {
     "name": "stdout",
     "output_type": "stream",
     "text": [
      "0.0 0.0 | 0.0 0.0 | 0.0 0.0 | 0.0 0.0 | 0.0 0.0 | 0.0 0.0 | 0.0 0.0 | 0.0 0.0 | 0.0 0.0 | 0.0 0.0 | \n"
     ]
    },
    {
     "data": {
      "application/vnd.jupyter.widget-view+json": {
       "model_id": "8da14e14194044c492e9170e3753cc87",
       "version_major": 2,
       "version_minor": 0
      },
      "text/plain": [
       "targets:   0%|          | 0/10 [00:00<?, ?it/s]"
      ]
     },
     "metadata": {},
     "output_type": "display_data"
    },
    {
     "name": "stdout",
     "output_type": "stream",
     "text": [
      "0.0 0.0 | 0.0 0.0 | 1.0 1.0 | 0.0 0.0 | 0.0 0.0 | 0.0 0.0 | 0.0 0.0 | 0.0 0.0 | 0.0 0.0 | 0.0 0.0 | \n"
     ]
    },
    {
     "data": {
      "application/vnd.jupyter.widget-view+json": {
       "model_id": "513684af09534ed88dc2cbb7172cf14a",
       "version_major": 2,
       "version_minor": 0
      },
      "text/plain": [
       "targets:   0%|          | 0/10 [00:00<?, ?it/s]"
      ]
     },
     "metadata": {},
     "output_type": "display_data"
    },
    {
     "name": "stdout",
     "output_type": "stream",
     "text": [
      "0.0 0.0 | 0.0 0.0 | 0.0 0.0 | 0.0 0.0 | 0.0 0.0 | 0.0 0.0 | 0.0 0.0 | 0.0 0.0 | 0.0 0.0 | 0.0 0.0 | \n"
     ]
    },
    {
     "data": {
      "application/vnd.jupyter.widget-view+json": {
       "model_id": "94a6656c410f4859856fa52ce1de03fd",
       "version_major": 2,
       "version_minor": 0
      },
      "text/plain": [
       "targets:   0%|          | 0/10 [00:00<?, ?it/s]"
      ]
     },
     "metadata": {},
     "output_type": "display_data"
    },
    {
     "name": "stdout",
     "output_type": "stream",
     "text": [
      "0.0 0.0 | 0.0 0.0 | 0.0 0.0 | 0.0 0.0 | 0.0 0.0 | 0.0 0.0 | 0.0 0.0 | 0.0 0.0 | 0.0 0.0 | 0.0 0.0 | \n"
     ]
    },
    {
     "data": {
      "application/vnd.jupyter.widget-view+json": {
       "model_id": "afbf41fee9ce464498d418c6b4228953",
       "version_major": 2,
       "version_minor": 0
      },
      "text/plain": [
       "targets:   0%|          | 0/10 [00:00<?, ?it/s]"
      ]
     },
     "metadata": {},
     "output_type": "display_data"
    },
    {
     "name": "stdout",
     "output_type": "stream",
     "text": [
      "0.0 0.0 | 0.0 0.0 | 0.0 0.0 | 0.0 0.0 | 0.0 0.0 | 0.0 0.0 | 0.0 0.0 | 0.0 0.0 | 0.0 0.0 | 0.0 0.0 | \n"
     ]
    },
    {
     "data": {
      "application/vnd.jupyter.widget-view+json": {
       "model_id": "879a6e5c22014096b68d201fc316225a",
       "version_major": 2,
       "version_minor": 0
      },
      "text/plain": [
       "targets:   0%|          | 0/10 [00:00<?, ?it/s]"
      ]
     },
     "metadata": {},
     "output_type": "display_data"
    },
    {
     "name": "stdout",
     "output_type": "stream",
     "text": [
      "1.0 1.0 | 0.0 0.0 | 0.0 0.0 | 0.0 0.0 | 0.0 0.0 | 0.0 0.0 | 0.0 0.0 | 0.0 0.0 | 1.0 1.0 | 0.0 0.0 | \n",
      "528.0619425773621\n"
     ]
    }
   ],
   "source": [
    "tic = time.time()\n",
    "for q, ts in zip(tqdm(queries, 'queries'), topk):\n",
    "    for ti in tqdm(ts, 'targets'):\n",
    "        node_map, (lb, ub) = pyged.sed_align(utils.to_pyged(q), utils.to_pyged(nbrs[ti]), 'f2', '')\n",
    "        print(lb, ub, end = ' | ')\n",
    "    print()\n",
    "toc = time.time()\n",
    "print(toc-tic)"
   ]
  },
  {
   "cell_type": "code",
   "execution_count": 17,
   "id": "577fe9c6-1b0c-43df-8e4f-2290dd322d54",
   "metadata": {},
   "outputs": [
    {
     "data": {
      "application/vnd.jupyter.widget-view+json": {
       "model_id": "0317b4b02ba34f40b00aeb492a10b759",
       "version_major": 2,
       "version_minor": 0
      },
      "text/plain": [
       "queries:   0%|          | 0/10 [00:00<?, ?it/s]"
      ]
     },
     "metadata": {},
     "output_type": "display_data"
    },
    {
     "data": {
      "application/vnd.jupyter.widget-view+json": {
       "model_id": "9ba744b854e24b31b5700d55dbbbab3b",
       "version_major": 2,
       "version_minor": 0
      },
      "text/plain": [
       "targets:   0%|          | 0/10 [00:00<?, ?it/s]"
      ]
     },
     "metadata": {},
     "output_type": "display_data"
    },
    {
     "name": "stdout",
     "output_type": "stream",
     "text": [
      "0.0 0.0 | 0.0 0.0 | 0.0 0.0 | 0.0 0.0 | 0.0 0.0 | 0.0 0.0 | 0.0 0.0 | 1.0 1.0 | 0.0 0.0 | 0.0 0.0 | \n"
     ]
    },
    {
     "data": {
      "application/vnd.jupyter.widget-view+json": {
       "model_id": "66bd88099c5548b3857f7315083d9162",
       "version_major": 2,
       "version_minor": 0
      },
      "text/plain": [
       "targets:   0%|          | 0/10 [00:00<?, ?it/s]"
      ]
     },
     "metadata": {},
     "output_type": "display_data"
    },
    {
     "name": "stdout",
     "output_type": "stream",
     "text": [
      "0.0 0.0 | 2.0 2.0 | 0.0 0.0 | 0.0 0.0 | 0.0 0.0 | 0.0 0.0 | 0.0 0.0 | 0.0 0.0 | 0.0 0.0 | 0.0 0.0 | \n"
     ]
    },
    {
     "data": {
      "application/vnd.jupyter.widget-view+json": {
       "model_id": "ec0525e1f9744d499945ae4c146386ea",
       "version_major": 2,
       "version_minor": 0
      },
      "text/plain": [
       "targets:   0%|          | 0/10 [00:00<?, ?it/s]"
      ]
     },
     "metadata": {},
     "output_type": "display_data"
    },
    {
     "name": "stdout",
     "output_type": "stream",
     "text": [
      "1.0 1.0 | 0.0 0.0 | 1.0 1.0 | 1.0 1.0 | 1.0 1.0 | 0.0 0.0 | 1.0 1.0 | 1.0 1.0 | 2.0 2.0 | 1.0 1.0 | \n"
     ]
    },
    {
     "data": {
      "application/vnd.jupyter.widget-view+json": {
       "model_id": "af387f11470941279157cb9c67e873bf",
       "version_major": 2,
       "version_minor": 0
      },
      "text/plain": [
       "targets:   0%|          | 0/10 [00:00<?, ?it/s]"
      ]
     },
     "metadata": {},
     "output_type": "display_data"
    },
    {
     "name": "stdout",
     "output_type": "stream",
     "text": [
      "0.0 0.0 | 0.0 0.0 | 0.0 0.0 | 0.0 0.0 | 0.0 0.0 | 0.0 0.0 | 0.0 0.0 | 0.0 0.0 | 0.0 0.0 | 0.0 0.0 | \n"
     ]
    },
    {
     "data": {
      "application/vnd.jupyter.widget-view+json": {
       "model_id": "695068190fb040639304d23c541b319b",
       "version_major": 2,
       "version_minor": 0
      },
      "text/plain": [
       "targets:   0%|          | 0/10 [00:00<?, ?it/s]"
      ]
     },
     "metadata": {},
     "output_type": "display_data"
    },
    {
     "name": "stdout",
     "output_type": "stream",
     "text": [
      "0.0 0.0 | 0.0 0.0 | 0.0 0.0 | 0.0 0.0 | 0.0 0.0 | 0.0 0.0 | 0.0 0.0 | 0.0 0.0 | 0.0 0.0 | 0.0 0.0 | \n"
     ]
    },
    {
     "data": {
      "application/vnd.jupyter.widget-view+json": {
       "model_id": "0b1e60f0d7c24324940d1b0443828d35",
       "version_major": 2,
       "version_minor": 0
      },
      "text/plain": [
       "targets:   0%|          | 0/10 [00:00<?, ?it/s]"
      ]
     },
     "metadata": {},
     "output_type": "display_data"
    },
    {
     "name": "stdout",
     "output_type": "stream",
     "text": [
      "0.0 0.0 | 0.0 0.0 | 1.0 1.0 | 0.0 0.0 | 0.0 0.0 | 0.0 0.0 | 0.0 0.0 | 0.0 0.0 | 0.0 0.0 | 0.0 0.0 | \n"
     ]
    },
    {
     "data": {
      "application/vnd.jupyter.widget-view+json": {
       "model_id": "5be05e6d86c442ac881722e225e6eddd",
       "version_major": 2,
       "version_minor": 0
      },
      "text/plain": [
       "targets:   0%|          | 0/10 [00:00<?, ?it/s]"
      ]
     },
     "metadata": {},
     "output_type": "display_data"
    },
    {
     "name": "stdout",
     "output_type": "stream",
     "text": [
      "0.0 0.0 | 0.0 0.0 | 0.0 0.0 | 0.0 0.0 | 0.0 0.0 | 0.0 0.0 | 0.0 0.0 | 0.0 0.0 | 0.0 0.0 | 0.0 0.0 | \n"
     ]
    },
    {
     "data": {
      "application/vnd.jupyter.widget-view+json": {
       "model_id": "f8fb4fcd6d3b459b8e37ddd1f43b5c20",
       "version_major": 2,
       "version_minor": 0
      },
      "text/plain": [
       "targets:   0%|          | 0/10 [00:00<?, ?it/s]"
      ]
     },
     "metadata": {},
     "output_type": "display_data"
    },
    {
     "name": "stdout",
     "output_type": "stream",
     "text": [
      "0.0 0.0 | 0.0 0.0 | 0.0 0.0 | 0.0 0.0 | 0.0 0.0 | 0.0 0.0 | 0.0 0.0 | 0.0 0.0 | 0.0 0.0 | 0.0 0.0 | \n"
     ]
    },
    {
     "data": {
      "application/vnd.jupyter.widget-view+json": {
       "model_id": "3af577b8fd7f4b898f933b1916aa04c0",
       "version_major": 2,
       "version_minor": 0
      },
      "text/plain": [
       "targets:   0%|          | 0/10 [00:00<?, ?it/s]"
      ]
     },
     "metadata": {},
     "output_type": "display_data"
    },
    {
     "name": "stdout",
     "output_type": "stream",
     "text": [
      "0.0 0.0 | 0.0 0.0 | 0.0 0.0 | 0.0 0.0 | 0.0 0.0 | 0.0 0.0 | 0.0 0.0 | 0.0 0.0 | 0.0 0.0 | 0.0 0.0 | \n"
     ]
    },
    {
     "data": {
      "application/vnd.jupyter.widget-view+json": {
       "model_id": "1f8a9f0e7f7e406390c46e8d0c0554d3",
       "version_major": 2,
       "version_minor": 0
      },
      "text/plain": [
       "targets:   0%|          | 0/10 [00:00<?, ?it/s]"
      ]
     },
     "metadata": {},
     "output_type": "display_data"
    },
    {
     "name": "stdout",
     "output_type": "stream",
     "text": [
      "1.0 1.0 | 0.0 0.0 | 0.0 0.0 | 0.0 0.0 | 0.0 0.0 | 0.0 0.0 | 0.0 0.0 | 0.0 0.0 | 1.0 1.0 | 0.0 0.0 | \n",
      "314.4020688533783\n"
     ]
    }
   ],
   "source": [
    "tic = time.time()\n",
    "for q, ts in zip(tqdm(queries, 'queries'), topk):\n",
    "    for ti in tqdm(ts, 'targets'):\n",
    "        node_map, (lb, ub) = pyged.sed_align(utils.to_pyged(q), utils.to_pyged(nbrs[ti]), 'f2', '--threads 64')\n",
    "        print(lb, ub, end = ' | ')\n",
    "    print()\n",
    "toc = time.time()\n",
    "print(toc-tic)"
   ]
  },
  {
   "cell_type": "code",
   "execution_count": null,
   "id": "6a7ae862-aeea-4591-9e5b-0812cec3fa1d",
   "metadata": {},
   "outputs": [],
   "source": []
  }
 ],
 "metadata": {
  "kernelspec": {
   "display_name": "Python 3",
   "language": "python",
   "name": "python3"
  },
  "language_info": {
   "codemirror_mode": {
    "name": "ipython",
    "version": 3
   },
   "file_extension": ".py",
   "mimetype": "text/x-python",
   "name": "python",
   "nbconvert_exporter": "python",
   "pygments_lexer": "ipython3",
   "version": "3.6.13"
  }
 },
 "nbformat": 4,
 "nbformat_minor": 5
}
