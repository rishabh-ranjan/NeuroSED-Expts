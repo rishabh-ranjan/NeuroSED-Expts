{
 "cells": [
  {
   "cell_type": "code",
   "execution_count": 1,
   "id": "432d6d23-b00d-4c72-81e5-a6b18e880036",
   "metadata": {},
   "outputs": [],
   "source": [
    "CUDA_INDEX = 1\n",
    "NAME = 'PubMed'\n",
    "CLASSES = 3"
   ]
  },
  {
   "cell_type": "code",
   "execution_count": 2,
   "id": "9b10d1b3-bd2f-4d89-aaf0-40654efbd9ef",
   "metadata": {},
   "outputs": [],
   "source": [
    "import sys\n",
    "sys.path.insert(0, '../..')\n",
    "sys.path.insert(0, '../../pyged/lib')"
   ]
  },
  {
   "cell_type": "code",
   "execution_count": 3,
   "id": "429ab5f3-27f1-4ce7-a371-5a69c529d303",
   "metadata": {},
   "outputs": [
    {
     "data": {
      "text/plain": [
       "<module 'neuro.viz' from '../../neuro/viz.py'>"
      ]
     },
     "execution_count": 3,
     "metadata": {},
     "output_type": "execute_result"
    }
   ],
   "source": [
    "import os\n",
    "import pickle\n",
    "import random\n",
    "import time\n",
    "\n",
    "import IPython as ipy\n",
    "import matplotlib.pyplot as plt\n",
    "import numpy as np\n",
    "import torch\n",
    "torch.cuda.set_device(CUDA_INDEX)\n",
    "torch.backends.cudnn.benchmark = True\n",
    "import torch.optim\n",
    "import torch_geometric as tg\n",
    "import torch_geometric.data\n",
    "from tqdm.auto import tqdm\n",
    "\n",
    "from neuro import config, datasets, index, metrics, models, train, utils, viz\n",
    "import pyged\n",
    "\n",
    "from importlib import reload\n",
    "reload(config)\n",
    "reload(datasets)\n",
    "reload(index)\n",
    "reload(metrics)\n",
    "reload(models)\n",
    "reload(pyged)\n",
    "reload(train)\n",
    "reload(utils)\n",
    "reload(viz)"
   ]
  },
  {
   "cell_type": "code",
   "execution_count": 4,
   "id": "b56516dd-f7e5-42ca-963f-e893282e991f",
   "metadata": {},
   "outputs": [
    {
     "data": {
      "text/plain": [
       "<module 'neuro.h2mn_utils' from '../../neuro/h2mn_utils.py'>"
      ]
     },
     "execution_count": 4,
     "metadata": {},
     "output_type": "execute_result"
    }
   ],
   "source": [
    "import ext.H2MN as h2mn\n",
    "import ext.H2MN.models\n",
    "from neuro import h2mn_utils\n",
    "\n",
    "reload(h2mn)\n",
    "reload(h2mn_utils)"
   ]
  },
  {
   "cell_type": "code",
   "execution_count": 5,
   "id": "8d972ba3-9375-4e69-931d-f1094fa9f289",
   "metadata": {},
   "outputs": [],
   "source": [
    "# graphs = utils.remove_extra_attrs(utils.label_graphs(tg.datasets.CitationFull(root=f'../data/{NAME}/tg', name=f'{NAME}')))"
   ]
  },
  {
   "cell_type": "code",
   "execution_count": 6,
   "id": "51e8b396-4297-48a6-b277-3cc87a6aa412",
   "metadata": {},
   "outputs": [],
   "source": [
    "# tic = time.time()\n",
    "# nbrs = datasets.decompose(graphs, n_hops=2)\n",
    "# toc = time.time()\n",
    "# torch.save(nbrs, f'../data/{NAME}/nbrs.pt')\n",
    "# tqdm.write(f'neighborhood decomposition time: {toc-tic:.3} s')\n",
    "nbrs = torch.load(f'/data/rishabh/neurosim/final/data/{NAME}/nbrs.pt')"
   ]
  },
  {
   "cell_type": "code",
   "execution_count": 5,
   "id": "ef58d72c-d610-4ae2-9e80-8eb7701812bf",
   "metadata": {},
   "outputs": [],
   "source": [
    "# queries = datasets.make_queries(nbrs, n_queries=10, n_hops=2, trav_prob=0.4, node_lim=25)\n",
    "# torch.save(queries, f'../retrvs/{NAME}/queries.pt')\n",
    "queries = torch.load(f'../retrvs/{NAME}/queries.pt', map_location='cpu')"
   ]
  },
  {
   "cell_type": "code",
   "execution_count": 6,
   "id": "0237bbf2-c71e-4898-aee2-113807d81be5",
   "metadata": {},
   "outputs": [],
   "source": [
    "model = models.NormSEDModel(8, CLASSES, 64, 64)\n",
    "model.load_state_dict(torch.load(f'../runlogs/{NAME}/1621887700.5921354/best_model.pt', map_location='cpu'))\n",
    "model = model.eval()\n",
    "model = model.to(config.device)"
   ]
  },
  {
   "cell_type": "code",
   "execution_count": 9,
   "id": "6005510d-fcab-4dbf-8354-f5fbdeabfa2d",
   "metadata": {},
   "outputs": [],
   "source": [
    "rw_path = f'/home/neuroGQuery/siddharth/H2MN/ckpt/{NAME}-RW'\n",
    "rw_args = torch.load(os.path.join(rw_path, 'args.pt'), map_location='cpu')\n",
    "rw_model = h2mn.models.Model(rw_args)\n",
    "rw_model.load_state_dict(torch.load(os.path.join(rw_path, 'model.pth'), map_location='cpu'))\n",
    "rw_model = rw_model.eval()\n",
    "rw_model = rw_model.to(config.device)\n",
    "rw_dist_fn = h2mn_utils.DistancePredictor(rw_model, batch_size=512)"
   ]
  },
  {
   "cell_type": "code",
   "execution_count": 10,
   "id": "c62cd14a-fa35-46ec-bcb3-875815b1b47d",
   "metadata": {},
   "outputs": [],
   "source": [
    "ne_path = f'/home/neuroGQuery/siddharth/H2MN/ckpt/{NAME}_K2-NE'\n",
    "ne_args = torch.load(os.path.join(ne_path, 'args.pt'), map_location='cpu')\n",
    "ne_model = h2mn.models.Model(ne_args)\n",
    "ne_model.load_state_dict(torch.load(os.path.join(ne_path, 'model.pth'), map_location='cpu'))\n",
    "ne_model = ne_model.eval()\n",
    "ne_model = ne_model.to(config.device)\n",
    "ne_dist_fn = h2mn_utils.DistancePredictor(ne_model, batch_size=512)"
   ]
  },
  {
   "cell_type": "code",
   "execution_count": 9,
   "id": "7f64c613-92b4-44fa-9fc1-b553525a022b",
   "metadata": {},
   "outputs": [
    {
     "data": {
      "application/vnd.jupyter.widget-view+json": {
       "model_id": "46e31abc77c1490c81b825f9ba218934",
       "version_major": 2,
       "version_minor": 0
      },
      "text/plain": [
       "target batches:   0%|          | 0/5 [00:00<?, ?it/s]"
      ]
     },
     "metadata": {},
     "output_type": "display_data"
    },
    {
     "name": "stdout",
     "output_type": "stream",
     "text": [
      "total target embedding time: 1.46 s\n",
      "per target embedding time: 7.41e-05 s\n"
     ]
    }
   ],
   "source": [
    "# tic = time.time()\n",
    "# target_embs_list = []\n",
    "# batch_size = 4096\n",
    "# with torch.no_grad():\n",
    "#     for i in tqdm(range(0,len(nbrs),batch_size), 'target batches'):\n",
    "#         target_embs_list.append(model.embed_model(tg.data.Batch.from_data_list(nbrs[i:i+batch_size]).to(config.device)))\n",
    "# target_embs = torch.cat(target_embs_list)\n",
    "# toc = time.time()\n",
    "# tqdm.write(f'total target embedding time: {toc-tic:.3} s')\n",
    "# tqdm.write(f'per target embedding time: {(toc-tic)/len(nbrs):.3} s')\n",
    "# torch.save(target_embs, f'../retrvs/{NAME}/target_embs.pt')\n",
    "target_embs = torch.load(f'../retrvs/{NAME}/target_embs.pt', map_location='cpu')"
   ]
  },
  {
   "cell_type": "code",
   "execution_count": 19,
   "id": "9b7e7299-1f2c-4fa5-a310-1c015016bb3b",
   "metadata": {},
   "outputs": [
    {
     "name": "stdout",
     "output_type": "stream",
     "text": [
      "total query embedding time: 0.00766 s\n",
      "per query embedding time: 0.000766 s\n"
     ]
    }
   ],
   "source": [
    "tic = time.time()\n",
    "with torch.no_grad():\n",
    "    query_embs = model.embed_model(tg.data.Batch.from_data_list(queries).to(config.device))\n",
    "toc = time.time()\n",
    "tqdm.write(f'total query embedding time: {toc-tic:.3} s')\n",
    "tqdm.write(f'per query embedding time: {(toc-tic)/len(queries):.3} s')\n",
    "# torch.save(query_embs, f'../retrvs/{NAME}/query_embs.pt')\n",
    "# query_embs = torch.load(f'../retrvs/{NAME}/query_embs.pt', map_location='cpu')"
   ]
  },
  {
   "cell_type": "code",
   "execution_count": 9,
   "id": "bc895ebf-7d83-4a4a-b1b2-6658001a7377",
   "metadata": {},
   "outputs": [
    {
     "ename": "NameError",
     "evalue": "name 'target_embs' is not defined",
     "output_type": "error",
     "traceback": [
      "\u001b[0;31m---------------------------------------------------------------------------\u001b[0m",
      "\u001b[0;31mNameError\u001b[0m                                 Traceback (most recent call last)",
      "\u001b[0;32m<ipython-input-9-e5258e42fb42>\u001b[0m in \u001b[0;36m<module>\u001b[0;34m\u001b[0m\n\u001b[0;32m----> 1\u001b[0;31m \u001b[0mtemb\u001b[0m \u001b[0;34m=\u001b[0m \u001b[0mtarget_embs\u001b[0m\u001b[0;34m\u001b[0m\u001b[0;34m\u001b[0m\u001b[0m\n\u001b[0m\u001b[1;32m      2\u001b[0m \u001b[0mqemb\u001b[0m \u001b[0;34m=\u001b[0m \u001b[0mquery_embs\u001b[0m\u001b[0;34m\u001b[0m\u001b[0;34m\u001b[0m\u001b[0m\n",
      "\u001b[0;31mNameError\u001b[0m: name 'target_embs' is not defined"
     ]
    }
   ],
   "source": [
    "temb = target_embs\n",
    "qemb = query_embs"
   ]
  },
  {
   "cell_type": "code",
   "execution_count": 10,
   "id": "6d7116c3-9071-433a-81d1-4cb4176db010",
   "metadata": {},
   "outputs": [
    {
     "data": {
      "application/vnd.jupyter.widget-view+json": {
       "model_id": "ec8cd7774dfc4dd49333d4b059bceeac",
       "version_major": 2,
       "version_minor": 0
      },
      "text/plain": [
       "graphs:   0%|          | 0/19717 [00:00<?, ?it/s]"
      ]
     },
     "metadata": {},
     "output_type": "display_data"
    },
    {
     "name": "stdout",
     "output_type": "stream",
     "text": [
      "total target preprocessing time (H2MN): 2.69 s\n",
      "per target preprocessing time (H2MN): 0.000137 s\n"
     ]
    }
   ],
   "source": [
    "tic = time.time()\n",
    "with torch.no_grad():\n",
    "    target_list_h2mn = h2mn_utils.preprocess(nbrs, rw_args.max_degree)\n",
    "toc = time.time()\n",
    "tqdm.write(f'total target preprocessing time (H2MN): {toc-tic:.3} s')\n",
    "tqdm.write(f'per target preprocessing time (H2MN): {(toc-tic)/len(nbrs):.3} s')\n",
    "# torch.save(target_list_h2mn, f'../retrvs/{NAME}/target_list_h2mn.pt')\n",
    "# target_list_h2mn = torch.load(f'../retrvs/{NAME}/target_list_h2mn.pt', map_location='cpu')"
   ]
  },
  {
   "cell_type": "code",
   "execution_count": 11,
   "id": "811478e0-2ed1-48ed-8d75-79119af74572",
   "metadata": {},
   "outputs": [
    {
     "data": {
      "application/vnd.jupyter.widget-view+json": {
       "model_id": "badbca8b130647568f75215a02ca0465",
       "version_major": 2,
       "version_minor": 0
      },
      "text/plain": [
       "graphs:   0%|          | 0/10 [00:00<?, ?it/s]"
      ]
     },
     "metadata": {},
     "output_type": "display_data"
    },
    {
     "name": "stdout",
     "output_type": "stream",
     "text": [
      "total query preprocessing time (H2MN): 0.0306 s\n",
      "per query preprocessing time (H2MN): 0.00306 s\n"
     ]
    }
   ],
   "source": [
    "tic = time.time()\n",
    "with torch.no_grad():\n",
    "    query_list_h2mn = h2mn_utils.preprocess(queries, rw_args.max_degree)\n",
    "toc = time.time()\n",
    "tqdm.write(f'total query preprocessing time (H2MN): {toc-tic:.3} s')\n",
    "tqdm.write(f'per query preprocessing time (H2MN): {(toc-tic)/len(queries):.3} s')\n",
    "# torch.save(query_list_h2mn, f'../retrvs/{NAME}/query_list_h2mn.pt')\n",
    "# query_list_h2mn = torch.load(f'../retrvs/{NAME}/query_list_h2mn.pt', map_location='cpu')"
   ]
  },
  {
   "cell_type": "code",
   "execution_count": 16,
   "id": "efbf447d-d142-48ef-a02e-a8b2993146b3",
   "metadata": {},
   "outputs": [],
   "source": [
    "tobj_h2mn = target_list_h2mn\n",
    "qobj_h2mn = query_list_h2mn"
   ]
  },
  {
   "cell_type": "markdown",
   "id": "43d06eae-84d9-45c2-96fb-a9216c70c224",
   "metadata": {
    "tags": []
   },
   "source": [
    "## Vectorised Linear Scan on GPU"
   ]
  },
  {
   "cell_type": "code",
   "execution_count": 17,
   "id": "aa505308-9924-4200-84ba-5c5583b97461",
   "metadata": {},
   "outputs": [
    {
     "name": "stdout",
     "output_type": "stream",
     "text": [
      "fast (vectorised) linear scan index\n",
      "config.device: cuda\n",
      "preprocessing time: 0.000484 s\n"
     ]
    }
   ],
   "source": [
    "config.device = torch.device('cuda')\n",
    "tic = time.time()\n",
    "index_str = index.FastLinearScan(temb, dist_fn=utils.norm_sed_func)\n",
    "toc = time.time()\n",
    "tqdm.write(f'preprocessing time: {toc-tic:.3} s')"
   ]
  },
  {
   "cell_type": "code",
   "execution_count": 18,
   "id": "ede9d38d-15d3-4a7a-9bf9-a9351f994847",
   "metadata": {
    "tags": []
   },
   "outputs": [
    {
     "data": {
      "application/vnd.jupyter.widget-view+json": {
       "model_id": "444d6660171a42e698034f6b1fd138ed",
       "version_major": 2,
       "version_minor": 0
      },
      "text/plain": [
       "k = 10 | queries:   0%|          | 0/10 [00:00<?, ?it/s]"
      ]
     },
     "metadata": {},
     "output_type": "display_data"
    },
    {
     "name": "stdout",
     "output_type": "stream",
     "text": [
      "time per query in s: 0.00441\n"
     ]
    }
   ],
   "source": [
    "k = 10\n",
    "tic = time.time()\n",
    "for q in tqdm(qemb, f'k = {k} | queries'):\n",
    "    index_str.knn_query(q, k, verbose=False)\n",
    "toc = time.time()\n",
    "tqdm.write('time per query in s: ' f'{(toc-tic)/qemb.shape[0]:.3}')"
   ]
  },
  {
   "cell_type": "code",
   "execution_count": 19,
   "id": "73b80f03-d15d-4cfa-8a05-40657863c92e",
   "metadata": {
    "tags": []
   },
   "outputs": [
    {
     "data": {
      "application/vnd.jupyter.widget-view+json": {
       "model_id": "3688ed49164644539a72cad5b0dbdb69",
       "version_major": 2,
       "version_minor": 0
      },
      "text/plain": [
       "r = 2 | queries:   0%|          | 0/10 [00:00<?, ?it/s]"
      ]
     },
     "metadata": {},
     "output_type": "display_data"
    },
    {
     "name": "stdout",
     "output_type": "stream",
     "text": [
      "time per query in s: 0.00481\n"
     ]
    }
   ],
   "source": [
    "r = 2\n",
    "tic = time.time()\n",
    "for q in tqdm(qemb, f'r = {r} | queries'):\n",
    "    index_str.range_query(q, r, verbose=False)\n",
    "toc = time.time()\n",
    "tqdm.write('time per query in s: ' f'{(toc-tic)/qemb.shape[0]:.3}')"
   ]
  },
  {
   "cell_type": "code",
   "execution_count": 20,
   "id": "d111162d-d934-430c-9d34-71ee3de53fb1",
   "metadata": {},
   "outputs": [],
   "source": [
    "del index_str\n",
    "torch.cuda.empty_cache()"
   ]
  },
  {
   "cell_type": "code",
   "execution_count": 21,
   "id": "e6475dcf-f0dd-49c7-a1c8-9370a9b5fc78",
   "metadata": {},
   "outputs": [
    {
     "name": "stdout",
     "output_type": "stream",
     "text": [
      "fast (vectorised) linear scan index\n",
      "config.device: cuda\n",
      "preprocessing time: 0.000345 s\n"
     ]
    }
   ],
   "source": [
    "config.device = torch.device('cuda')\n",
    "tic = time.time()\n",
    "index_str = index.FastLinearScan(tobj_h2mn, dist_fn=rw_dist_fn)\n",
    "toc = time.time()\n",
    "tqdm.write(f'preprocessing time: {toc-tic:.3} s')"
   ]
  },
  {
   "cell_type": "code",
   "execution_count": 22,
   "id": "59a9801f-f282-4b3d-b744-ef2f623ef2cf",
   "metadata": {
    "tags": []
   },
   "outputs": [
    {
     "data": {
      "application/vnd.jupyter.widget-view+json": {
       "model_id": "b429339fc6e64763b2ebe2021e61174a",
       "version_major": 2,
       "version_minor": 0
      },
      "text/plain": [
       "k = 10 | queries:   0%|          | 0/10 [00:00<?, ?it/s]"
      ]
     },
     "metadata": {},
     "output_type": "display_data"
    },
    {
     "data": {
      "application/vnd.jupyter.widget-view+json": {
       "model_id": "0d9e948d2ddf4c7ba36252d4f5726edc",
       "version_major": 2,
       "version_minor": 0
      },
      "text/plain": [
       "batches:   0%|          | 0/39 [00:00<?, ?it/s]"
      ]
     },
     "metadata": {},
     "output_type": "display_data"
    },
    {
     "data": {
      "application/vnd.jupyter.widget-view+json": {
       "model_id": "6fed2f6fdd7e4192bad5dfd97e0a30f7",
       "version_major": 2,
       "version_minor": 0
      },
      "text/plain": [
       "batches:   0%|          | 0/39 [00:00<?, ?it/s]"
      ]
     },
     "metadata": {},
     "output_type": "display_data"
    },
    {
     "data": {
      "application/vnd.jupyter.widget-view+json": {
       "model_id": "4c4cc9cbfa5946fcbbb1629d0c71c703",
       "version_major": 2,
       "version_minor": 0
      },
      "text/plain": [
       "batches:   0%|          | 0/39 [00:00<?, ?it/s]"
      ]
     },
     "metadata": {},
     "output_type": "display_data"
    },
    {
     "data": {
      "application/vnd.jupyter.widget-view+json": {
       "model_id": "0e8a2ae7ca3d4193864f166735dc7dd6",
       "version_major": 2,
       "version_minor": 0
      },
      "text/plain": [
       "batches:   0%|          | 0/39 [00:00<?, ?it/s]"
      ]
     },
     "metadata": {},
     "output_type": "display_data"
    },
    {
     "data": {
      "application/vnd.jupyter.widget-view+json": {
       "model_id": "308d87426525494e84764eb6af80ff60",
       "version_major": 2,
       "version_minor": 0
      },
      "text/plain": [
       "batches:   0%|          | 0/39 [00:00<?, ?it/s]"
      ]
     },
     "metadata": {},
     "output_type": "display_data"
    },
    {
     "data": {
      "application/vnd.jupyter.widget-view+json": {
       "model_id": "2adb6479f41d487187cdda836a7005d2",
       "version_major": 2,
       "version_minor": 0
      },
      "text/plain": [
       "batches:   0%|          | 0/39 [00:00<?, ?it/s]"
      ]
     },
     "metadata": {},
     "output_type": "display_data"
    },
    {
     "data": {
      "application/vnd.jupyter.widget-view+json": {
       "model_id": "d342264a326d436aa0dfa32cd1a65983",
       "version_major": 2,
       "version_minor": 0
      },
      "text/plain": [
       "batches:   0%|          | 0/39 [00:00<?, ?it/s]"
      ]
     },
     "metadata": {},
     "output_type": "display_data"
    },
    {
     "data": {
      "application/vnd.jupyter.widget-view+json": {
       "model_id": "0420bb8171984898824aa921f6c486e4",
       "version_major": 2,
       "version_minor": 0
      },
      "text/plain": [
       "batches:   0%|          | 0/39 [00:00<?, ?it/s]"
      ]
     },
     "metadata": {},
     "output_type": "display_data"
    },
    {
     "data": {
      "application/vnd.jupyter.widget-view+json": {
       "model_id": "0ae34c475eee4295b99c211f70ecc3f2",
       "version_major": 2,
       "version_minor": 0
      },
      "text/plain": [
       "batches:   0%|          | 0/39 [00:00<?, ?it/s]"
      ]
     },
     "metadata": {},
     "output_type": "display_data"
    },
    {
     "data": {
      "application/vnd.jupyter.widget-view+json": {
       "model_id": "b0de37366ec64da8be9236ced3d1494a",
       "version_major": 2,
       "version_minor": 0
      },
      "text/plain": [
       "batches:   0%|          | 0/39 [00:00<?, ?it/s]"
      ]
     },
     "metadata": {},
     "output_type": "display_data"
    },
    {
     "name": "stdout",
     "output_type": "stream",
     "text": [
      "time per query in s: 27.5\n"
     ]
    }
   ],
   "source": [
    "k = 10\n",
    "tic = time.time()\n",
    "for q in tqdm(qobj_h2mn, f'k = {k} | queries'):\n",
    "    index_str.knn_query(q, k, verbose=False)\n",
    "toc = time.time()\n",
    "tqdm.write('time per query in s: ' f'{(toc-tic)/len(qobj_h2mn):.3}')"
   ]
  },
  {
   "cell_type": "code",
   "execution_count": 23,
   "id": "168dd13c-df55-450c-8dbf-c0a789c474f5",
   "metadata": {
    "tags": []
   },
   "outputs": [
    {
     "data": {
      "application/vnd.jupyter.widget-view+json": {
       "model_id": "97033284293843759aef09a25cb50bcb",
       "version_major": 2,
       "version_minor": 0
      },
      "text/plain": [
       "r = 2 | queries:   0%|          | 0/10 [00:00<?, ?it/s]"
      ]
     },
     "metadata": {},
     "output_type": "display_data"
    },
    {
     "data": {
      "application/vnd.jupyter.widget-view+json": {
       "model_id": "86c3638abfe24a74971f3ec92d9d2231",
       "version_major": 2,
       "version_minor": 0
      },
      "text/plain": [
       "batches:   0%|          | 0/39 [00:00<?, ?it/s]"
      ]
     },
     "metadata": {},
     "output_type": "display_data"
    },
    {
     "data": {
      "application/vnd.jupyter.widget-view+json": {
       "model_id": "243ba750113b4fca849e6bf0272088c4",
       "version_major": 2,
       "version_minor": 0
      },
      "text/plain": [
       "batches:   0%|          | 0/39 [00:00<?, ?it/s]"
      ]
     },
     "metadata": {},
     "output_type": "display_data"
    },
    {
     "data": {
      "application/vnd.jupyter.widget-view+json": {
       "model_id": "66e3e185fd5045aa8fd064326acb7b97",
       "version_major": 2,
       "version_minor": 0
      },
      "text/plain": [
       "batches:   0%|          | 0/39 [00:00<?, ?it/s]"
      ]
     },
     "metadata": {},
     "output_type": "display_data"
    },
    {
     "data": {
      "application/vnd.jupyter.widget-view+json": {
       "model_id": "21a361342bdc4475a7692bb426942f54",
       "version_major": 2,
       "version_minor": 0
      },
      "text/plain": [
       "batches:   0%|          | 0/39 [00:00<?, ?it/s]"
      ]
     },
     "metadata": {},
     "output_type": "display_data"
    },
    {
     "data": {
      "application/vnd.jupyter.widget-view+json": {
       "model_id": "fc7d024e07a74b93a2937e974918edcb",
       "version_major": 2,
       "version_minor": 0
      },
      "text/plain": [
       "batches:   0%|          | 0/39 [00:00<?, ?it/s]"
      ]
     },
     "metadata": {},
     "output_type": "display_data"
    },
    {
     "data": {
      "application/vnd.jupyter.widget-view+json": {
       "model_id": "e35a10774ea54a5396ec7df07efca34a",
       "version_major": 2,
       "version_minor": 0
      },
      "text/plain": [
       "batches:   0%|          | 0/39 [00:00<?, ?it/s]"
      ]
     },
     "metadata": {},
     "output_type": "display_data"
    },
    {
     "data": {
      "application/vnd.jupyter.widget-view+json": {
       "model_id": "c52a83648b26406abddf4e10b152473a",
       "version_major": 2,
       "version_minor": 0
      },
      "text/plain": [
       "batches:   0%|          | 0/39 [00:00<?, ?it/s]"
      ]
     },
     "metadata": {},
     "output_type": "display_data"
    },
    {
     "data": {
      "application/vnd.jupyter.widget-view+json": {
       "model_id": "7f492615f56145cbb9014737666c1061",
       "version_major": 2,
       "version_minor": 0
      },
      "text/plain": [
       "batches:   0%|          | 0/39 [00:00<?, ?it/s]"
      ]
     },
     "metadata": {},
     "output_type": "display_data"
    },
    {
     "data": {
      "application/vnd.jupyter.widget-view+json": {
       "model_id": "84543870c98044c8afee4004f4f206f7",
       "version_major": 2,
       "version_minor": 0
      },
      "text/plain": [
       "batches:   0%|          | 0/39 [00:00<?, ?it/s]"
      ]
     },
     "metadata": {},
     "output_type": "display_data"
    },
    {
     "data": {
      "application/vnd.jupyter.widget-view+json": {
       "model_id": "20f3f311eb9046fd893ffea5b3c9c189",
       "version_major": 2,
       "version_minor": 0
      },
      "text/plain": [
       "batches:   0%|          | 0/39 [00:00<?, ?it/s]"
      ]
     },
     "metadata": {},
     "output_type": "display_data"
    },
    {
     "name": "stdout",
     "output_type": "stream",
     "text": [
      "time per query in s: 26.7\n"
     ]
    }
   ],
   "source": [
    "r = 2\n",
    "tic = time.time()\n",
    "for q in tqdm(qobj_h2mn, f'r = {r} | queries'):\n",
    "    index_str.range_query(q, r, verbose=False)\n",
    "toc = time.time()\n",
    "tqdm.write('time per query in s: ' f'{(toc-tic)/len(qobj_h2mn):.3}')"
   ]
  },
  {
   "cell_type": "code",
   "execution_count": 24,
   "id": "aca275cc-36cf-4521-9341-0daf4582b113",
   "metadata": {},
   "outputs": [],
   "source": [
    "del index_str\n",
    "torch.cuda.empty_cache()"
   ]
  },
  {
   "cell_type": "code",
   "execution_count": 25,
   "id": "8516f410-be11-4b7a-aab0-817f31f3871f",
   "metadata": {},
   "outputs": [
    {
     "name": "stdout",
     "output_type": "stream",
     "text": [
      "fast (vectorised) linear scan index\n",
      "config.device: cuda\n",
      "preprocessing time: 0.000771 s\n"
     ]
    }
   ],
   "source": [
    "config.device = torch.device('cuda')\n",
    "tic = time.time()\n",
    "index_str = index.FastLinearScan(tobj_h2mn, dist_fn=ne_dist_fn)\n",
    "toc = time.time()\n",
    "tqdm.write(f'preprocessing time: {toc-tic:.3} s')"
   ]
  },
  {
   "cell_type": "code",
   "execution_count": 26,
   "id": "495983e4-5e7d-455d-bd2a-3e56a059a781",
   "metadata": {
    "tags": []
   },
   "outputs": [
    {
     "data": {
      "application/vnd.jupyter.widget-view+json": {
       "model_id": "559247d5235147d295ad31e8166bdc8d",
       "version_major": 2,
       "version_minor": 0
      },
      "text/plain": [
       "k = 10 | queries:   0%|          | 0/10 [00:00<?, ?it/s]"
      ]
     },
     "metadata": {},
     "output_type": "display_data"
    },
    {
     "data": {
      "application/vnd.jupyter.widget-view+json": {
       "model_id": "30e02272f0774d9e86a8ab038fc7dff9",
       "version_major": 2,
       "version_minor": 0
      },
      "text/plain": [
       "batches:   0%|          | 0/39 [00:00<?, ?it/s]"
      ]
     },
     "metadata": {},
     "output_type": "display_data"
    },
    {
     "data": {
      "application/vnd.jupyter.widget-view+json": {
       "model_id": "de426635e67040aaa600060ad190fb2a",
       "version_major": 2,
       "version_minor": 0
      },
      "text/plain": [
       "batches:   0%|          | 0/39 [00:00<?, ?it/s]"
      ]
     },
     "metadata": {},
     "output_type": "display_data"
    },
    {
     "data": {
      "application/vnd.jupyter.widget-view+json": {
       "model_id": "7fb858c341574eeebbefd9f0fd1d5b53",
       "version_major": 2,
       "version_minor": 0
      },
      "text/plain": [
       "batches:   0%|          | 0/39 [00:00<?, ?it/s]"
      ]
     },
     "metadata": {},
     "output_type": "display_data"
    },
    {
     "data": {
      "application/vnd.jupyter.widget-view+json": {
       "model_id": "d52ad222922147bd99f7a1b5dd563390",
       "version_major": 2,
       "version_minor": 0
      },
      "text/plain": [
       "batches:   0%|          | 0/39 [00:00<?, ?it/s]"
      ]
     },
     "metadata": {},
     "output_type": "display_data"
    },
    {
     "data": {
      "application/vnd.jupyter.widget-view+json": {
       "model_id": "8601f064a08f4a5c8c8eb895dad22110",
       "version_major": 2,
       "version_minor": 0
      },
      "text/plain": [
       "batches:   0%|          | 0/39 [00:00<?, ?it/s]"
      ]
     },
     "metadata": {},
     "output_type": "display_data"
    },
    {
     "data": {
      "application/vnd.jupyter.widget-view+json": {
       "model_id": "5d57b9d38a4e445fb6a014f849c942c4",
       "version_major": 2,
       "version_minor": 0
      },
      "text/plain": [
       "batches:   0%|          | 0/39 [00:00<?, ?it/s]"
      ]
     },
     "metadata": {},
     "output_type": "display_data"
    },
    {
     "data": {
      "application/vnd.jupyter.widget-view+json": {
       "model_id": "2747600545b44ac5a2bcdb2dbe6d058d",
       "version_major": 2,
       "version_minor": 0
      },
      "text/plain": [
       "batches:   0%|          | 0/39 [00:00<?, ?it/s]"
      ]
     },
     "metadata": {},
     "output_type": "display_data"
    },
    {
     "data": {
      "application/vnd.jupyter.widget-view+json": {
       "model_id": "12154587f9c84f679753071a6ba6b247",
       "version_major": 2,
       "version_minor": 0
      },
      "text/plain": [
       "batches:   0%|          | 0/39 [00:00<?, ?it/s]"
      ]
     },
     "metadata": {},
     "output_type": "display_data"
    },
    {
     "data": {
      "application/vnd.jupyter.widget-view+json": {
       "model_id": "01dbc12ac47f4938a659461c5806ed1a",
       "version_major": 2,
       "version_minor": 0
      },
      "text/plain": [
       "batches:   0%|          | 0/39 [00:00<?, ?it/s]"
      ]
     },
     "metadata": {},
     "output_type": "display_data"
    },
    {
     "data": {
      "application/vnd.jupyter.widget-view+json": {
       "model_id": "3a7e1a0f770a4043af31414c92e16d04",
       "version_major": 2,
       "version_minor": 0
      },
      "text/plain": [
       "batches:   0%|          | 0/39 [00:00<?, ?it/s]"
      ]
     },
     "metadata": {},
     "output_type": "display_data"
    },
    {
     "name": "stdout",
     "output_type": "stream",
     "text": [
      "time per query in s: 35.5\n"
     ]
    }
   ],
   "source": [
    "k = 10\n",
    "tic = time.time()\n",
    "for q in tqdm(qobj_h2mn, f'k = {k} | queries'):\n",
    "    index_str.knn_query(q, k, verbose=False)\n",
    "toc = time.time()\n",
    "tqdm.write('time per query in s: ' f'{(toc-tic)/len(qobj_h2mn):.3}')"
   ]
  },
  {
   "cell_type": "code",
   "execution_count": 27,
   "id": "73485652-78dc-4ead-967d-0852fa328aec",
   "metadata": {
    "tags": []
   },
   "outputs": [
    {
     "data": {
      "application/vnd.jupyter.widget-view+json": {
       "model_id": "4c209a05e66749a59d804e957f0650a1",
       "version_major": 2,
       "version_minor": 0
      },
      "text/plain": [
       "r = 2 | queries:   0%|          | 0/10 [00:00<?, ?it/s]"
      ]
     },
     "metadata": {},
     "output_type": "display_data"
    },
    {
     "data": {
      "application/vnd.jupyter.widget-view+json": {
       "model_id": "2cdbb6fb71104e49b7b53e2329ec2a60",
       "version_major": 2,
       "version_minor": 0
      },
      "text/plain": [
       "batches:   0%|          | 0/39 [00:00<?, ?it/s]"
      ]
     },
     "metadata": {},
     "output_type": "display_data"
    },
    {
     "data": {
      "application/vnd.jupyter.widget-view+json": {
       "model_id": "a5617e44ebf44a82aa6552b71abd1860",
       "version_major": 2,
       "version_minor": 0
      },
      "text/plain": [
       "batches:   0%|          | 0/39 [00:00<?, ?it/s]"
      ]
     },
     "metadata": {},
     "output_type": "display_data"
    },
    {
     "data": {
      "application/vnd.jupyter.widget-view+json": {
       "model_id": "46cac83ed6364a52b8d496ded462618b",
       "version_major": 2,
       "version_minor": 0
      },
      "text/plain": [
       "batches:   0%|          | 0/39 [00:00<?, ?it/s]"
      ]
     },
     "metadata": {},
     "output_type": "display_data"
    },
    {
     "data": {
      "application/vnd.jupyter.widget-view+json": {
       "model_id": "6557055b24ec4420bd5bafb3a93fa784",
       "version_major": 2,
       "version_minor": 0
      },
      "text/plain": [
       "batches:   0%|          | 0/39 [00:00<?, ?it/s]"
      ]
     },
     "metadata": {},
     "output_type": "display_data"
    },
    {
     "data": {
      "application/vnd.jupyter.widget-view+json": {
       "model_id": "62eeb0ef624b43bcad53e8ef171f3dad",
       "version_major": 2,
       "version_minor": 0
      },
      "text/plain": [
       "batches:   0%|          | 0/39 [00:00<?, ?it/s]"
      ]
     },
     "metadata": {},
     "output_type": "display_data"
    },
    {
     "data": {
      "application/vnd.jupyter.widget-view+json": {
       "model_id": "19e293b72b844936b3c74b3ea1f1c842",
       "version_major": 2,
       "version_minor": 0
      },
      "text/plain": [
       "batches:   0%|          | 0/39 [00:00<?, ?it/s]"
      ]
     },
     "metadata": {},
     "output_type": "display_data"
    },
    {
     "data": {
      "application/vnd.jupyter.widget-view+json": {
       "model_id": "bda6fbc9d44a4df6ab7edc30ba2d6161",
       "version_major": 2,
       "version_minor": 0
      },
      "text/plain": [
       "batches:   0%|          | 0/39 [00:00<?, ?it/s]"
      ]
     },
     "metadata": {},
     "output_type": "display_data"
    },
    {
     "data": {
      "application/vnd.jupyter.widget-view+json": {
       "model_id": "49b56d1cc83e46debc24b9a9d4173f7c",
       "version_major": 2,
       "version_minor": 0
      },
      "text/plain": [
       "batches:   0%|          | 0/39 [00:00<?, ?it/s]"
      ]
     },
     "metadata": {},
     "output_type": "display_data"
    },
    {
     "data": {
      "application/vnd.jupyter.widget-view+json": {
       "model_id": "b202ad91426843baaadd8239402346fa",
       "version_major": 2,
       "version_minor": 0
      },
      "text/plain": [
       "batches:   0%|          | 0/39 [00:00<?, ?it/s]"
      ]
     },
     "metadata": {},
     "output_type": "display_data"
    },
    {
     "data": {
      "application/vnd.jupyter.widget-view+json": {
       "model_id": "c326bb713bc64f27b48912baf5c4ac92",
       "version_major": 2,
       "version_minor": 0
      },
      "text/plain": [
       "batches:   0%|          | 0/39 [00:00<?, ?it/s]"
      ]
     },
     "metadata": {},
     "output_type": "display_data"
    },
    {
     "name": "stdout",
     "output_type": "stream",
     "text": [
      "time per query in s: 35.2\n"
     ]
    }
   ],
   "source": [
    "r = 2\n",
    "tic = time.time()\n",
    "for q in tqdm(qobj_h2mn, f'r = {r} | queries'):\n",
    "    index_str.range_query(q, r, verbose=False)\n",
    "toc = time.time()\n",
    "tqdm.write('time per query in s: ' f'{(toc-tic)/len(qobj_h2mn):.3}')"
   ]
  },
  {
   "cell_type": "code",
   "execution_count": 28,
   "id": "61ea3199-46f5-40de-91eb-023d8b874e33",
   "metadata": {},
   "outputs": [],
   "source": [
    "del index_str\n",
    "torch.cuda.empty_cache()"
   ]
  },
  {
   "cell_type": "markdown",
   "id": "d204d84a-c22c-4868-9db2-aa0498dcca2f",
   "metadata": {},
   "source": [
    "## Unvectorised Linear Scan on CPU (threads=1)"
   ]
  },
  {
   "cell_type": "code",
   "execution_count": 12,
   "id": "8e156a14-2a85-4071-a6e0-f2646c1e5976",
   "metadata": {},
   "outputs": [
    {
     "name": "stdout",
     "output_type": "stream",
     "text": [
      "slow (pythonic) linear scan index\n",
      "config.device: cpu\n",
      "preprocessing time: 0.000724 s\n"
     ]
    }
   ],
   "source": [
    "config.device = torch.device('cpu')\n",
    "torch.set_num_threads(1)\n",
    "tic = time.time()\n",
    "index_str = index.LinearScan(temb, dist_fn=utils.norm_sed_func)\n",
    "toc = time.time()\n",
    "tqdm.write(f'preprocessing time: {toc-tic:.3} s')\n",
    "index_str = index_str.to(config.device)"
   ]
  },
  {
   "cell_type": "code",
   "execution_count": 13,
   "id": "e4846f72-3a45-4925-8229-bfab87188828",
   "metadata": {
    "tags": []
   },
   "outputs": [
    {
     "data": {
      "application/vnd.jupyter.widget-view+json": {
       "model_id": "3aa93af82520438bb74d4ab02e5eabf2",
       "version_major": 2,
       "version_minor": 0
      },
      "text/plain": [
       "k = 10 | queries:   0%|          | 0/10 [00:00<?, ?it/s]"
      ]
     },
     "metadata": {},
     "output_type": "display_data"
    },
    {
     "data": {
      "application/vnd.jupyter.widget-view+json": {
       "model_id": "d5b555a9dde746e8a3a16b34f8b6e285",
       "version_major": 2,
       "version_minor": 0
      },
      "text/plain": [
       "targets:   0%|          | 0/19717 [00:00<?, ?it/s]"
      ]
     },
     "metadata": {},
     "output_type": "display_data"
    },
    {
     "data": {
      "application/vnd.jupyter.widget-view+json": {
       "model_id": "8dba06933d374ff1874c30e7fa08b4b1",
       "version_major": 2,
       "version_minor": 0
      },
      "text/plain": [
       "targets:   0%|          | 0/19717 [00:00<?, ?it/s]"
      ]
     },
     "metadata": {},
     "output_type": "display_data"
    },
    {
     "data": {
      "application/vnd.jupyter.widget-view+json": {
       "model_id": "491a07c30c394da19ec9587673dbf9f9",
       "version_major": 2,
       "version_minor": 0
      },
      "text/plain": [
       "targets:   0%|          | 0/19717 [00:00<?, ?it/s]"
      ]
     },
     "metadata": {},
     "output_type": "display_data"
    },
    {
     "data": {
      "application/vnd.jupyter.widget-view+json": {
       "model_id": "d321e927aa7b4374a83912fbcf2e887f",
       "version_major": 2,
       "version_minor": 0
      },
      "text/plain": [
       "targets:   0%|          | 0/19717 [00:00<?, ?it/s]"
      ]
     },
     "metadata": {},
     "output_type": "display_data"
    },
    {
     "data": {
      "application/vnd.jupyter.widget-view+json": {
       "model_id": "61e24edb0df843aba3eebaad3fc650f5",
       "version_major": 2,
       "version_minor": 0
      },
      "text/plain": [
       "targets:   0%|          | 0/19717 [00:00<?, ?it/s]"
      ]
     },
     "metadata": {},
     "output_type": "display_data"
    },
    {
     "data": {
      "application/vnd.jupyter.widget-view+json": {
       "model_id": "4a54adc21a204cb89a06c863a9839033",
       "version_major": 2,
       "version_minor": 0
      },
      "text/plain": [
       "targets:   0%|          | 0/19717 [00:00<?, ?it/s]"
      ]
     },
     "metadata": {},
     "output_type": "display_data"
    },
    {
     "data": {
      "application/vnd.jupyter.widget-view+json": {
       "model_id": "3ee89ebbd0a14eeb9f253841319c20dd",
       "version_major": 2,
       "version_minor": 0
      },
      "text/plain": [
       "targets:   0%|          | 0/19717 [00:00<?, ?it/s]"
      ]
     },
     "metadata": {},
     "output_type": "display_data"
    },
    {
     "data": {
      "application/vnd.jupyter.widget-view+json": {
       "model_id": "744dbe9a1fea450ebb1f033e36ce966e",
       "version_major": 2,
       "version_minor": 0
      },
      "text/plain": [
       "targets:   0%|          | 0/19717 [00:00<?, ?it/s]"
      ]
     },
     "metadata": {},
     "output_type": "display_data"
    },
    {
     "data": {
      "application/vnd.jupyter.widget-view+json": {
       "model_id": "abc40e8889ec44b0a2dbba00ba0149d1",
       "version_major": 2,
       "version_minor": 0
      },
      "text/plain": [
       "targets:   0%|          | 0/19717 [00:00<?, ?it/s]"
      ]
     },
     "metadata": {},
     "output_type": "display_data"
    },
    {
     "data": {
      "application/vnd.jupyter.widget-view+json": {
       "model_id": "c2050116d78340ebaff39341a64929f9",
       "version_major": 2,
       "version_minor": 0
      },
      "text/plain": [
       "targets:   0%|          | 0/19717 [00:00<?, ?it/s]"
      ]
     },
     "metadata": {},
     "output_type": "display_data"
    },
    {
     "name": "stdout",
     "output_type": "stream",
     "text": [
      "time per query in s: 1.01\n"
     ]
    }
   ],
   "source": [
    "k = 10\n",
    "tic = time.time()\n",
    "for q in tqdm(qemb, f'k = {k} | queries'):\n",
    "    index_str.knn_query(q, k, verbose=False)\n",
    "toc = time.time()\n",
    "tqdm.write('time per query in s: ' f'{(toc-tic)/qemb.shape[0]:.3}')"
   ]
  },
  {
   "cell_type": "code",
   "execution_count": 14,
   "id": "dda921a9-afcd-4ab3-910e-dffdcb58be39",
   "metadata": {
    "tags": []
   },
   "outputs": [
    {
     "data": {
      "application/vnd.jupyter.widget-view+json": {
       "model_id": "7309ff5623d84444b16accee789a8fca",
       "version_major": 2,
       "version_minor": 0
      },
      "text/plain": [
       "r = 2 | queries:   0%|          | 0/10 [00:00<?, ?it/s]"
      ]
     },
     "metadata": {},
     "output_type": "display_data"
    },
    {
     "data": {
      "application/vnd.jupyter.widget-view+json": {
       "model_id": "3a5caef354994285a73c856d2b73bb22",
       "version_major": 2,
       "version_minor": 0
      },
      "text/plain": [
       "targets:   0%|          | 0/19717 [00:00<?, ?it/s]"
      ]
     },
     "metadata": {},
     "output_type": "display_data"
    },
    {
     "data": {
      "application/vnd.jupyter.widget-view+json": {
       "model_id": "25e5effaf384408384a79ad03e775d5e",
       "version_major": 2,
       "version_minor": 0
      },
      "text/plain": [
       "targets:   0%|          | 0/19717 [00:00<?, ?it/s]"
      ]
     },
     "metadata": {},
     "output_type": "display_data"
    },
    {
     "data": {
      "application/vnd.jupyter.widget-view+json": {
       "model_id": "7d0f9965bcd1440190ef16c737cb96eb",
       "version_major": 2,
       "version_minor": 0
      },
      "text/plain": [
       "targets:   0%|          | 0/19717 [00:00<?, ?it/s]"
      ]
     },
     "metadata": {},
     "output_type": "display_data"
    },
    {
     "data": {
      "application/vnd.jupyter.widget-view+json": {
       "model_id": "66afb90f38184e49af195e34c04f7141",
       "version_major": 2,
       "version_minor": 0
      },
      "text/plain": [
       "targets:   0%|          | 0/19717 [00:00<?, ?it/s]"
      ]
     },
     "metadata": {},
     "output_type": "display_data"
    },
    {
     "data": {
      "application/vnd.jupyter.widget-view+json": {
       "model_id": "9bf8647ed47b4816b7a058dca50aae97",
       "version_major": 2,
       "version_minor": 0
      },
      "text/plain": [
       "targets:   0%|          | 0/19717 [00:00<?, ?it/s]"
      ]
     },
     "metadata": {},
     "output_type": "display_data"
    },
    {
     "data": {
      "application/vnd.jupyter.widget-view+json": {
       "model_id": "c092124ddfb0492386d44af3470f3671",
       "version_major": 2,
       "version_minor": 0
      },
      "text/plain": [
       "targets:   0%|          | 0/19717 [00:00<?, ?it/s]"
      ]
     },
     "metadata": {},
     "output_type": "display_data"
    },
    {
     "data": {
      "application/vnd.jupyter.widget-view+json": {
       "model_id": "fed2ec616cf149adae67d964abf83940",
       "version_major": 2,
       "version_minor": 0
      },
      "text/plain": [
       "targets:   0%|          | 0/19717 [00:00<?, ?it/s]"
      ]
     },
     "metadata": {},
     "output_type": "display_data"
    },
    {
     "data": {
      "application/vnd.jupyter.widget-view+json": {
       "model_id": "d91d41be5419404ca66213a8d11a72ed",
       "version_major": 2,
       "version_minor": 0
      },
      "text/plain": [
       "targets:   0%|          | 0/19717 [00:00<?, ?it/s]"
      ]
     },
     "metadata": {},
     "output_type": "display_data"
    },
    {
     "data": {
      "application/vnd.jupyter.widget-view+json": {
       "model_id": "544fb550b4af4e3083f5d668bab27104",
       "version_major": 2,
       "version_minor": 0
      },
      "text/plain": [
       "targets:   0%|          | 0/19717 [00:00<?, ?it/s]"
      ]
     },
     "metadata": {},
     "output_type": "display_data"
    },
    {
     "data": {
      "application/vnd.jupyter.widget-view+json": {
       "model_id": "6a62de46e4a946a0812eb50721b3c506",
       "version_major": 2,
       "version_minor": 0
      },
      "text/plain": [
       "targets:   0%|          | 0/19717 [00:00<?, ?it/s]"
      ]
     },
     "metadata": {},
     "output_type": "display_data"
    },
    {
     "name": "stdout",
     "output_type": "stream",
     "text": [
      "time per query in s: 0.693\n"
     ]
    }
   ],
   "source": [
    "r = 2\n",
    "tic = time.time()\n",
    "for q in tqdm(qemb, f'r = {r} | queries'):\n",
    "    index_str.range_query(q, r, verbose=False)\n",
    "toc = time.time()\n",
    "tqdm.write('time per query in s: ' f'{(toc-tic)/qemb.shape[0]:.3}')"
   ]
  },
  {
   "cell_type": "code",
   "execution_count": 15,
   "id": "80712d9d-6477-40f9-be69-f3895f6aa04a",
   "metadata": {},
   "outputs": [],
   "source": [
    "del index_str\n",
    "torch.cuda.empty_cache()"
   ]
  },
  {
   "cell_type": "markdown",
   "id": "f530afc9-a3d7-4f8f-a7a7-32c8de7a2359",
   "metadata": {},
   "source": [
    "## Unvectorised (Metric-)Tree on CPU (threads=1)"
   ]
  },
  {
   "cell_type": "code",
   "execution_count": 16,
   "id": "63e4da66-2ae3-49f9-832f-e78552308837",
   "metadata": {},
   "outputs": [
    {
     "name": "stdout",
     "output_type": "stream",
     "text": [
      "construct (metric-)tree for asymmetric/symmetric distance function\n",
      "config.device: cpu\n"
     ]
    },
    {
     "data": {
      "application/vnd.jupyter.widget-view+json": {
       "model_id": "03b0bc3625f84cd9bfc37dc22d6343c7",
       "version_major": 2,
       "version_minor": 0
      },
      "text/plain": [
       "  0%|          | 0/19717 [00:00<?, ?it/s]"
      ]
     },
     "metadata": {},
     "output_type": "display_data"
    },
    {
     "name": "stdout",
     "output_type": "stream",
     "text": [
      "distance computations: 170982\n",
      "internal nodes: 119 / 477\n",
      "leaf nodes: 358 / 477\n",
      "big leaf nodes: 0 / 358\n",
      "max leaf size: 128\n",
      "preprocessing time: 0.139 s\n"
     ]
    }
   ],
   "source": [
    "config.device = torch.device('cpu')\n",
    "torch.set_num_threads(1)\n",
    "tic = time.time()\n",
    "index_str = index.AsymTree(temb, dist_fn=utils.norm_sed_func, max_leaf_size=128)\n",
    "toc = time.time()\n",
    "tqdm.write(f'preprocessing time: {toc-tic:.3} s')\n",
    "index_str = index_str.to(config.device)"
   ]
  },
  {
   "cell_type": "code",
   "execution_count": 17,
   "id": "a5ea9362-b4d3-48f0-8a89-40e74d1b2634",
   "metadata": {
    "tags": []
   },
   "outputs": [
    {
     "data": {
      "application/vnd.jupyter.widget-view+json": {
       "model_id": "c616d37d67b348338cfabc8cc7363e2f",
       "version_major": 2,
       "version_minor": 0
      },
      "text/plain": [
       "k = 10 | queries:   0%|          | 0/10 [00:00<?, ?it/s]"
      ]
     },
     "metadata": {},
     "output_type": "display_data"
    },
    {
     "name": "stdout",
     "output_type": "stream",
     "text": [
      "time per query in s: 0.493\n"
     ]
    }
   ],
   "source": [
    "k = 10\n",
    "tic = time.time()\n",
    "for q in tqdm(qemb, f'k = {k} | queries'):\n",
    "    index_str.knn_query(q, k, slow=True, verbose=False)\n",
    "toc = time.time()\n",
    "tqdm.write('time per query in s: ' f'{(toc-tic)/qemb.shape[0]:.3}')"
   ]
  },
  {
   "cell_type": "code",
   "execution_count": 18,
   "id": "2950ebf6-0f70-47e2-a6cc-8946a48128a7",
   "metadata": {
    "tags": []
   },
   "outputs": [
    {
     "data": {
      "application/vnd.jupyter.widget-view+json": {
       "model_id": "245f10ae43a347e9927e80d8ca2fb53a",
       "version_major": 2,
       "version_minor": 0
      },
      "text/plain": [
       "r = 2 | queries:   0%|          | 0/10 [00:00<?, ?it/s]"
      ]
     },
     "metadata": {},
     "output_type": "display_data"
    },
    {
     "name": "stdout",
     "output_type": "stream",
     "text": [
      "time per query in s: 0.56\n"
     ]
    }
   ],
   "source": [
    "r = 2\n",
    "tic = time.time()\n",
    "for q in tqdm(qemb, f'r = {r} | queries'):\n",
    "    index_str.range_query(q, r, slow=True, verbose=False)\n",
    "toc = time.time()\n",
    "tqdm.write('time per query in s: ' f'{(toc-tic)/qemb.shape[0]:.3}')"
   ]
  },
  {
   "cell_type": "code",
   "execution_count": 19,
   "id": "d7e93b2f-169f-4e79-b183-eab14cdc3a28",
   "metadata": {},
   "outputs": [],
   "source": [
    "del index_str\n",
    "torch.cuda.empty_cache()"
   ]
  },
  {
   "cell_type": "markdown",
   "id": "9f260574-996a-4750-aa2e-113f694f883c",
   "metadata": {},
   "source": [
    "## Alignment"
   ]
  },
  {
   "cell_type": "code",
   "execution_count": 15,
   "id": "ecc601f0-7158-4cbb-872e-ca363f00ac0d",
   "metadata": {
    "tags": []
   },
   "outputs": [
    {
     "data": {
      "application/vnd.jupyter.widget-view+json": {
       "model_id": "d81f43c67d81407d84809f769b9599d4",
       "version_major": 2,
       "version_minor": 0
      },
      "text/plain": [
       "k = 10 | queries:   0%|          | 0/10 [00:00<?, ?it/s]"
      ]
     },
     "metadata": {},
     "output_type": "display_data"
    },
    {
     "name": "stdout",
     "output_type": "stream",
     "text": [
      "time in s: 0.00447\n"
     ]
    }
   ],
   "source": [
    "tic = time.time()\n",
    "k = 10\n",
    "topk = []\n",
    "for q in tqdm(qemb, f'k = {k} | queries'):\n",
    "    topk.append(index_str.knn_query(q, k, verbose=False))\n",
    "toc = time.time()\n",
    "tqdm.write('time in s: ' f'{(toc-tic)/qemb.shape[0]:.3}')"
   ]
  },
  {
   "cell_type": "code",
   "execution_count": 16,
   "id": "9fd4ff6e-baef-4ce9-9759-9f52c1a5b2a6",
   "metadata": {},
   "outputs": [
    {
     "data": {
      "application/vnd.jupyter.widget-view+json": {
       "model_id": "13b4ef0ac4d947ab8540d5ec87e0b404",
       "version_major": 2,
       "version_minor": 0
      },
      "text/plain": [
       "queries:   0%|          | 0/10 [00:00<?, ?it/s]"
      ]
     },
     "metadata": {},
     "output_type": "display_data"
    },
    {
     "data": {
      "application/vnd.jupyter.widget-view+json": {
       "model_id": "e2c257f6e1b44c2a912c61953740eb1c",
       "version_major": 2,
       "version_minor": 0
      },
      "text/plain": [
       "targets:   0%|          | 0/10 [00:00<?, ?it/s]"
      ]
     },
     "metadata": {},
     "output_type": "display_data"
    },
    {
     "name": "stdout",
     "output_type": "stream",
     "text": [
      "0.0 0.0 | 0.0 0.0 | 0.0 0.0 | 0.0 0.0 | 0.0 0.0 | 0.0 0.0 | 0.0 0.0 | 1.0 1.0 | 0.0 0.0 | 0.0 0.0 | \n"
     ]
    },
    {
     "data": {
      "application/vnd.jupyter.widget-view+json": {
       "model_id": "81e81299b42141299ff19afee37f68d4",
       "version_major": 2,
       "version_minor": 0
      },
      "text/plain": [
       "targets:   0%|          | 0/10 [00:00<?, ?it/s]"
      ]
     },
     "metadata": {},
     "output_type": "display_data"
    },
    {
     "name": "stdout",
     "output_type": "stream",
     "text": [
      "0.0 0.0 | 2.0 2.0 | 0.0 0.0 | 0.0 0.0 | 0.0 0.0 | 0.0 0.0 | 0.0 0.0 | 0.0 0.0 | 0.0 0.0 | 0.0 0.0 | \n"
     ]
    },
    {
     "data": {
      "application/vnd.jupyter.widget-view+json": {
       "model_id": "b687004cbf294cac81654ba3b73fb905",
       "version_major": 2,
       "version_minor": 0
      },
      "text/plain": [
       "targets:   0%|          | 0/10 [00:00<?, ?it/s]"
      ]
     },
     "metadata": {},
     "output_type": "display_data"
    },
    {
     "name": "stdout",
     "output_type": "stream",
     "text": [
      "1.0 1.0 | 0.0 0.0 | 1.0 1.0 | 1.0 1.0 | 1.0 1.0 | 0.0 0.0 | 1.0 1.0 | 1.0 1.0 | 2.0 2.0 | 1.0 1.0 | \n"
     ]
    },
    {
     "data": {
      "application/vnd.jupyter.widget-view+json": {
       "model_id": "bae165f8f63e45a1a227324b86bafcf2",
       "version_major": 2,
       "version_minor": 0
      },
      "text/plain": [
       "targets:   0%|          | 0/10 [00:00<?, ?it/s]"
      ]
     },
     "metadata": {},
     "output_type": "display_data"
    },
    {
     "name": "stdout",
     "output_type": "stream",
     "text": [
      "0.0 0.0 | 0.0 0.0 | 0.0 0.0 | 0.0 0.0 | 0.0 0.0 | 0.0 0.0 | 0.0 0.0 | 0.0 0.0 | 0.0 0.0 | 0.0 0.0 | \n"
     ]
    },
    {
     "data": {
      "application/vnd.jupyter.widget-view+json": {
       "model_id": "7f7bdf959ac64257980e311ff5d31997",
       "version_major": 2,
       "version_minor": 0
      },
      "text/plain": [
       "targets:   0%|          | 0/10 [00:00<?, ?it/s]"
      ]
     },
     "metadata": {},
     "output_type": "display_data"
    },
    {
     "name": "stdout",
     "output_type": "stream",
     "text": [
      "0.0 0.0 | 0.0 0.0 | 0.0 0.0 | 0.0 0.0 | 0.0 0.0 | 0.0 0.0 | 0.0 0.0 | 0.0 0.0 | 0.0 0.0 | 0.0 0.0 | \n"
     ]
    },
    {
     "data": {
      "application/vnd.jupyter.widget-view+json": {
       "model_id": "8da14e14194044c492e9170e3753cc87",
       "version_major": 2,
       "version_minor": 0
      },
      "text/plain": [
       "targets:   0%|          | 0/10 [00:00<?, ?it/s]"
      ]
     },
     "metadata": {},
     "output_type": "display_data"
    },
    {
     "name": "stdout",
     "output_type": "stream",
     "text": [
      "0.0 0.0 | 0.0 0.0 | 1.0 1.0 | 0.0 0.0 | 0.0 0.0 | 0.0 0.0 | 0.0 0.0 | 0.0 0.0 | 0.0 0.0 | 0.0 0.0 | \n"
     ]
    },
    {
     "data": {
      "application/vnd.jupyter.widget-view+json": {
       "model_id": "513684af09534ed88dc2cbb7172cf14a",
       "version_major": 2,
       "version_minor": 0
      },
      "text/plain": [
       "targets:   0%|          | 0/10 [00:00<?, ?it/s]"
      ]
     },
     "metadata": {},
     "output_type": "display_data"
    },
    {
     "name": "stdout",
     "output_type": "stream",
     "text": [
      "0.0 0.0 | 0.0 0.0 | 0.0 0.0 | 0.0 0.0 | 0.0 0.0 | 0.0 0.0 | 0.0 0.0 | 0.0 0.0 | 0.0 0.0 | 0.0 0.0 | \n"
     ]
    },
    {
     "data": {
      "application/vnd.jupyter.widget-view+json": {
       "model_id": "94a6656c410f4859856fa52ce1de03fd",
       "version_major": 2,
       "version_minor": 0
      },
      "text/plain": [
       "targets:   0%|          | 0/10 [00:00<?, ?it/s]"
      ]
     },
     "metadata": {},
     "output_type": "display_data"
    },
    {
     "name": "stdout",
     "output_type": "stream",
     "text": [
      "0.0 0.0 | 0.0 0.0 | 0.0 0.0 | 0.0 0.0 | 0.0 0.0 | 0.0 0.0 | 0.0 0.0 | 0.0 0.0 | 0.0 0.0 | 0.0 0.0 | \n"
     ]
    },
    {
     "data": {
      "application/vnd.jupyter.widget-view+json": {
       "model_id": "afbf41fee9ce464498d418c6b4228953",
       "version_major": 2,
       "version_minor": 0
      },
      "text/plain": [
       "targets:   0%|          | 0/10 [00:00<?, ?it/s]"
      ]
     },
     "metadata": {},
     "output_type": "display_data"
    },
    {
     "name": "stdout",
     "output_type": "stream",
     "text": [
      "0.0 0.0 | 0.0 0.0 | 0.0 0.0 | 0.0 0.0 | 0.0 0.0 | 0.0 0.0 | 0.0 0.0 | 0.0 0.0 | 0.0 0.0 | 0.0 0.0 | \n"
     ]
    },
    {
     "data": {
      "application/vnd.jupyter.widget-view+json": {
       "model_id": "879a6e5c22014096b68d201fc316225a",
       "version_major": 2,
       "version_minor": 0
      },
      "text/plain": [
       "targets:   0%|          | 0/10 [00:00<?, ?it/s]"
      ]
     },
     "metadata": {},
     "output_type": "display_data"
    },
    {
     "name": "stdout",
     "output_type": "stream",
     "text": [
      "1.0 1.0 | 0.0 0.0 | 0.0 0.0 | 0.0 0.0 | 0.0 0.0 | 0.0 0.0 | 0.0 0.0 | 0.0 0.0 | 1.0 1.0 | 0.0 0.0 | \n",
      "528.0619425773621\n"
     ]
    }
   ],
   "source": [
    "tic = time.time()\n",
    "for q, ts in zip(tqdm(queries, 'queries'), topk):\n",
    "    for ti in tqdm(ts, 'targets'):\n",
    "        node_map, (lb, ub) = pyged.sed_align(utils.to_pyged(q), utils.to_pyged(nbrs[ti]), 'f2', '')\n",
    "        print(lb, ub, end = ' | ')\n",
    "    print()\n",
    "toc = time.time()\n",
    "print(toc-tic)"
   ]
  },
  {
   "cell_type": "code",
   "execution_count": 17,
   "id": "577fe9c6-1b0c-43df-8e4f-2290dd322d54",
   "metadata": {},
   "outputs": [
    {
     "data": {
      "application/vnd.jupyter.widget-view+json": {
       "model_id": "0317b4b02ba34f40b00aeb492a10b759",
       "version_major": 2,
       "version_minor": 0
      },
      "text/plain": [
       "queries:   0%|          | 0/10 [00:00<?, ?it/s]"
      ]
     },
     "metadata": {},
     "output_type": "display_data"
    },
    {
     "data": {
      "application/vnd.jupyter.widget-view+json": {
       "model_id": "9ba744b854e24b31b5700d55dbbbab3b",
       "version_major": 2,
       "version_minor": 0
      },
      "text/plain": [
       "targets:   0%|          | 0/10 [00:00<?, ?it/s]"
      ]
     },
     "metadata": {},
     "output_type": "display_data"
    },
    {
     "name": "stdout",
     "output_type": "stream",
     "text": [
      "0.0 0.0 | 0.0 0.0 | 0.0 0.0 | 0.0 0.0 | 0.0 0.0 | 0.0 0.0 | 0.0 0.0 | 1.0 1.0 | 0.0 0.0 | 0.0 0.0 | \n"
     ]
    },
    {
     "data": {
      "application/vnd.jupyter.widget-view+json": {
       "model_id": "66bd88099c5548b3857f7315083d9162",
       "version_major": 2,
       "version_minor": 0
      },
      "text/plain": [
       "targets:   0%|          | 0/10 [00:00<?, ?it/s]"
      ]
     },
     "metadata": {},
     "output_type": "display_data"
    },
    {
     "name": "stdout",
     "output_type": "stream",
     "text": [
      "0.0 0.0 | 2.0 2.0 | 0.0 0.0 | 0.0 0.0 | 0.0 0.0 | 0.0 0.0 | 0.0 0.0 | 0.0 0.0 | 0.0 0.0 | 0.0 0.0 | \n"
     ]
    },
    {
     "data": {
      "application/vnd.jupyter.widget-view+json": {
       "model_id": "ec0525e1f9744d499945ae4c146386ea",
       "version_major": 2,
       "version_minor": 0
      },
      "text/plain": [
       "targets:   0%|          | 0/10 [00:00<?, ?it/s]"
      ]
     },
     "metadata": {},
     "output_type": "display_data"
    },
    {
     "name": "stdout",
     "output_type": "stream",
     "text": [
      "1.0 1.0 | 0.0 0.0 | 1.0 1.0 | 1.0 1.0 | 1.0 1.0 | 0.0 0.0 | 1.0 1.0 | 1.0 1.0 | 2.0 2.0 | 1.0 1.0 | \n"
     ]
    },
    {
     "data": {
      "application/vnd.jupyter.widget-view+json": {
       "model_id": "af387f11470941279157cb9c67e873bf",
       "version_major": 2,
       "version_minor": 0
      },
      "text/plain": [
       "targets:   0%|          | 0/10 [00:00<?, ?it/s]"
      ]
     },
     "metadata": {},
     "output_type": "display_data"
    },
    {
     "name": "stdout",
     "output_type": "stream",
     "text": [
      "0.0 0.0 | 0.0 0.0 | 0.0 0.0 | 0.0 0.0 | 0.0 0.0 | 0.0 0.0 | 0.0 0.0 | 0.0 0.0 | 0.0 0.0 | 0.0 0.0 | \n"
     ]
    },
    {
     "data": {
      "application/vnd.jupyter.widget-view+json": {
       "model_id": "695068190fb040639304d23c541b319b",
       "version_major": 2,
       "version_minor": 0
      },
      "text/plain": [
       "targets:   0%|          | 0/10 [00:00<?, ?it/s]"
      ]
     },
     "metadata": {},
     "output_type": "display_data"
    },
    {
     "name": "stdout",
     "output_type": "stream",
     "text": [
      "0.0 0.0 | 0.0 0.0 | 0.0 0.0 | 0.0 0.0 | 0.0 0.0 | 0.0 0.0 | 0.0 0.0 | 0.0 0.0 | 0.0 0.0 | 0.0 0.0 | \n"
     ]
    },
    {
     "data": {
      "application/vnd.jupyter.widget-view+json": {
       "model_id": "0b1e60f0d7c24324940d1b0443828d35",
       "version_major": 2,
       "version_minor": 0
      },
      "text/plain": [
       "targets:   0%|          | 0/10 [00:00<?, ?it/s]"
      ]
     },
     "metadata": {},
     "output_type": "display_data"
    },
    {
     "name": "stdout",
     "output_type": "stream",
     "text": [
      "0.0 0.0 | 0.0 0.0 | 1.0 1.0 | 0.0 0.0 | 0.0 0.0 | 0.0 0.0 | 0.0 0.0 | 0.0 0.0 | 0.0 0.0 | 0.0 0.0 | \n"
     ]
    },
    {
     "data": {
      "application/vnd.jupyter.widget-view+json": {
       "model_id": "5be05e6d86c442ac881722e225e6eddd",
       "version_major": 2,
       "version_minor": 0
      },
      "text/plain": [
       "targets:   0%|          | 0/10 [00:00<?, ?it/s]"
      ]
     },
     "metadata": {},
     "output_type": "display_data"
    },
    {
     "name": "stdout",
     "output_type": "stream",
     "text": [
      "0.0 0.0 | 0.0 0.0 | 0.0 0.0 | 0.0 0.0 | 0.0 0.0 | 0.0 0.0 | 0.0 0.0 | 0.0 0.0 | 0.0 0.0 | 0.0 0.0 | \n"
     ]
    },
    {
     "data": {
      "application/vnd.jupyter.widget-view+json": {
       "model_id": "f8fb4fcd6d3b459b8e37ddd1f43b5c20",
       "version_major": 2,
       "version_minor": 0
      },
      "text/plain": [
       "targets:   0%|          | 0/10 [00:00<?, ?it/s]"
      ]
     },
     "metadata": {},
     "output_type": "display_data"
    },
    {
     "name": "stdout",
     "output_type": "stream",
     "text": [
      "0.0 0.0 | 0.0 0.0 | 0.0 0.0 | 0.0 0.0 | 0.0 0.0 | 0.0 0.0 | 0.0 0.0 | 0.0 0.0 | 0.0 0.0 | 0.0 0.0 | \n"
     ]
    },
    {
     "data": {
      "application/vnd.jupyter.widget-view+json": {
       "model_id": "3af577b8fd7f4b898f933b1916aa04c0",
       "version_major": 2,
       "version_minor": 0
      },
      "text/plain": [
       "targets:   0%|          | 0/10 [00:00<?, ?it/s]"
      ]
     },
     "metadata": {},
     "output_type": "display_data"
    },
    {
     "name": "stdout",
     "output_type": "stream",
     "text": [
      "0.0 0.0 | 0.0 0.0 | 0.0 0.0 | 0.0 0.0 | 0.0 0.0 | 0.0 0.0 | 0.0 0.0 | 0.0 0.0 | 0.0 0.0 | 0.0 0.0 | \n"
     ]
    },
    {
     "data": {
      "application/vnd.jupyter.widget-view+json": {
       "model_id": "1f8a9f0e7f7e406390c46e8d0c0554d3",
       "version_major": 2,
       "version_minor": 0
      },
      "text/plain": [
       "targets:   0%|          | 0/10 [00:00<?, ?it/s]"
      ]
     },
     "metadata": {},
     "output_type": "display_data"
    },
    {
     "name": "stdout",
     "output_type": "stream",
     "text": [
      "1.0 1.0 | 0.0 0.0 | 0.0 0.0 | 0.0 0.0 | 0.0 0.0 | 0.0 0.0 | 0.0 0.0 | 0.0 0.0 | 1.0 1.0 | 0.0 0.0 | \n",
      "314.4020688533783\n"
     ]
    }
   ],
   "source": [
    "tic = time.time()\n",
    "for q, ts in zip(tqdm(queries, 'queries'), topk):\n",
    "    for ti in tqdm(ts, 'targets'):\n",
    "        node_map, (lb, ub) = pyged.sed_align(utils.to_pyged(q), utils.to_pyged(nbrs[ti]), 'f2', '--threads 64')\n",
    "        print(lb, ub, end = ' | ')\n",
    "    print()\n",
    "toc = time.time()\n",
    "print(toc-tic)"
   ]
  },
  {
   "cell_type": "code",
   "execution_count": null,
   "id": "6a7ae862-aeea-4591-9e5b-0812cec3fa1d",
   "metadata": {},
   "outputs": [],
   "source": []
  }
 ],
 "metadata": {
  "kernelspec": {
   "display_name": "Python 3",
   "language": "python",
   "name": "python3"
  },
  "language_info": {
   "codemirror_mode": {
    "name": "ipython",
    "version": 3
   },
   "file_extension": ".py",
   "mimetype": "text/x-python",
   "name": "python",
   "nbconvert_exporter": "python",
   "pygments_lexer": "ipython3",
   "version": "3.6.13"
  }
 },
 "nbformat": 4,
 "nbformat_minor": 5
}
