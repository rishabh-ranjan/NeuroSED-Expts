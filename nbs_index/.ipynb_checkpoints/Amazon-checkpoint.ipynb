{
 "cells": [
  {
   "cell_type": "code",
   "execution_count": 1,
   "id": "432d6d23-b00d-4c72-81e5-a6b18e880036",
   "metadata": {},
   "outputs": [],
   "source": [
    "CUDA_INDEX = 2\n",
    "NAME = 'Amazon'\n",
    "CLASSES = 2"
   ]
  },
  {
   "cell_type": "code",
   "execution_count": 2,
   "id": "9b10d1b3-bd2f-4d89-aaf0-40654efbd9ef",
   "metadata": {},
   "outputs": [],
   "source": [
    "import sys\n",
    "sys.path.insert(0, '../..')\n",
    "sys.path.insert(0, '../../pyged/lib')"
   ]
  },
  {
   "cell_type": "code",
   "execution_count": 3,
   "id": "429ab5f3-27f1-4ce7-a371-5a69c529d303",
   "metadata": {},
   "outputs": [
    {
     "data": {
      "text/plain": [
       "<module 'neuro.viz' from '../../neuro/viz.py'>"
      ]
     },
     "execution_count": 3,
     "metadata": {},
     "output_type": "execute_result"
    }
   ],
   "source": [
    "import os\n",
    "import pickle\n",
    "import random\n",
    "import time\n",
    "\n",
    "import IPython as ipy\n",
    "import matplotlib.pyplot as plt\n",
    "import numpy as np\n",
    "import torch\n",
    "torch.cuda.set_device(CUDA_INDEX)\n",
    "torch.backends.cudnn.benchmark = True\n",
    "import torch.optim\n",
    "import torch_geometric as tg\n",
    "import torch_geometric.data\n",
    "from tqdm.auto import tqdm\n",
    "\n",
    "from neuro import config, datasets, index, metrics, models, train, utils, viz\n",
    "import pyged\n",
    "\n",
    "from importlib import reload\n",
    "reload(config)\n",
    "reload(datasets)\n",
    "reload(index)\n",
    "reload(metrics)\n",
    "reload(models)\n",
    "reload(pyged)\n",
    "reload(train)\n",
    "reload(utils)\n",
    "reload(viz)"
   ]
  },
  {
   "cell_type": "code",
   "execution_count": 4,
   "id": "b56516dd-f7e5-42ca-963f-e893282e991f",
   "metadata": {},
   "outputs": [
    {
     "data": {
      "text/plain": [
       "<module 'neuro.h2mn_utils' from '../../neuro/h2mn_utils.py'>"
      ]
     },
     "execution_count": 4,
     "metadata": {},
     "output_type": "execute_result"
    }
   ],
   "source": [
    "import ext.H2MN as h2mn\n",
    "import ext.H2MN.models\n",
    "from neuro import h2mn_utils\n",
    "\n",
    "reload(h2mn)\n",
    "reload(h2mn_utils)"
   ]
  },
  {
   "cell_type": "code",
   "execution_count": 5,
   "id": "8d972ba3-9375-4e69-931d-f1094fa9f289",
   "metadata": {},
   "outputs": [],
   "source": [
    "# graphs = utils.remove_extra_attrs(utils.label_graphs(tg.datasets.CitationFull(root=f'../data/{NAME}/tg', name=f'{NAME}')))"
   ]
  },
  {
   "cell_type": "code",
   "execution_count": 6,
   "id": "51e8b396-4297-48a6-b277-3cc87a6aa412",
   "metadata": {},
   "outputs": [],
   "source": [
    "# tic = time.time()\n",
    "# nbrs = datasets.decompose(graphs, n_hops=2)\n",
    "# toc = time.time()\n",
    "# torch.save(nbrs, f'../data/{NAME}/nbrs.pt')\n",
    "# tqdm.write(f'neighborhood decomposition time: {toc-tic:.3} s')\n",
    "nbrs = torch.load(f'/data/rishabh/neurosim/final/data/{NAME}/nbrs.pt')"
   ]
  },
  {
   "cell_type": "code",
   "execution_count": 7,
   "id": "ef58d72c-d610-4ae2-9e80-8eb7701812bf",
   "metadata": {},
   "outputs": [
    {
     "name": "stdout",
     "output_type": "stream",
     "text": [
      "sample queries from targets\n"
     ]
    },
    {
     "data": {
      "application/vnd.jupyter.widget-view+json": {
       "model_id": "2b0977bb74bc4671ad64b682075ed9f4",
       "version_major": 2,
       "version_minor": 0
      },
      "text/plain": [
       "sampled queries:   0%|          | 0/10 [00:00<?, ?it/s]"
      ]
     },
     "metadata": {},
     "output_type": "display_data"
    }
   ],
   "source": [
    "queries = datasets.make_queries(nbrs, n_queries=10, n_hops=4, trav_prob=0.3, node_lim=25)\n",
    "torch.save(queries, f'../retrvs/{NAME}/queries.pt')\n",
    "queries = torch.load(f'../retrvs/{NAME}/queries.pt', map_location='cpu')"
   ]
  },
  {
   "cell_type": "code",
   "execution_count": 8,
   "id": "0237bbf2-c71e-4898-aee2-113807d81be5",
   "metadata": {},
   "outputs": [],
   "source": [
    "model = models.NormSEDModel(8, CLASSES, 64, 64)\n",
    "model.load_state_dict(torch.load(f'../runlogs/{NAME}/1628189994.2692797/best_model.pt', map_location='cpu'))\n",
    "model = model.eval()\n",
    "model = model.to(config.device)"
   ]
  },
  {
   "cell_type": "code",
   "execution_count": 9,
   "id": "6005510d-fcab-4dbf-8354-f5fbdeabfa2d",
   "metadata": {},
   "outputs": [],
   "source": [
    "rw_path = f'/home/neuroGQuery/siddharth/H2MN/ckpt/{NAME}-RW'\n",
    "rw_args = torch.load(os.path.join(rw_path, 'args.pt'), map_location='cpu')\n",
    "rw_model = h2mn.models.Model(rw_args)\n",
    "rw_model.load_state_dict(torch.load(os.path.join(rw_path, 'model.pth'), map_location='cpu'))\n",
    "rw_model = rw_model.eval()\n",
    "rw_model = rw_model.to(config.device)\n",
    "rw_dist_fn = h2mn_utils.DistancePredictor(rw_model, batch_size=256)"
   ]
  },
  {
   "cell_type": "code",
   "execution_count": 10,
   "id": "c62cd14a-fa35-46ec-bcb3-875815b1b47d",
   "metadata": {},
   "outputs": [],
   "source": [
    "ne_path = f'/home/neuroGQuery/siddharth/H2MN/ckpt/{NAME}-NE'\n",
    "ne_args = torch.load(os.path.join(ne_path, 'args.pt'), map_location='cpu')\n",
    "ne_model = h2mn.models.Model(ne_args)\n",
    "ne_model.load_state_dict(torch.load(os.path.join(ne_path, 'model.pth'), map_location='cpu'))\n",
    "ne_model = ne_model.eval()\n",
    "ne_model = ne_model.to(config.device)\n",
    "ne_dist_fn = h2mn_utils.DistancePredictor(ne_model, batch_size=256)"
   ]
  },
  {
   "cell_type": "code",
   "execution_count": 11,
   "id": "7f64c613-92b4-44fa-9fc1-b553525a022b",
   "metadata": {},
   "outputs": [],
   "source": [
    "# tic = time.time()\n",
    "# target_embs_list = []\n",
    "# batch_size = 4096\n",
    "# with torch.no_grad():\n",
    "#     for i in tqdm(range(0,len(nbrs),batch_size), 'target batches'):\n",
    "#         target_embs_list.append(model.embed_model(tg.data.Batch.from_data_list(nbrs[i:i+batch_size]).to(config.device)))\n",
    "# target_embs = torch.cat(target_embs_list)\n",
    "# toc = time.time()\n",
    "# tqdm.write(f'total target embedding time: {toc-tic:.3} s')\n",
    "# tqdm.write(f'per target embedding time: {(toc-tic)/len(nbrs):.3} s')\n",
    "# torch.save(target_embs, f'../retrvs/{NAME}/target_embs.pt')\n",
    "target_embs = torch.load(f'../retrvs/{NAME}/target_embs.pt', map_location='cpu')"
   ]
  },
  {
   "cell_type": "code",
   "execution_count": 12,
   "id": "9b7e7299-1f2c-4fa5-a310-1c015016bb3b",
   "metadata": {},
   "outputs": [],
   "source": [
    "# tic = time.time()\n",
    "# with torch.no_grad():\n",
    "#     query_embs = model.embed_model(tg.data.Batch.from_data_list(queries).to(config.device))\n",
    "# toc = time.time()\n",
    "# tqdm.write(f'total query embedding time: {toc-tic:.3} s')\n",
    "# tqdm.write(f'per query embedding time: {(toc-tic)/len(queries):.3} s')\n",
    "# torch.save(query_embs, f'../retrvs/{NAME}/query_embs.pt')\n",
    "query_embs = torch.load(f'../retrvs/{NAME}/query_embs.pt', map_location='cpu')"
   ]
  },
  {
   "cell_type": "code",
   "execution_count": 13,
   "id": "bc895ebf-7d83-4a4a-b1b2-6658001a7377",
   "metadata": {},
   "outputs": [],
   "source": [
    "temb = target_embs\n",
    "qemb = query_embs"
   ]
  },
  {
   "cell_type": "code",
   "execution_count": 14,
   "id": "6d7116c3-9071-433a-81d1-4cb4176db010",
   "metadata": {},
   "outputs": [],
   "source": [
    "# tic = time.time()\n",
    "# with torch.no_grad():\n",
    "#     target_list_h2mn = h2mn_utils.preprocess(nbrs, rw_args.max_degree)\n",
    "# toc = time.time()\n",
    "# tqdm.write(f'total target preprocessing time (H2MN): {toc-tic:.3} s')\n",
    "# tqdm.write(f'per target preprocessing time (H2MN): {(toc-tic)/len(nbrs):.3} s')\n",
    "# torch.save(target_list_h2mn, f'../retrvs/{NAME}/target_list_h2mn.pt')\n",
    "target_list_h2mn = torch.load(f'../retrvs/{NAME}/target_list_h2mn.pt', map_location='cpu')"
   ]
  },
  {
   "cell_type": "code",
   "execution_count": 15,
   "id": "811478e0-2ed1-48ed-8d75-79119af74572",
   "metadata": {},
   "outputs": [],
   "source": [
    "# tic = time.time()\n",
    "# with torch.no_grad():\n",
    "#     query_list_h2mn = h2mn_utils.preprocess(queries, rw_args.max_degree)\n",
    "# toc = time.time()\n",
    "# tqdm.write(f'total query preprocessing time (H2MN): {toc-tic:.3} s')\n",
    "# tqdm.write(f'per query preprocessing time (H2MN): {(toc-tic)/len(queries):.3} s')\n",
    "# torch.save(query_list_h2mn, f'../retrvs/{NAME}/query_list_h2mn.pt')\n",
    "query_list_h2mn = torch.load(f'../retrvs/{NAME}/query_list_h2mn.pt', map_location='cpu')"
   ]
  },
  {
   "cell_type": "code",
   "execution_count": 16,
   "id": "efbf447d-d142-48ef-a02e-a8b2993146b3",
   "metadata": {},
   "outputs": [],
   "source": [
    "tobj_h2mn = target_list_h2mn\n",
    "qobj_h2mn = query_list_h2mn"
   ]
  },
  {
   "cell_type": "markdown",
   "id": "43d06eae-84d9-45c2-96fb-a9216c70c224",
   "metadata": {
    "tags": []
   },
   "source": [
    "## Vectorised Linear Scan on GPU"
   ]
  },
  {
   "cell_type": "code",
   "execution_count": 17,
   "id": "aa505308-9924-4200-84ba-5c5583b97461",
   "metadata": {},
   "outputs": [
    {
     "name": "stdout",
     "output_type": "stream",
     "text": [
      "fast (vectorised) linear scan index\n",
      "config.device: cuda\n",
      "preprocessing time: 0.00127 s\n"
     ]
    }
   ],
   "source": [
    "config.device = torch.device('cuda')\n",
    "tic = time.time()\n",
    "index_str = index.FastLinearScan(temb, dist_fn=utils.norm_sed_func)\n",
    "toc = time.time()\n",
    "tqdm.write(f'preprocessing time: {toc-tic:.3} s')"
   ]
  },
  {
   "cell_type": "code",
   "execution_count": 18,
   "id": "ede9d38d-15d3-4a7a-9bf9-a9351f994847",
   "metadata": {
    "tags": []
   },
   "outputs": [
    {
     "data": {
      "application/vnd.jupyter.widget-view+json": {
       "model_id": "0b9b274900d14752bdf6a5fad7101e83",
       "version_major": 2,
       "version_minor": 0
      },
      "text/plain": [
       "k = 10 | queries:   0%|          | 0/10 [00:00<?, ?it/s]"
      ]
     },
     "metadata": {},
     "output_type": "display_data"
    },
    {
     "name": "stdout",
     "output_type": "stream",
     "text": [
      "time per query in s: 0.0269\n"
     ]
    }
   ],
   "source": [
    "k = 10\n",
    "tic = time.time()\n",
    "for q in tqdm(qemb, f'k = {k} | queries'):\n",
    "    index_str.knn_query(q, k, verbose=False)\n",
    "toc = time.time()\n",
    "tqdm.write('time per query in s: ' f'{(toc-tic)/qemb.shape[0]:.3}')"
   ]
  },
  {
   "cell_type": "code",
   "execution_count": 20,
   "id": "73b80f03-d15d-4cfa-8a05-40657863c92e",
   "metadata": {
    "tags": []
   },
   "outputs": [
    {
     "data": {
      "application/vnd.jupyter.widget-view+json": {
       "model_id": "b71a5cde4f1a4fea852dfad0883ff47b",
       "version_major": 2,
       "version_minor": 0
      },
      "text/plain": [
       "r = 2 | queries:   0%|          | 0/10 [00:00<?, ?it/s]"
      ]
     },
     "metadata": {},
     "output_type": "display_data"
    },
    {
     "name": "stdout",
     "output_type": "stream",
     "text": [
      "time per query in s: 0.0249\n"
     ]
    }
   ],
   "source": [
    "r = 2\n",
    "tic = time.time()\n",
    "for q in tqdm(qemb, f'r = {r} | queries'):\n",
    "    index_str.range_query(q, r, verbose=False)\n",
    "toc = time.time()\n",
    "tqdm.write('time per query in s: ' f'{(toc-tic)/qemb.shape[0]:.3}')"
   ]
  },
  {
   "cell_type": "code",
   "execution_count": 25,
   "id": "d111162d-d934-430c-9d34-71ee3de53fb1",
   "metadata": {},
   "outputs": [],
   "source": [
    "del index_str\n",
    "torch.cuda.empty_cache()"
   ]
  },
  {
   "cell_type": "code",
   "execution_count": 26,
   "id": "e6475dcf-f0dd-49c7-a1c8-9370a9b5fc78",
   "metadata": {},
   "outputs": [
    {
     "name": "stdout",
     "output_type": "stream",
     "text": [
      "fast (vectorised) linear scan index\n",
      "config.device: cuda\n",
      "preprocessing time: 0.00375 s\n"
     ]
    }
   ],
   "source": [
    "config.device = torch.device('cuda')\n",
    "tic = time.time()\n",
    "index_str = index.FastLinearScan(tobj_h2mn, dist_fn=rw_dist_fn)\n",
    "toc = time.time()\n",
    "tqdm.write(f'preprocessing time: {toc-tic:.3} s')"
   ]
  },
  {
   "cell_type": "code",
   "execution_count": 27,
   "id": "59a9801f-f282-4b3d-b744-ef2f623ef2cf",
   "metadata": {
    "tags": []
   },
   "outputs": [
    {
     "data": {
      "application/vnd.jupyter.widget-view+json": {
       "model_id": "d22740bc1b2f4119af7d83be6ffac1b5",
       "version_major": 2,
       "version_minor": 0
      },
      "text/plain": [
       "k = 10 | queries:   0%|          | 0/10 [00:00<?, ?it/s]"
      ]
     },
     "metadata": {},
     "output_type": "display_data"
    },
    {
     "data": {
      "application/vnd.jupyter.widget-view+json": {
       "model_id": "2b372354d5e44ee58eb8ab4fa52a8a79",
       "version_major": 2,
       "version_minor": 0
      },
      "text/plain": [
       "batches:   0%|          | 0/1309 [00:00<?, ?it/s]"
      ]
     },
     "metadata": {},
     "output_type": "display_data"
    },
    {
     "data": {
      "application/vnd.jupyter.widget-view+json": {
       "model_id": "41475ae638b04187bc21d5085743b6c3",
       "version_major": 2,
       "version_minor": 0
      },
      "text/plain": [
       "batches:   0%|          | 0/1309 [00:00<?, ?it/s]"
      ]
     },
     "metadata": {},
     "output_type": "display_data"
    },
    {
     "data": {
      "application/vnd.jupyter.widget-view+json": {
       "model_id": "4a21b44fae764207ac1c0487c6bf1db4",
       "version_major": 2,
       "version_minor": 0
      },
      "text/plain": [
       "batches:   0%|          | 0/1309 [00:00<?, ?it/s]"
      ]
     },
     "metadata": {},
     "output_type": "display_data"
    },
    {
     "data": {
      "application/vnd.jupyter.widget-view+json": {
       "model_id": "5363fcddf3a040dc86667822b2c98b81",
       "version_major": 2,
       "version_minor": 0
      },
      "text/plain": [
       "batches:   0%|          | 0/1309 [00:00<?, ?it/s]"
      ]
     },
     "metadata": {},
     "output_type": "display_data"
    },
    {
     "data": {
      "application/vnd.jupyter.widget-view+json": {
       "model_id": "c010c6326db74d4eb2535435330ac10e",
       "version_major": 2,
       "version_minor": 0
      },
      "text/plain": [
       "batches:   0%|          | 0/1309 [00:00<?, ?it/s]"
      ]
     },
     "metadata": {},
     "output_type": "display_data"
    },
    {
     "data": {
      "application/vnd.jupyter.widget-view+json": {
       "model_id": "91bb08ad2c0f46248ca5920a76fe8d2b",
       "version_major": 2,
       "version_minor": 0
      },
      "text/plain": [
       "batches:   0%|          | 0/1309 [00:00<?, ?it/s]"
      ]
     },
     "metadata": {},
     "output_type": "display_data"
    },
    {
     "data": {
      "application/vnd.jupyter.widget-view+json": {
       "model_id": "59924a6850764728a23531c18464989c",
       "version_major": 2,
       "version_minor": 0
      },
      "text/plain": [
       "batches:   0%|          | 0/1309 [00:00<?, ?it/s]"
      ]
     },
     "metadata": {},
     "output_type": "display_data"
    },
    {
     "data": {
      "application/vnd.jupyter.widget-view+json": {
       "model_id": "918cb145a0b04a2e806e6b50464d246b",
       "version_major": 2,
       "version_minor": 0
      },
      "text/plain": [
       "batches:   0%|          | 0/1309 [00:00<?, ?it/s]"
      ]
     },
     "metadata": {},
     "output_type": "display_data"
    },
    {
     "data": {
      "application/vnd.jupyter.widget-view+json": {
       "model_id": "244060af81a4420f8f77c38e5dfa1348",
       "version_major": 2,
       "version_minor": 0
      },
      "text/plain": [
       "batches:   0%|          | 0/1309 [00:00<?, ?it/s]"
      ]
     },
     "metadata": {},
     "output_type": "display_data"
    },
    {
     "data": {
      "application/vnd.jupyter.widget-view+json": {
       "model_id": "e6454401fd7e4558babdd78aadba02fa",
       "version_major": 2,
       "version_minor": 0
      },
      "text/plain": [
       "batches:   0%|          | 0/1309 [00:00<?, ?it/s]"
      ]
     },
     "metadata": {},
     "output_type": "display_data"
    },
    {
     "name": "stdout",
     "output_type": "stream",
     "text": [
      "time per query in s: 3.72e+02\n"
     ]
    }
   ],
   "source": [
    "k = 10\n",
    "tic = time.time()\n",
    "for q in tqdm(qobj_h2mn, f'k = {k} | queries'):\n",
    "    index_str.knn_query(q, k, verbose=False)\n",
    "toc = time.time()\n",
    "tqdm.write('time per query in s: ' f'{(toc-tic)/len(qobj_h2mn):.3}')"
   ]
  },
  {
   "cell_type": "code",
   "execution_count": 28,
   "id": "168dd13c-df55-450c-8dbf-c0a789c474f5",
   "metadata": {
    "tags": []
   },
   "outputs": [
    {
     "data": {
      "application/vnd.jupyter.widget-view+json": {
       "model_id": "a3bb5be282944c67b60d98e2b42ceac8",
       "version_major": 2,
       "version_minor": 0
      },
      "text/plain": [
       "r = 2 | queries:   0%|          | 0/10 [00:00<?, ?it/s]"
      ]
     },
     "metadata": {},
     "output_type": "display_data"
    },
    {
     "data": {
      "application/vnd.jupyter.widget-view+json": {
       "model_id": "eb038cc9bfa44da59196585ce85b306c",
       "version_major": 2,
       "version_minor": 0
      },
      "text/plain": [
       "batches:   0%|          | 0/1309 [00:00<?, ?it/s]"
      ]
     },
     "metadata": {},
     "output_type": "display_data"
    },
    {
     "data": {
      "application/vnd.jupyter.widget-view+json": {
       "model_id": "68cad5478d9a4438918de8c60cbbd1bc",
       "version_major": 2,
       "version_minor": 0
      },
      "text/plain": [
       "batches:   0%|          | 0/1309 [00:00<?, ?it/s]"
      ]
     },
     "metadata": {},
     "output_type": "display_data"
    },
    {
     "data": {
      "application/vnd.jupyter.widget-view+json": {
       "model_id": "7701dbdddd434a8e92810658595f96d9",
       "version_major": 2,
       "version_minor": 0
      },
      "text/plain": [
       "batches:   0%|          | 0/1309 [00:00<?, ?it/s]"
      ]
     },
     "metadata": {},
     "output_type": "display_data"
    },
    {
     "data": {
      "application/vnd.jupyter.widget-view+json": {
       "model_id": "db8f5b109c1244b59a94db010e128fcf",
       "version_major": 2,
       "version_minor": 0
      },
      "text/plain": [
       "batches:   0%|          | 0/1309 [00:00<?, ?it/s]"
      ]
     },
     "metadata": {},
     "output_type": "display_data"
    },
    {
     "data": {
      "application/vnd.jupyter.widget-view+json": {
       "model_id": "77fc6328062a48e6b4bd4d8cb1cd98b6",
       "version_major": 2,
       "version_minor": 0
      },
      "text/plain": [
       "batches:   0%|          | 0/1309 [00:00<?, ?it/s]"
      ]
     },
     "metadata": {},
     "output_type": "display_data"
    },
    {
     "data": {
      "application/vnd.jupyter.widget-view+json": {
       "model_id": "21d0da07e405486c96bf1cb79338d3d4",
       "version_major": 2,
       "version_minor": 0
      },
      "text/plain": [
       "batches:   0%|          | 0/1309 [00:00<?, ?it/s]"
      ]
     },
     "metadata": {},
     "output_type": "display_data"
    },
    {
     "data": {
      "application/vnd.jupyter.widget-view+json": {
       "model_id": "113c7b5d1ed6432aa649631e01bdf2e8",
       "version_major": 2,
       "version_minor": 0
      },
      "text/plain": [
       "batches:   0%|          | 0/1309 [00:00<?, ?it/s]"
      ]
     },
     "metadata": {},
     "output_type": "display_data"
    },
    {
     "data": {
      "application/vnd.jupyter.widget-view+json": {
       "model_id": "dec5e2ad0e3c4731bc776c5ef9d4f109",
       "version_major": 2,
       "version_minor": 0
      },
      "text/plain": [
       "batches:   0%|          | 0/1309 [00:00<?, ?it/s]"
      ]
     },
     "metadata": {},
     "output_type": "display_data"
    },
    {
     "data": {
      "application/vnd.jupyter.widget-view+json": {
       "model_id": "4541c50138354dacb490a2721cc2e629",
       "version_major": 2,
       "version_minor": 0
      },
      "text/plain": [
       "batches:   0%|          | 0/1309 [00:00<?, ?it/s]"
      ]
     },
     "metadata": {},
     "output_type": "display_data"
    },
    {
     "data": {
      "application/vnd.jupyter.widget-view+json": {
       "model_id": "cf50efd03acf41ef9052139d67bd9ed9",
       "version_major": 2,
       "version_minor": 0
      },
      "text/plain": [
       "batches:   0%|          | 0/1309 [00:00<?, ?it/s]"
      ]
     },
     "metadata": {},
     "output_type": "display_data"
    },
    {
     "name": "stdout",
     "output_type": "stream",
     "text": [
      "time per query in s: 3.71e+02\n"
     ]
    }
   ],
   "source": [
    "r = 2\n",
    "tic = time.time()\n",
    "for q in tqdm(qobj_h2mn, f'r = {r} | queries'):\n",
    "    index_str.range_query(q, r, verbose=False)\n",
    "toc = time.time()\n",
    "tqdm.write('time per query in s: ' f'{(toc-tic)/len(qobj_h2mn):.3}')"
   ]
  },
  {
   "cell_type": "code",
   "execution_count": 29,
   "id": "aca275cc-36cf-4521-9341-0daf4582b113",
   "metadata": {},
   "outputs": [],
   "source": [
    "del index_str\n",
    "torch.cuda.empty_cache()"
   ]
  },
  {
   "cell_type": "code",
   "execution_count": 30,
   "id": "8516f410-be11-4b7a-aab0-817f31f3871f",
   "metadata": {},
   "outputs": [
    {
     "name": "stdout",
     "output_type": "stream",
     "text": [
      "fast (vectorised) linear scan index\n",
      "config.device: cuda\n",
      "preprocessing time: 0.000654 s\n"
     ]
    }
   ],
   "source": [
    "config.device = torch.device('cuda')\n",
    "tic = time.time()\n",
    "index_str = index.FastLinearScan(tobj_h2mn, dist_fn=ne_dist_fn)\n",
    "toc = time.time()\n",
    "tqdm.write(f'preprocessing time: {toc-tic:.3} s')"
   ]
  },
  {
   "cell_type": "code",
   "execution_count": null,
   "id": "495983e4-5e7d-455d-bd2a-3e56a059a781",
   "metadata": {
    "tags": []
   },
   "outputs": [
    {
     "data": {
      "application/vnd.jupyter.widget-view+json": {
       "model_id": "6a6319ae22364aeab418eae5b7e13f22",
       "version_major": 2,
       "version_minor": 0
      },
      "text/plain": [
       "k = 10 | queries:   0%|          | 0/10 [00:00<?, ?it/s]"
      ]
     },
     "metadata": {},
     "output_type": "display_data"
    },
    {
     "data": {
      "application/vnd.jupyter.widget-view+json": {
       "model_id": "8b174544352b4fb48fb2f84c693204ec",
       "version_major": 2,
       "version_minor": 0
      },
      "text/plain": [
       "batches:   0%|          | 0/1309 [00:00<?, ?it/s]"
      ]
     },
     "metadata": {},
     "output_type": "display_data"
    },
    {
     "data": {
      "application/vnd.jupyter.widget-view+json": {
       "model_id": "d30673f3d3fd40faba2d9def33622fdf",
       "version_major": 2,
       "version_minor": 0
      },
      "text/plain": [
       "batches:   0%|          | 0/1309 [00:00<?, ?it/s]"
      ]
     },
     "metadata": {},
     "output_type": "display_data"
    },
    {
     "data": {
      "application/vnd.jupyter.widget-view+json": {
       "model_id": "ecf98485232d4bfa9e560aa7111a45e6",
       "version_major": 2,
       "version_minor": 0
      },
      "text/plain": [
       "batches:   0%|          | 0/1309 [00:00<?, ?it/s]"
      ]
     },
     "metadata": {},
     "output_type": "display_data"
    },
    {
     "data": {
      "application/vnd.jupyter.widget-view+json": {
       "model_id": "053962d817354d6590d51b97e4dfff31",
       "version_major": 2,
       "version_minor": 0
      },
      "text/plain": [
       "batches:   0%|          | 0/1309 [00:00<?, ?it/s]"
      ]
     },
     "metadata": {},
     "output_type": "display_data"
    },
    {
     "data": {
      "application/vnd.jupyter.widget-view+json": {
       "model_id": "51dd85583031484a8b77652d0b2a4085",
       "version_major": 2,
       "version_minor": 0
      },
      "text/plain": [
       "batches:   0%|          | 0/1309 [00:00<?, ?it/s]"
      ]
     },
     "metadata": {},
     "output_type": "display_data"
    },
    {
     "data": {
      "application/vnd.jupyter.widget-view+json": {
       "model_id": "ee918dac97b54e2d8a7b6a04183d40eb",
       "version_major": 2,
       "version_minor": 0
      },
      "text/plain": [
       "batches:   0%|          | 0/1309 [00:00<?, ?it/s]"
      ]
     },
     "metadata": {},
     "output_type": "display_data"
    },
    {
     "data": {
      "application/vnd.jupyter.widget-view+json": {
       "model_id": "c5e6cbdadf004e949e3962b9e21b9916",
       "version_major": 2,
       "version_minor": 0
      },
      "text/plain": [
       "batches:   0%|          | 0/1309 [00:00<?, ?it/s]"
      ]
     },
     "metadata": {},
     "output_type": "display_data"
    },
    {
     "data": {
      "application/vnd.jupyter.widget-view+json": {
       "model_id": "9a6a46948b2347acab3a7bcb8eaca895",
       "version_major": 2,
       "version_minor": 0
      },
      "text/plain": [
       "batches:   0%|          | 0/1309 [00:00<?, ?it/s]"
      ]
     },
     "metadata": {},
     "output_type": "display_data"
    },
    {
     "data": {
      "application/vnd.jupyter.widget-view+json": {
       "model_id": "8981c873573d438293d039419e492db2",
       "version_major": 2,
       "version_minor": 0
      },
      "text/plain": [
       "batches:   0%|          | 0/1309 [00:00<?, ?it/s]"
      ]
     },
     "metadata": {},
     "output_type": "display_data"
    },
    {
     "data": {
      "application/vnd.jupyter.widget-view+json": {
       "model_id": "d70f7b1fdc284f10aca93f8d60933e2e",
       "version_major": 2,
       "version_minor": 0
      },
      "text/plain": [
       "batches:   0%|          | 0/1309 [00:00<?, ?it/s]"
      ]
     },
     "metadata": {},
     "output_type": "display_data"
    }
   ],
   "source": [
    "k = 10\n",
    "tic = time.time()\n",
    "for q in tqdm(qobj_h2mn, f'k = {k} | queries'):\n",
    "    index_str.knn_query(q, k, verbose=False)\n",
    "toc = time.time()\n",
    "tqdm.write('time per query in s: ' f'{(toc-tic)/len(qobj_h2mn):.3}')"
   ]
  },
  {
   "cell_type": "code",
   "execution_count": null,
   "id": "73485652-78dc-4ead-967d-0852fa328aec",
   "metadata": {
    "tags": []
   },
   "outputs": [],
   "source": [
    "r = 2\n",
    "tic = time.time()\n",
    "for q in tqdm(qobj_h2mn, f'r = {r} | queries'):\n",
    "    index_str.range_query(q, r, verbose=False)\n",
    "toc = time.time()\n",
    "tqdm.write('time per query in s: ' f'{(toc-tic)/len(qobj_h2mn):.3}')"
   ]
  },
  {
   "cell_type": "code",
   "execution_count": null,
   "id": "04891148-95c8-4bf4-a0ff-1d61d944accb",
   "metadata": {},
   "outputs": [],
   "source": [
    "del index_str\n",
    "torch.cuda.empty_cache()"
   ]
  },
  {
   "cell_type": "markdown",
   "id": "d204d84a-c22c-4868-9db2-aa0498dcca2f",
   "metadata": {},
   "source": [
    "## Unvectorised Linear Scan on CPU (threads=1)"
   ]
  },
  {
   "cell_type": "code",
   "execution_count": null,
   "id": "8e156a14-2a85-4071-a6e0-f2646c1e5976",
   "metadata": {},
   "outputs": [],
   "source": [
    "config.device = torch.device('cpu')\n",
    "torch.set_num_threads(1)\n",
    "tic = time.time()\n",
    "index_str = index.LinearScan(temb, dist_fn=utils.norm_sed_func)\n",
    "toc = time.time()\n",
    "tqdm.write(f'preprocessing time: {toc-tic:.3} s')\n",
    "index_str = index_str.to(config.device)"
   ]
  },
  {
   "cell_type": "code",
   "execution_count": null,
   "id": "e4846f72-3a45-4925-8229-bfab87188828",
   "metadata": {
    "tags": []
   },
   "outputs": [],
   "source": [
    "k = 10\n",
    "tic = time.time()\n",
    "for q in tqdm(qemb, f'k = {k} | queries'):\n",
    "    index_str.knn_query(q, k, verbose=False)\n",
    "toc = time.time()\n",
    "tqdm.write('time per query in s: ' f'{(toc-tic)/qemb.shape[0]:.3}')"
   ]
  },
  {
   "cell_type": "code",
   "execution_count": null,
   "id": "dda921a9-afcd-4ab3-910e-dffdcb58be39",
   "metadata": {
    "tags": []
   },
   "outputs": [],
   "source": [
    "r = 2\n",
    "tic = time.time()\n",
    "for q in tqdm(qemb, f'r = {r} | queries'):\n",
    "    index_str.range_query(q, r, verbose=False)\n",
    "toc = time.time()\n",
    "tqdm.write('time per query in s: ' f'{(toc-tic)/qemb.shape[0]:.3}')"
   ]
  },
  {
   "cell_type": "code",
   "execution_count": null,
   "id": "1835d73d-8838-4204-979f-066ae773a58c",
   "metadata": {},
   "outputs": [],
   "source": [
    "del index_str\n",
    "torch.cuda.empty_cache()"
   ]
  },
  {
   "cell_type": "markdown",
   "id": "f530afc9-a3d7-4f8f-a7a7-32c8de7a2359",
   "metadata": {},
   "source": [
    "## Unvectorised (Metric-)Tree on CPU (threads=1)"
   ]
  },
  {
   "cell_type": "code",
   "execution_count": null,
   "id": "63e4da66-2ae3-49f9-832f-e78552308837",
   "metadata": {},
   "outputs": [],
   "source": [
    "config.device = torch.device('cpu')\n",
    "torch.set_num_threads(1)\n",
    "tic = time.time()\n",
    "index_str = index.AsymTree(temb, dist_fn=utils.norm_sed_func, max_leaf_size=128)\n",
    "toc = time.time()\n",
    "tqdm.write(f'preprocessing time: {toc-tic:.3} s')\n",
    "index_str = index_str.to(config.device)"
   ]
  },
  {
   "cell_type": "code",
   "execution_count": null,
   "id": "a5ea9362-b4d3-48f0-8a89-40e74d1b2634",
   "metadata": {
    "tags": []
   },
   "outputs": [],
   "source": [
    "k = 10\n",
    "tic = time.time()\n",
    "for q in tqdm(qemb, f'k = {k} | queries'):\n",
    "    index_str.knn_query(q, k, slow=True, verbose=False)\n",
    "toc = time.time()\n",
    "tqdm.write('time per query in s: ' f'{(toc-tic)/qemb.shape[0]:.3}')"
   ]
  },
  {
   "cell_type": "code",
   "execution_count": null,
   "id": "2950ebf6-0f70-47e2-a6cc-8946a48128a7",
   "metadata": {
    "tags": []
   },
   "outputs": [],
   "source": [
    "r = 2\n",
    "tic = time.time()\n",
    "for q in tqdm(qemb, f'r = {r} | queries'):\n",
    "    index_str.range_query(q, r, slow=True, verbose=False)\n",
    "toc = time.time()\n",
    "tqdm.write('time per query in s: ' f'{(toc-tic)/qemb.shape[0]:.3}')"
   ]
  },
  {
   "cell_type": "code",
   "execution_count": null,
   "id": "c91bfc1b-c968-4771-a3d7-84536ccfd006",
   "metadata": {},
   "outputs": [],
   "source": [
    "del index_str\n",
    "torch.cuda.empty_cache()"
   ]
  },
  {
   "cell_type": "markdown",
   "id": "9f260574-996a-4750-aa2e-113f694f883c",
   "metadata": {},
   "source": [
    "## Alignment"
   ]
  },
  {
   "cell_type": "code",
   "execution_count": 15,
   "id": "ecc601f0-7158-4cbb-872e-ca363f00ac0d",
   "metadata": {
    "tags": []
   },
   "outputs": [
    {
     "data": {
      "application/vnd.jupyter.widget-view+json": {
       "model_id": "d81f43c67d81407d84809f769b9599d4",
       "version_major": 2,
       "version_minor": 0
      },
      "text/plain": [
       "k = 10 | queries:   0%|          | 0/10 [00:00<?, ?it/s]"
      ]
     },
     "metadata": {},
     "output_type": "display_data"
    },
    {
     "name": "stdout",
     "output_type": "stream",
     "text": [
      "time in s: 0.00447\n"
     ]
    }
   ],
   "source": [
    "tic = time.time()\n",
    "k = 10\n",
    "topk = []\n",
    "for q in tqdm(qemb, f'k = {k} | queries'):\n",
    "    topk.append(index_str.knn_query(q, k, verbose=False))\n",
    "toc = time.time()\n",
    "tqdm.write('time in s: ' f'{(toc-tic)/qemb.shape[0]:.3}')"
   ]
  },
  {
   "cell_type": "code",
   "execution_count": 16,
   "id": "9fd4ff6e-baef-4ce9-9759-9f52c1a5b2a6",
   "metadata": {},
   "outputs": [
    {
     "data": {
      "application/vnd.jupyter.widget-view+json": {
       "model_id": "13b4ef0ac4d947ab8540d5ec87e0b404",
       "version_major": 2,
       "version_minor": 0
      },
      "text/plain": [
       "queries:   0%|          | 0/10 [00:00<?, ?it/s]"
      ]
     },
     "metadata": {},
     "output_type": "display_data"
    },
    {
     "data": {
      "application/vnd.jupyter.widget-view+json": {
       "model_id": "e2c257f6e1b44c2a912c61953740eb1c",
       "version_major": 2,
       "version_minor": 0
      },
      "text/plain": [
       "targets:   0%|          | 0/10 [00:00<?, ?it/s]"
      ]
     },
     "metadata": {},
     "output_type": "display_data"
    },
    {
     "name": "stdout",
     "output_type": "stream",
     "text": [
      "0.0 0.0 | 0.0 0.0 | 0.0 0.0 | 0.0 0.0 | 0.0 0.0 | 0.0 0.0 | 0.0 0.0 | 1.0 1.0 | 0.0 0.0 | 0.0 0.0 | \n"
     ]
    },
    {
     "data": {
      "application/vnd.jupyter.widget-view+json": {
       "model_id": "81e81299b42141299ff19afee37f68d4",
       "version_major": 2,
       "version_minor": 0
      },
      "text/plain": [
       "targets:   0%|          | 0/10 [00:00<?, ?it/s]"
      ]
     },
     "metadata": {},
     "output_type": "display_data"
    },
    {
     "name": "stdout",
     "output_type": "stream",
     "text": [
      "0.0 0.0 | 2.0 2.0 | 0.0 0.0 | 0.0 0.0 | 0.0 0.0 | 0.0 0.0 | 0.0 0.0 | 0.0 0.0 | 0.0 0.0 | 0.0 0.0 | \n"
     ]
    },
    {
     "data": {
      "application/vnd.jupyter.widget-view+json": {
       "model_id": "b687004cbf294cac81654ba3b73fb905",
       "version_major": 2,
       "version_minor": 0
      },
      "text/plain": [
       "targets:   0%|          | 0/10 [00:00<?, ?it/s]"
      ]
     },
     "metadata": {},
     "output_type": "display_data"
    },
    {
     "name": "stdout",
     "output_type": "stream",
     "text": [
      "1.0 1.0 | 0.0 0.0 | 1.0 1.0 | 1.0 1.0 | 1.0 1.0 | 0.0 0.0 | 1.0 1.0 | 1.0 1.0 | 2.0 2.0 | 1.0 1.0 | \n"
     ]
    },
    {
     "data": {
      "application/vnd.jupyter.widget-view+json": {
       "model_id": "bae165f8f63e45a1a227324b86bafcf2",
       "version_major": 2,
       "version_minor": 0
      },
      "text/plain": [
       "targets:   0%|          | 0/10 [00:00<?, ?it/s]"
      ]
     },
     "metadata": {},
     "output_type": "display_data"
    },
    {
     "name": "stdout",
     "output_type": "stream",
     "text": [
      "0.0 0.0 | 0.0 0.0 | 0.0 0.0 | 0.0 0.0 | 0.0 0.0 | 0.0 0.0 | 0.0 0.0 | 0.0 0.0 | 0.0 0.0 | 0.0 0.0 | \n"
     ]
    },
    {
     "data": {
      "application/vnd.jupyter.widget-view+json": {
       "model_id": "7f7bdf959ac64257980e311ff5d31997",
       "version_major": 2,
       "version_minor": 0
      },
      "text/plain": [
       "targets:   0%|          | 0/10 [00:00<?, ?it/s]"
      ]
     },
     "metadata": {},
     "output_type": "display_data"
    },
    {
     "name": "stdout",
     "output_type": "stream",
     "text": [
      "0.0 0.0 | 0.0 0.0 | 0.0 0.0 | 0.0 0.0 | 0.0 0.0 | 0.0 0.0 | 0.0 0.0 | 0.0 0.0 | 0.0 0.0 | 0.0 0.0 | \n"
     ]
    },
    {
     "data": {
      "application/vnd.jupyter.widget-view+json": {
       "model_id": "8da14e14194044c492e9170e3753cc87",
       "version_major": 2,
       "version_minor": 0
      },
      "text/plain": [
       "targets:   0%|          | 0/10 [00:00<?, ?it/s]"
      ]
     },
     "metadata": {},
     "output_type": "display_data"
    },
    {
     "name": "stdout",
     "output_type": "stream",
     "text": [
      "0.0 0.0 | 0.0 0.0 | 1.0 1.0 | 0.0 0.0 | 0.0 0.0 | 0.0 0.0 | 0.0 0.0 | 0.0 0.0 | 0.0 0.0 | 0.0 0.0 | \n"
     ]
    },
    {
     "data": {
      "application/vnd.jupyter.widget-view+json": {
       "model_id": "513684af09534ed88dc2cbb7172cf14a",
       "version_major": 2,
       "version_minor": 0
      },
      "text/plain": [
       "targets:   0%|          | 0/10 [00:00<?, ?it/s]"
      ]
     },
     "metadata": {},
     "output_type": "display_data"
    },
    {
     "name": "stdout",
     "output_type": "stream",
     "text": [
      "0.0 0.0 | 0.0 0.0 | 0.0 0.0 | 0.0 0.0 | 0.0 0.0 | 0.0 0.0 | 0.0 0.0 | 0.0 0.0 | 0.0 0.0 | 0.0 0.0 | \n"
     ]
    },
    {
     "data": {
      "application/vnd.jupyter.widget-view+json": {
       "model_id": "94a6656c410f4859856fa52ce1de03fd",
       "version_major": 2,
       "version_minor": 0
      },
      "text/plain": [
       "targets:   0%|          | 0/10 [00:00<?, ?it/s]"
      ]
     },
     "metadata": {},
     "output_type": "display_data"
    },
    {
     "name": "stdout",
     "output_type": "stream",
     "text": [
      "0.0 0.0 | 0.0 0.0 | 0.0 0.0 | 0.0 0.0 | 0.0 0.0 | 0.0 0.0 | 0.0 0.0 | 0.0 0.0 | 0.0 0.0 | 0.0 0.0 | \n"
     ]
    },
    {
     "data": {
      "application/vnd.jupyter.widget-view+json": {
       "model_id": "afbf41fee9ce464498d418c6b4228953",
       "version_major": 2,
       "version_minor": 0
      },
      "text/plain": [
       "targets:   0%|          | 0/10 [00:00<?, ?it/s]"
      ]
     },
     "metadata": {},
     "output_type": "display_data"
    },
    {
     "name": "stdout",
     "output_type": "stream",
     "text": [
      "0.0 0.0 | 0.0 0.0 | 0.0 0.0 | 0.0 0.0 | 0.0 0.0 | 0.0 0.0 | 0.0 0.0 | 0.0 0.0 | 0.0 0.0 | 0.0 0.0 | \n"
     ]
    },
    {
     "data": {
      "application/vnd.jupyter.widget-view+json": {
       "model_id": "879a6e5c22014096b68d201fc316225a",
       "version_major": 2,
       "version_minor": 0
      },
      "text/plain": [
       "targets:   0%|          | 0/10 [00:00<?, ?it/s]"
      ]
     },
     "metadata": {},
     "output_type": "display_data"
    },
    {
     "name": "stdout",
     "output_type": "stream",
     "text": [
      "1.0 1.0 | 0.0 0.0 | 0.0 0.0 | 0.0 0.0 | 0.0 0.0 | 0.0 0.0 | 0.0 0.0 | 0.0 0.0 | 1.0 1.0 | 0.0 0.0 | \n",
      "528.0619425773621\n"
     ]
    }
   ],
   "source": [
    "tic = time.time()\n",
    "for q, ts in zip(tqdm(queries, 'queries'), topk):\n",
    "    for ti in tqdm(ts, 'targets'):\n",
    "        node_map, (lb, ub) = pyged.sed_align(utils.to_pyged(q), utils.to_pyged(nbrs[ti]), 'f2', '')\n",
    "        print(lb, ub, end = ' | ')\n",
    "    print()\n",
    "toc = time.time()\n",
    "print(toc-tic)"
   ]
  },
  {
   "cell_type": "code",
   "execution_count": 17,
   "id": "577fe9c6-1b0c-43df-8e4f-2290dd322d54",
   "metadata": {},
   "outputs": [
    {
     "data": {
      "application/vnd.jupyter.widget-view+json": {
       "model_id": "0317b4b02ba34f40b00aeb492a10b759",
       "version_major": 2,
       "version_minor": 0
      },
      "text/plain": [
       "queries:   0%|          | 0/10 [00:00<?, ?it/s]"
      ]
     },
     "metadata": {},
     "output_type": "display_data"
    },
    {
     "data": {
      "application/vnd.jupyter.widget-view+json": {
       "model_id": "9ba744b854e24b31b5700d55dbbbab3b",
       "version_major": 2,
       "version_minor": 0
      },
      "text/plain": [
       "targets:   0%|          | 0/10 [00:00<?, ?it/s]"
      ]
     },
     "metadata": {},
     "output_type": "display_data"
    },
    {
     "name": "stdout",
     "output_type": "stream",
     "text": [
      "0.0 0.0 | 0.0 0.0 | 0.0 0.0 | 0.0 0.0 | 0.0 0.0 | 0.0 0.0 | 0.0 0.0 | 1.0 1.0 | 0.0 0.0 | 0.0 0.0 | \n"
     ]
    },
    {
     "data": {
      "application/vnd.jupyter.widget-view+json": {
       "model_id": "66bd88099c5548b3857f7315083d9162",
       "version_major": 2,
       "version_minor": 0
      },
      "text/plain": [
       "targets:   0%|          | 0/10 [00:00<?, ?it/s]"
      ]
     },
     "metadata": {},
     "output_type": "display_data"
    },
    {
     "name": "stdout",
     "output_type": "stream",
     "text": [
      "0.0 0.0 | 2.0 2.0 | 0.0 0.0 | 0.0 0.0 | 0.0 0.0 | 0.0 0.0 | 0.0 0.0 | 0.0 0.0 | 0.0 0.0 | 0.0 0.0 | \n"
     ]
    },
    {
     "data": {
      "application/vnd.jupyter.widget-view+json": {
       "model_id": "ec0525e1f9744d499945ae4c146386ea",
       "version_major": 2,
       "version_minor": 0
      },
      "text/plain": [
       "targets:   0%|          | 0/10 [00:00<?, ?it/s]"
      ]
     },
     "metadata": {},
     "output_type": "display_data"
    },
    {
     "name": "stdout",
     "output_type": "stream",
     "text": [
      "1.0 1.0 | 0.0 0.0 | 1.0 1.0 | 1.0 1.0 | 1.0 1.0 | 0.0 0.0 | 1.0 1.0 | 1.0 1.0 | 2.0 2.0 | 1.0 1.0 | \n"
     ]
    },
    {
     "data": {
      "application/vnd.jupyter.widget-view+json": {
       "model_id": "af387f11470941279157cb9c67e873bf",
       "version_major": 2,
       "version_minor": 0
      },
      "text/plain": [
       "targets:   0%|          | 0/10 [00:00<?, ?it/s]"
      ]
     },
     "metadata": {},
     "output_type": "display_data"
    },
    {
     "name": "stdout",
     "output_type": "stream",
     "text": [
      "0.0 0.0 | 0.0 0.0 | 0.0 0.0 | 0.0 0.0 | 0.0 0.0 | 0.0 0.0 | 0.0 0.0 | 0.0 0.0 | 0.0 0.0 | 0.0 0.0 | \n"
     ]
    },
    {
     "data": {
      "application/vnd.jupyter.widget-view+json": {
       "model_id": "695068190fb040639304d23c541b319b",
       "version_major": 2,
       "version_minor": 0
      },
      "text/plain": [
       "targets:   0%|          | 0/10 [00:00<?, ?it/s]"
      ]
     },
     "metadata": {},
     "output_type": "display_data"
    },
    {
     "name": "stdout",
     "output_type": "stream",
     "text": [
      "0.0 0.0 | 0.0 0.0 | 0.0 0.0 | 0.0 0.0 | 0.0 0.0 | 0.0 0.0 | 0.0 0.0 | 0.0 0.0 | 0.0 0.0 | 0.0 0.0 | \n"
     ]
    },
    {
     "data": {
      "application/vnd.jupyter.widget-view+json": {
       "model_id": "0b1e60f0d7c24324940d1b0443828d35",
       "version_major": 2,
       "version_minor": 0
      },
      "text/plain": [
       "targets:   0%|          | 0/10 [00:00<?, ?it/s]"
      ]
     },
     "metadata": {},
     "output_type": "display_data"
    },
    {
     "name": "stdout",
     "output_type": "stream",
     "text": [
      "0.0 0.0 | 0.0 0.0 | 1.0 1.0 | 0.0 0.0 | 0.0 0.0 | 0.0 0.0 | 0.0 0.0 | 0.0 0.0 | 0.0 0.0 | 0.0 0.0 | \n"
     ]
    },
    {
     "data": {
      "application/vnd.jupyter.widget-view+json": {
       "model_id": "5be05e6d86c442ac881722e225e6eddd",
       "version_major": 2,
       "version_minor": 0
      },
      "text/plain": [
       "targets:   0%|          | 0/10 [00:00<?, ?it/s]"
      ]
     },
     "metadata": {},
     "output_type": "display_data"
    },
    {
     "name": "stdout",
     "output_type": "stream",
     "text": [
      "0.0 0.0 | 0.0 0.0 | 0.0 0.0 | 0.0 0.0 | 0.0 0.0 | 0.0 0.0 | 0.0 0.0 | 0.0 0.0 | 0.0 0.0 | 0.0 0.0 | \n"
     ]
    },
    {
     "data": {
      "application/vnd.jupyter.widget-view+json": {
       "model_id": "f8fb4fcd6d3b459b8e37ddd1f43b5c20",
       "version_major": 2,
       "version_minor": 0
      },
      "text/plain": [
       "targets:   0%|          | 0/10 [00:00<?, ?it/s]"
      ]
     },
     "metadata": {},
     "output_type": "display_data"
    },
    {
     "name": "stdout",
     "output_type": "stream",
     "text": [
      "0.0 0.0 | 0.0 0.0 | 0.0 0.0 | 0.0 0.0 | 0.0 0.0 | 0.0 0.0 | 0.0 0.0 | 0.0 0.0 | 0.0 0.0 | 0.0 0.0 | \n"
     ]
    },
    {
     "data": {
      "application/vnd.jupyter.widget-view+json": {
       "model_id": "3af577b8fd7f4b898f933b1916aa04c0",
       "version_major": 2,
       "version_minor": 0
      },
      "text/plain": [
       "targets:   0%|          | 0/10 [00:00<?, ?it/s]"
      ]
     },
     "metadata": {},
     "output_type": "display_data"
    },
    {
     "name": "stdout",
     "output_type": "stream",
     "text": [
      "0.0 0.0 | 0.0 0.0 | 0.0 0.0 | 0.0 0.0 | 0.0 0.0 | 0.0 0.0 | 0.0 0.0 | 0.0 0.0 | 0.0 0.0 | 0.0 0.0 | \n"
     ]
    },
    {
     "data": {
      "application/vnd.jupyter.widget-view+json": {
       "model_id": "1f8a9f0e7f7e406390c46e8d0c0554d3",
       "version_major": 2,
       "version_minor": 0
      },
      "text/plain": [
       "targets:   0%|          | 0/10 [00:00<?, ?it/s]"
      ]
     },
     "metadata": {},
     "output_type": "display_data"
    },
    {
     "name": "stdout",
     "output_type": "stream",
     "text": [
      "1.0 1.0 | 0.0 0.0 | 0.0 0.0 | 0.0 0.0 | 0.0 0.0 | 0.0 0.0 | 0.0 0.0 | 0.0 0.0 | 1.0 1.0 | 0.0 0.0 | \n",
      "314.4020688533783\n"
     ]
    }
   ],
   "source": [
    "tic = time.time()\n",
    "for q, ts in zip(tqdm(queries, 'queries'), topk):\n",
    "    for ti in tqdm(ts, 'targets'):\n",
    "        node_map, (lb, ub) = pyged.sed_align(utils.to_pyged(q), utils.to_pyged(nbrs[ti]), 'f2', '--threads 64')\n",
    "        print(lb, ub, end = ' | ')\n",
    "    print()\n",
    "toc = time.time()\n",
    "print(toc-tic)"
   ]
  },
  {
   "cell_type": "code",
   "execution_count": null,
   "id": "6a7ae862-aeea-4591-9e5b-0812cec3fa1d",
   "metadata": {},
   "outputs": [],
   "source": []
  }
 ],
 "metadata": {
  "kernelspec": {
   "display_name": "Python 3",
   "language": "python",
   "name": "python3"
  },
  "language_info": {
   "codemirror_mode": {
    "name": "ipython",
    "version": 3
   },
   "file_extension": ".py",
   "mimetype": "text/x-python",
   "name": "python",
   "nbconvert_exporter": "python",
   "pygments_lexer": "ipython3",
   "version": "3.6.13"
  }
 },
 "nbformat": 4,
 "nbformat_minor": 5
}
