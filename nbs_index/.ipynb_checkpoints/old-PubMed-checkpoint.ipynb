{
 "cells": [
  {
   "cell_type": "code",
   "execution_count": 1,
   "id": "432d6d23-b00d-4c72-81e5-a6b18e880036",
   "metadata": {},
   "outputs": [],
   "source": [
    "CUDA_INDEX = 2\n",
    "NAME = 'PubMed'\n",
    "CLASSES = 3"
   ]
  },
  {
   "cell_type": "code",
   "execution_count": 2,
   "id": "9b10d1b3-bd2f-4d89-aaf0-40654efbd9ef",
   "metadata": {},
   "outputs": [],
   "source": [
    "import sys\n",
    "sys.path.insert(0, '../..')\n",
    "sys.path.insert(0, '../../pyged/lib')"
   ]
  },
  {
   "cell_type": "code",
   "execution_count": 3,
   "id": "429ab5f3-27f1-4ce7-a371-5a69c529d303",
   "metadata": {},
   "outputs": [
    {
     "data": {
      "text/plain": [
       "<module 'neuro.viz' from '../../neuro/viz.py'>"
      ]
     },
     "execution_count": 3,
     "metadata": {},
     "output_type": "execute_result"
    }
   ],
   "source": [
    "import os\n",
    "import pickle\n",
    "import random\n",
    "import time\n",
    "\n",
    "import IPython as ipy\n",
    "import matplotlib.pyplot as plt\n",
    "import numpy as np\n",
    "import torch\n",
    "torch.cuda.set_device(CUDA_INDEX)\n",
    "torch.backends.cudnn.benchmark = True\n",
    "import torch.optim\n",
    "import torch_geometric as tg\n",
    "import torch_geometric.data\n",
    "from tqdm.auto import tqdm\n",
    "\n",
    "from neuro import config, datasets, index, metrics, models, train, utils, viz\n",
    "import pyged\n",
    "\n",
    "from importlib import reload\n",
    "reload(config)\n",
    "reload(datasets)\n",
    "reload(index)\n",
    "reload(metrics)\n",
    "reload(models)\n",
    "reload(pyged)\n",
    "reload(train)\n",
    "reload(utils)\n",
    "reload(viz)"
   ]
  },
  {
   "cell_type": "code",
   "execution_count": 4,
   "id": "b56516dd-f7e5-42ca-963f-e893282e991f",
   "metadata": {},
   "outputs": [
    {
     "data": {
      "text/plain": [
       "<module 'neuro.h2mn_utils' from '../../neuro/h2mn_utils.py'>"
      ]
     },
     "execution_count": 4,
     "metadata": {},
     "output_type": "execute_result"
    }
   ],
   "source": [
    "import ext.H2MN as h2mn\n",
    "import ext.H2MN.models\n",
    "from neuro import h2mn_utils\n",
    "\n",
    "reload(h2mn)\n",
    "reload(h2mn_utils)"
   ]
  },
  {
   "cell_type": "code",
   "execution_count": 5,
   "id": "8d972ba3-9375-4e69-931d-f1094fa9f289",
   "metadata": {},
   "outputs": [],
   "source": [
    "# graphs = utils.remove_extra_attrs(utils.label_graphs(tg.datasets.CitationFull(root=f'../data/{NAME}/tg', name=f'{NAME}')))"
   ]
  },
  {
   "cell_type": "code",
   "execution_count": 6,
   "id": "51e8b396-4297-48a6-b277-3cc87a6aa412",
   "metadata": {},
   "outputs": [],
   "source": [
    "# tic = time.time()\n",
    "# nbrs = datasets.decompose(graphs, n_hops=2)\n",
    "# toc = time.time()\n",
    "# torch.save(nbrs, f'../data/{NAME}/nbrs.pt')\n",
    "# tqdm.write(f'neighborhood decomposition time: {toc-tic:.3} s')\n",
    "nbrs = torch.load(f'/data/rishabh/neurosim/final/data/{NAME}/nbrs.pt')"
   ]
  },
  {
   "cell_type": "code",
   "execution_count": 7,
   "id": "ef58d72c-d610-4ae2-9e80-8eb7701812bf",
   "metadata": {},
   "outputs": [
    {
     "name": "stdout",
     "output_type": "stream",
     "text": [
      "sample queries from targets\n"
     ]
    },
    {
     "data": {
      "application/vnd.jupyter.widget-view+json": {
       "model_id": "8ed7b39ef6b842aab45e172a77152926",
       "version_major": 2,
       "version_minor": 0
      },
      "text/plain": [
       "sampled queries:   0%|          | 0/10 [00:00<?, ?it/s]"
      ]
     },
     "metadata": {},
     "output_type": "display_data"
    }
   ],
   "source": [
    "queries = datasets.make_queries(nbrs, n_queries=10, n_hops=2, trav_prob=0.4, node_lim=25)\n",
    "torch.save(queries, f'../retrvs/{NAME}/queries.pt')\n",
    "queries = torch.load(f'../retrvs/{NAME}/queries.pt', map_location='cpu')"
   ]
  },
  {
   "cell_type": "code",
   "execution_count": 8,
   "id": "0237bbf2-c71e-4898-aee2-113807d81be5",
   "metadata": {},
   "outputs": [],
   "source": [
    "model = models.NormSEDModel(8, CLASSES, 64, 64)\n",
    "model.load_state_dict(torch.load(f'../runlogs/{NAME}/1621887700.5921354/best_model.pt', map_location='cpu'))\n",
    "model = model.eval()\n",
    "model = model.to(config.device)"
   ]
  },
  {
   "cell_type": "code",
   "execution_count": 9,
   "id": "6005510d-fcab-4dbf-8354-f5fbdeabfa2d",
   "metadata": {},
   "outputs": [],
   "source": [
    "rw_path = f'/home/neuroGQuery/siddharth/H2MN/ckpt/{NAME}-RW'\n",
    "rw_args = torch.load(os.path.join(rw_path, 'args.pt'), map_location='cpu')\n",
    "rw_model = h2mn.models.Model(rw_args)\n",
    "rw_model.load_state_dict(torch.load(os.path.join(rw_path, 'model.pth'), map_location='cpu'))\n",
    "rw_model = rw_model.eval()\n",
    "rw_model = rw_model.to(config.device)\n",
    "rw_dist_fn = h2mn_utils.DistancePredictor(rw_model, batch_size=128)"
   ]
  },
  {
   "cell_type": "code",
   "execution_count": 10,
   "id": "c62cd14a-fa35-46ec-bcb3-875815b1b47d",
   "metadata": {},
   "outputs": [],
   "source": [
    "ne_path = f'/home/neuroGQuery/siddharth/H2MN/ckpt/{NAME}_K2-NE'\n",
    "ne_args = torch.load(os.path.join(ne_path, 'args.pt'), map_location='cpu')\n",
    "ne_model = h2mn.models.Model(ne_args)\n",
    "ne_model.load_state_dict(torch.load(os.path.join(ne_path, 'model.pth'), map_location='cpu'))\n",
    "ne_model = ne_model.eval()\n",
    "ne_model = ne_model.to(config.device)\n",
    "ne_dist_fn = h2mn_utils.DistancePredictor(ne_model, batch_size=128)"
   ]
  },
  {
   "cell_type": "code",
   "execution_count": 11,
   "id": "7f64c613-92b4-44fa-9fc1-b553525a022b",
   "metadata": {},
   "outputs": [
    {
     "data": {
      "application/vnd.jupyter.widget-view+json": {
       "model_id": "02fc2c6ecb334004896fa05ee27a565e",
       "version_major": 2,
       "version_minor": 0
      },
      "text/plain": [
       "target batches:   0%|          | 0/5 [00:00<?, ?it/s]"
      ]
     },
     "metadata": {},
     "output_type": "display_data"
    },
    {
     "name": "stdout",
     "output_type": "stream",
     "text": [
      "total target embedding time: 1.47 s\n",
      "per target embedding time: 7.45e-05 s\n"
     ]
    }
   ],
   "source": [
    "tic = time.time()\n",
    "target_embs_list = []\n",
    "batch_size = 4096\n",
    "with torch.no_grad():\n",
    "    for i in tqdm(range(0,len(nbrs),batch_size), 'target batches'):\n",
    "        target_embs_list.append(model.embed_model(tg.data.Batch.from_data_list(nbrs[i:i+batch_size]).to(config.device)))\n",
    "target_embs = torch.cat(target_embs_list)\n",
    "toc = time.time()\n",
    "tqdm.write(f'total target embedding time: {toc-tic:.3} s')\n",
    "tqdm.write(f'per target embedding time: {(toc-tic)/len(nbrs):.3} s')\n",
    "torch.save(target_embs, f'../retrvs/{NAME}/target_embs.pt')\n",
    "target_embs = torch.load(f'../retrvs/{NAME}/target_embs.pt', map_location='cpu')"
   ]
  },
  {
   "cell_type": "code",
   "execution_count": 12,
   "id": "9b7e7299-1f2c-4fa5-a310-1c015016bb3b",
   "metadata": {},
   "outputs": [
    {
     "name": "stdout",
     "output_type": "stream",
     "text": [
      "total query embedding time: 0.00509 s\n",
      "per query embedding time: 0.000509 s\n"
     ]
    }
   ],
   "source": [
    "tic = time.time()\n",
    "with torch.no_grad():\n",
    "    query_embs = model.embed_model(tg.data.Batch.from_data_list(queries).to(config.device))\n",
    "toc = time.time()\n",
    "tqdm.write(f'total query embedding time: {toc-tic:.3} s')\n",
    "tqdm.write(f'per query embedding time: {(toc-tic)/len(queries):.3} s')\n",
    "torch.save(query_embs, f'../retrvs/{NAME}/query_embs.pt')\n",
    "query_embs = torch.load(f'../retrvs/{NAME}/query_embs.pt', map_location='cpu')"
   ]
  },
  {
   "cell_type": "code",
   "execution_count": 13,
   "id": "bc895ebf-7d83-4a4a-b1b2-6658001a7377",
   "metadata": {},
   "outputs": [],
   "source": [
    "temb = target_embs\n",
    "qemb = query_embs"
   ]
  },
  {
   "cell_type": "code",
   "execution_count": 14,
   "id": "6d7116c3-9071-433a-81d1-4cb4176db010",
   "metadata": {},
   "outputs": [
    {
     "data": {
      "application/vnd.jupyter.widget-view+json": {
       "model_id": "cb621b1d86cb45eca523cbcbdbb4f891",
       "version_major": 2,
       "version_minor": 0
      },
      "text/plain": [
       "graphs:   0%|          | 0/19717 [00:00<?, ?it/s]"
      ]
     },
     "metadata": {},
     "output_type": "display_data"
    },
    {
     "name": "stdout",
     "output_type": "stream",
     "text": [
      "total target preprocessing time (H2MN): 2.31 s\n",
      "per target preprocessing time (H2MN): 0.000117 s\n"
     ]
    }
   ],
   "source": [
    "tic = time.time()\n",
    "with torch.no_grad():\n",
    "    target_list_h2mn = h2mn_utils.preprocess(nbrs, rw_args.max_degree)\n",
    "toc = time.time()\n",
    "tqdm.write(f'total target preprocessing time (H2MN): {toc-tic:.3} s')\n",
    "tqdm.write(f'per target preprocessing time (H2MN): {(toc-tic)/len(nbrs):.3} s')\n",
    "torch.save(target_list_h2mn, f'../retrvs/{NAME}/target_list_h2mn.pt')\n",
    "target_list_h2mn = torch.load(f'../retrvs/{NAME}/target_list_h2mn.pt', map_location='cpu')"
   ]
  },
  {
   "cell_type": "code",
   "execution_count": 15,
   "id": "811478e0-2ed1-48ed-8d75-79119af74572",
   "metadata": {},
   "outputs": [
    {
     "data": {
      "application/vnd.jupyter.widget-view+json": {
       "model_id": "d3d4f091de204f7c9d0745823b9cae01",
       "version_major": 2,
       "version_minor": 0
      },
      "text/plain": [
       "graphs:   0%|          | 0/10 [00:00<?, ?it/s]"
      ]
     },
     "metadata": {},
     "output_type": "display_data"
    },
    {
     "name": "stdout",
     "output_type": "stream",
     "text": [
      "total query preprocessing time (H2MN): 0.0222 s\n",
      "per query preprocessing time (H2MN): 1.13e-06 s\n"
     ]
    }
   ],
   "source": [
    "tic = time.time()\n",
    "with torch.no_grad():\n",
    "    query_list_h2mn = h2mn_utils.preprocess(queries, rw_args.max_degree)\n",
    "toc = time.time()\n",
    "tqdm.write(f'total query preprocessing time (H2MN): {toc-tic:.3} s')\n",
    "tqdm.write(f'per query preprocessing time (H2MN): {(toc-tic)/len(nbrs):.3} s')\n",
    "torch.save(query_list_h2mn, f'../retrvs/{NAME}/query_list_h2mn.pt')\n",
    "query_list_h2mn = torch.load(f'../retrvs/{NAME}/query_list_h2mn.pt', map_location='cpu')"
   ]
  },
  {
   "cell_type": "code",
   "execution_count": 16,
   "id": "efbf447d-d142-48ef-a02e-a8b2993146b3",
   "metadata": {},
   "outputs": [],
   "source": [
    "tobj_h2mn = target_list_h2mn\n",
    "qobj_h2mn = query_list_h2mn"
   ]
  },
  {
   "cell_type": "markdown",
   "id": "43d06eae-84d9-45c2-96fb-a9216c70c224",
   "metadata": {},
   "source": [
    "## Vectorised Linear Scan on GPU"
   ]
  },
  {
   "cell_type": "code",
   "execution_count": 17,
   "id": "aa505308-9924-4200-84ba-5c5583b97461",
   "metadata": {},
   "outputs": [
    {
     "name": "stdout",
     "output_type": "stream",
     "text": [
      "fast (vectorised) linear scan index\n",
      "config.device: cuda\n",
      "preprocessing time: 0.00242 s\n"
     ]
    }
   ],
   "source": [
    "config.device = torch.device('cuda')\n",
    "tic = time.time()\n",
    "index_str = index.FastLinearScan(temb, dist_fn=utils.norm_sed_func)\n",
    "toc = time.time()\n",
    "tqdm.write(f'preprocessing time: {toc-tic:.3} s')"
   ]
  },
  {
   "cell_type": "code",
   "execution_count": 18,
   "id": "ab3aeb85-0b7e-4eac-829d-e7bcd9fd7db7",
   "metadata": {
    "tags": []
   },
   "outputs": [
    {
     "data": {
      "application/vnd.jupyter.widget-view+json": {
       "model_id": "35399f2d302a4849a050023f6fd0dbe0",
       "version_major": 2,
       "version_minor": 0
      },
      "text/plain": [
       "k = 10 | queries:   0%|          | 0/10 [00:00<?, ?it/s]"
      ]
     },
     "metadata": {},
     "output_type": "display_data"
    },
    {
     "name": "stdout",
     "output_type": "stream",
     "text": [
      "time per query in s: 0.00275\n"
     ]
    }
   ],
   "source": [
    "k = 10\n",
    "tic = time.time()\n",
    "topk = []\n",
    "for q in tqdm(qemb, f'k = {k} | queries'):\n",
    "    topk.append(index_str.knn_query(q, k, verbose=False))\n",
    "toc = time.time()\n",
    "tqdm.write('time per query in s: ' f'{(toc-tic)/qemb.shape[0]:.3}')\n",
    "torch.save(topk, f'../retrvs/{NAME}/neurosed_fast_linear_scan_topk10.pt')\n",
    "topk = torch.load(f'../retrvs/{NAME}/neurosed_fast_linear_scan_topk10.pt', map_location='cpu')"
   ]
  },
  {
   "cell_type": "code",
   "execution_count": 19,
   "id": "6df6cac1-2619-406a-8535-5f831c39008a",
   "metadata": {
    "tags": []
   },
   "outputs": [
    {
     "data": {
      "application/vnd.jupyter.widget-view+json": {
       "model_id": "e939aea682bd477184f30d4db003f92a",
       "version_major": 2,
       "version_minor": 0
      },
      "text/plain": [
       "r = 2 | queries:   0%|          | 0/10 [00:00<?, ?it/s]"
      ]
     },
     "metadata": {},
     "output_type": "display_data"
    },
    {
     "name": "stdout",
     "output_type": "stream",
     "text": [
      "time per query in s: 0.00334\n"
     ]
    }
   ],
   "source": [
    "r = 2\n",
    "tic = time.time()\n",
    "ans = []\n",
    "for q in tqdm(qemb, f'r = {r} | queries'):\n",
    "    ans.append(index_str.range_query(q, r, verbose=False))\n",
    "toc = time.time()\n",
    "tqdm.write('time per query in s: ' f'{(toc-tic)/qemb.shape[0]:.3}')\n",
    "torch.save(ans, f'../retrvs/{NAME}/neurosed_fast_linear_scan_range2.pt')\n",
    "ans = torch.load(f'../retrvs/{NAME}/neurosed_fast_linear_scan_range2.pt', map_location='cpu')"
   ]
  },
  {
   "cell_type": "code",
   "execution_count": 20,
   "id": "e6475dcf-f0dd-49c7-a1c8-9370a9b5fc78",
   "metadata": {},
   "outputs": [
    {
     "name": "stdout",
     "output_type": "stream",
     "text": [
      "fast (vectorised) linear scan index\n",
      "config.device: cuda\n",
      "preprocessing time: 1.48 s\n"
     ]
    }
   ],
   "source": [
    "config.device = torch.device('cuda')\n",
    "tic = time.time()\n",
    "index_str = index.FastLinearScan(tobj_h2mn, dist_fn=rw_dist_fn)\n",
    "toc = time.time()\n",
    "tqdm.write(f'preprocessing time: {toc-tic:.3} s')"
   ]
  },
  {
   "cell_type": "code",
   "execution_count": 21,
   "id": "59a9801f-f282-4b3d-b744-ef2f623ef2cf",
   "metadata": {
    "tags": []
   },
   "outputs": [
    {
     "data": {
      "application/vnd.jupyter.widget-view+json": {
       "model_id": "a4a25d1fa13041eba1000738a6b4ddb9",
       "version_major": 2,
       "version_minor": 0
      },
      "text/plain": [
       "k = 10 | queries:   0%|          | 0/10 [00:00<?, ?it/s]"
      ]
     },
     "metadata": {},
     "output_type": "display_data"
    },
    {
     "data": {
      "application/vnd.jupyter.widget-view+json": {
       "model_id": "bd7a50c6e18146ba9996459293eeda7d",
       "version_major": 2,
       "version_minor": 0
      },
      "text/plain": [
       "batches:   0%|          | 0/155 [00:00<?, ?it/s]"
      ]
     },
     "metadata": {},
     "output_type": "display_data"
    },
    {
     "data": {
      "application/vnd.jupyter.widget-view+json": {
       "model_id": "e0cb464701db46369380715c420dc7dd",
       "version_major": 2,
       "version_minor": 0
      },
      "text/plain": [
       "batches:   0%|          | 0/155 [00:00<?, ?it/s]"
      ]
     },
     "metadata": {},
     "output_type": "display_data"
    },
    {
     "data": {
      "application/vnd.jupyter.widget-view+json": {
       "model_id": "19f7b7fb45f5473abb97b6310f0ca760",
       "version_major": 2,
       "version_minor": 0
      },
      "text/plain": [
       "batches:   0%|          | 0/155 [00:00<?, ?it/s]"
      ]
     },
     "metadata": {},
     "output_type": "display_data"
    },
    {
     "data": {
      "application/vnd.jupyter.widget-view+json": {
       "model_id": "c8a34c1aa7c445d7989e57b7d54f420c",
       "version_major": 2,
       "version_minor": 0
      },
      "text/plain": [
       "batches:   0%|          | 0/155 [00:00<?, ?it/s]"
      ]
     },
     "metadata": {},
     "output_type": "display_data"
    },
    {
     "data": {
      "application/vnd.jupyter.widget-view+json": {
       "model_id": "6410f40fe9ba44c8aee41ad5ce083aff",
       "version_major": 2,
       "version_minor": 0
      },
      "text/plain": [
       "batches:   0%|          | 0/155 [00:00<?, ?it/s]"
      ]
     },
     "metadata": {},
     "output_type": "display_data"
    },
    {
     "data": {
      "application/vnd.jupyter.widget-view+json": {
       "model_id": "1b8edcb26b254e0ab79f78d2582318d7",
       "version_major": 2,
       "version_minor": 0
      },
      "text/plain": [
       "batches:   0%|          | 0/155 [00:00<?, ?it/s]"
      ]
     },
     "metadata": {},
     "output_type": "display_data"
    },
    {
     "data": {
      "application/vnd.jupyter.widget-view+json": {
       "model_id": "14137dc4c14648b4bd2c2ffb3290cc88",
       "version_major": 2,
       "version_minor": 0
      },
      "text/plain": [
       "batches:   0%|          | 0/155 [00:00<?, ?it/s]"
      ]
     },
     "metadata": {},
     "output_type": "display_data"
    },
    {
     "data": {
      "application/vnd.jupyter.widget-view+json": {
       "model_id": "9301c0dcdd36419faca16b298a2b4dbd",
       "version_major": 2,
       "version_minor": 0
      },
      "text/plain": [
       "batches:   0%|          | 0/155 [00:00<?, ?it/s]"
      ]
     },
     "metadata": {},
     "output_type": "display_data"
    },
    {
     "data": {
      "application/vnd.jupyter.widget-view+json": {
       "model_id": "24c159f782bd4f49a680779151186fc8",
       "version_major": 2,
       "version_minor": 0
      },
      "text/plain": [
       "batches:   0%|          | 0/155 [00:00<?, ?it/s]"
      ]
     },
     "metadata": {},
     "output_type": "display_data"
    },
    {
     "data": {
      "application/vnd.jupyter.widget-view+json": {
       "model_id": "51e9fba6ed3348749cde55dc0268546d",
       "version_major": 2,
       "version_minor": 0
      },
      "text/plain": [
       "batches:   0%|          | 0/155 [00:00<?, ?it/s]"
      ]
     },
     "metadata": {},
     "output_type": "display_data"
    },
    {
     "name": "stdout",
     "output_type": "stream",
     "text": [
      "time per query in s: 27.3\n"
     ]
    }
   ],
   "source": [
    "k = 10\n",
    "tic = time.time()\n",
    "topk = []\n",
    "for q in tqdm(qobj_h2mn, f'k = {k} | queries'):\n",
    "    topk.append(index_str.knn_query(q, k, verbose=False))\n",
    "toc = time.time()\n",
    "tqdm.write('time per query in s: ' f'{(toc-tic)/len(qobj_h2mn):.3}')\n",
    "torch.save(topk, f'../retrvs/{NAME}/h2mn_rw_fast_linear_scan_topk10.pt')\n",
    "topk = torch.load(f'../retrvs/{NAME}/h2mn_rw_fast_linear_scan_topk10.pt', map_location='cpu')"
   ]
  },
  {
   "cell_type": "code",
   "execution_count": 22,
   "id": "168dd13c-df55-450c-8dbf-c0a789c474f5",
   "metadata": {
    "tags": []
   },
   "outputs": [
    {
     "data": {
      "application/vnd.jupyter.widget-view+json": {
       "model_id": "62db4657d1c44099a8afe523e35d8b4e",
       "version_major": 2,
       "version_minor": 0
      },
      "text/plain": [
       "r = 2 | queries:   0%|          | 0/10 [00:00<?, ?it/s]"
      ]
     },
     "metadata": {},
     "output_type": "display_data"
    },
    {
     "data": {
      "application/vnd.jupyter.widget-view+json": {
       "model_id": "b64eb0120106431d9de8d10421e35ac7",
       "version_major": 2,
       "version_minor": 0
      },
      "text/plain": [
       "batches:   0%|          | 0/155 [00:00<?, ?it/s]"
      ]
     },
     "metadata": {},
     "output_type": "display_data"
    },
    {
     "data": {
      "application/vnd.jupyter.widget-view+json": {
       "model_id": "f3b214843ee6458aa42c26fb0782c371",
       "version_major": 2,
       "version_minor": 0
      },
      "text/plain": [
       "batches:   0%|          | 0/155 [00:00<?, ?it/s]"
      ]
     },
     "metadata": {},
     "output_type": "display_data"
    },
    {
     "data": {
      "application/vnd.jupyter.widget-view+json": {
       "model_id": "0520d108a4bd4c24b618c34cb0fa95e8",
       "version_major": 2,
       "version_minor": 0
      },
      "text/plain": [
       "batches:   0%|          | 0/155 [00:00<?, ?it/s]"
      ]
     },
     "metadata": {},
     "output_type": "display_data"
    },
    {
     "data": {
      "application/vnd.jupyter.widget-view+json": {
       "model_id": "aa8ce13ebb684c3fa86065c90dd661c7",
       "version_major": 2,
       "version_minor": 0
      },
      "text/plain": [
       "batches:   0%|          | 0/155 [00:00<?, ?it/s]"
      ]
     },
     "metadata": {},
     "output_type": "display_data"
    },
    {
     "data": {
      "application/vnd.jupyter.widget-view+json": {
       "model_id": "387edbafb7ff4fe59b5e67957d7812ab",
       "version_major": 2,
       "version_minor": 0
      },
      "text/plain": [
       "batches:   0%|          | 0/155 [00:00<?, ?it/s]"
      ]
     },
     "metadata": {},
     "output_type": "display_data"
    },
    {
     "data": {
      "application/vnd.jupyter.widget-view+json": {
       "model_id": "a5776f6b412848b1ac98a49597b43b1e",
       "version_major": 2,
       "version_minor": 0
      },
      "text/plain": [
       "batches:   0%|          | 0/155 [00:00<?, ?it/s]"
      ]
     },
     "metadata": {},
     "output_type": "display_data"
    },
    {
     "data": {
      "application/vnd.jupyter.widget-view+json": {
       "model_id": "5ebe33999a8c47b6a3f92818ec670499",
       "version_major": 2,
       "version_minor": 0
      },
      "text/plain": [
       "batches:   0%|          | 0/155 [00:00<?, ?it/s]"
      ]
     },
     "metadata": {},
     "output_type": "display_data"
    },
    {
     "data": {
      "application/vnd.jupyter.widget-view+json": {
       "model_id": "c332ac4f9a79498db8927d7913c27163",
       "version_major": 2,
       "version_minor": 0
      },
      "text/plain": [
       "batches:   0%|          | 0/155 [00:00<?, ?it/s]"
      ]
     },
     "metadata": {},
     "output_type": "display_data"
    },
    {
     "data": {
      "application/vnd.jupyter.widget-view+json": {
       "model_id": "51e52dcecc12413c818d01ab6760dc3e",
       "version_major": 2,
       "version_minor": 0
      },
      "text/plain": [
       "batches:   0%|          | 0/155 [00:00<?, ?it/s]"
      ]
     },
     "metadata": {},
     "output_type": "display_data"
    },
    {
     "data": {
      "application/vnd.jupyter.widget-view+json": {
       "model_id": "4a5445aa1360418ea08e8dd080bdf198",
       "version_major": 2,
       "version_minor": 0
      },
      "text/plain": [
       "batches:   0%|          | 0/155 [00:00<?, ?it/s]"
      ]
     },
     "metadata": {},
     "output_type": "display_data"
    },
    {
     "name": "stdout",
     "output_type": "stream",
     "text": [
      "time per query in s: 27.2\n"
     ]
    }
   ],
   "source": [
    "r = 2\n",
    "tic = time.time()\n",
    "ans = []\n",
    "for q in tqdm(qobj_h2mn, f'r = {r} | queries'):\n",
    "    ans.append(index_str.range_query(q, r, verbose=False))\n",
    "toc = time.time()\n",
    "tqdm.write('time per query in s: ' f'{(toc-tic)/len(qobj_h2mn):.3}')\n",
    "torch.save(ans, f'../retrvs/{NAME}/h2mn_rw_fast_linear_scan_range2.pt')\n",
    "ans = torch.load(f'../retrvs/{NAME}/h2mn_rw_fast_linear_scan_range2.pt', map_location='cpu')"
   ]
  },
  {
   "cell_type": "code",
   "execution_count": 23,
   "id": "8516f410-be11-4b7a-aab0-817f31f3871f",
   "metadata": {},
   "outputs": [
    {
     "name": "stdout",
     "output_type": "stream",
     "text": [
      "fast (vectorised) linear scan index\n",
      "config.device: cuda\n",
      "preprocessing time: 0.399 s\n"
     ]
    }
   ],
   "source": [
    "config.device = torch.device('cuda')\n",
    "tic = time.time()\n",
    "index_str = index.FastLinearScan(tobj_h2mn, dist_fn=ne_dist_fn)\n",
    "toc = time.time()\n",
    "tqdm.write(f'preprocessing time: {toc-tic:.3} s')"
   ]
  },
  {
   "cell_type": "code",
   "execution_count": 24,
   "id": "495983e4-5e7d-455d-bd2a-3e56a059a781",
   "metadata": {
    "tags": []
   },
   "outputs": [
    {
     "data": {
      "application/vnd.jupyter.widget-view+json": {
       "model_id": "b0664d7f834042079c23c1c71ec882b5",
       "version_major": 2,
       "version_minor": 0
      },
      "text/plain": [
       "k = 10 | queries:   0%|          | 0/10 [00:00<?, ?it/s]"
      ]
     },
     "metadata": {},
     "output_type": "display_data"
    },
    {
     "data": {
      "application/vnd.jupyter.widget-view+json": {
       "model_id": "8cd26e0f5f304868bd0663497e389ea6",
       "version_major": 2,
       "version_minor": 0
      },
      "text/plain": [
       "batches:   0%|          | 0/155 [00:00<?, ?it/s]"
      ]
     },
     "metadata": {},
     "output_type": "display_data"
    },
    {
     "data": {
      "application/vnd.jupyter.widget-view+json": {
       "model_id": "ca74c418ae0c436b801106adf0c8e82a",
       "version_major": 2,
       "version_minor": 0
      },
      "text/plain": [
       "batches:   0%|          | 0/155 [00:00<?, ?it/s]"
      ]
     },
     "metadata": {},
     "output_type": "display_data"
    },
    {
     "data": {
      "application/vnd.jupyter.widget-view+json": {
       "model_id": "fed5b9c114794d6bb8a9573cc26731a5",
       "version_major": 2,
       "version_minor": 0
      },
      "text/plain": [
       "batches:   0%|          | 0/155 [00:00<?, ?it/s]"
      ]
     },
     "metadata": {},
     "output_type": "display_data"
    },
    {
     "data": {
      "application/vnd.jupyter.widget-view+json": {
       "model_id": "774a32cd23a049979668b90d358817b2",
       "version_major": 2,
       "version_minor": 0
      },
      "text/plain": [
       "batches:   0%|          | 0/155 [00:00<?, ?it/s]"
      ]
     },
     "metadata": {},
     "output_type": "display_data"
    },
    {
     "data": {
      "application/vnd.jupyter.widget-view+json": {
       "model_id": "665875e4fb6d4903b130ceb632dbf155",
       "version_major": 2,
       "version_minor": 0
      },
      "text/plain": [
       "batches:   0%|          | 0/155 [00:00<?, ?it/s]"
      ]
     },
     "metadata": {},
     "output_type": "display_data"
    },
    {
     "data": {
      "application/vnd.jupyter.widget-view+json": {
       "model_id": "5ae24f9fca52461f82e6458c07813907",
       "version_major": 2,
       "version_minor": 0
      },
      "text/plain": [
       "batches:   0%|          | 0/155 [00:00<?, ?it/s]"
      ]
     },
     "metadata": {},
     "output_type": "display_data"
    },
    {
     "data": {
      "application/vnd.jupyter.widget-view+json": {
       "model_id": "9c3dbc3df6354c13bea8b52025036796",
       "version_major": 2,
       "version_minor": 0
      },
      "text/plain": [
       "batches:   0%|          | 0/155 [00:00<?, ?it/s]"
      ]
     },
     "metadata": {},
     "output_type": "display_data"
    },
    {
     "data": {
      "application/vnd.jupyter.widget-view+json": {
       "model_id": "eb34fc9b68b94e60a216e4b8f0c6cf4f",
       "version_major": 2,
       "version_minor": 0
      },
      "text/plain": [
       "batches:   0%|          | 0/155 [00:00<?, ?it/s]"
      ]
     },
     "metadata": {},
     "output_type": "display_data"
    },
    {
     "data": {
      "application/vnd.jupyter.widget-view+json": {
       "model_id": "378b50ad694e4bd1942c7063e15663c9",
       "version_major": 2,
       "version_minor": 0
      },
      "text/plain": [
       "batches:   0%|          | 0/155 [00:00<?, ?it/s]"
      ]
     },
     "metadata": {},
     "output_type": "display_data"
    },
    {
     "data": {
      "application/vnd.jupyter.widget-view+json": {
       "model_id": "13df6260f07f4c3a9ecab58dbbc2a174",
       "version_major": 2,
       "version_minor": 0
      },
      "text/plain": [
       "batches:   0%|          | 0/155 [00:00<?, ?it/s]"
      ]
     },
     "metadata": {},
     "output_type": "display_data"
    },
    {
     "name": "stdout",
     "output_type": "stream",
     "text": [
      "time per query in s: 37.6\n"
     ]
    }
   ],
   "source": [
    "k = 10\n",
    "tic = time.time()\n",
    "topk = []\n",
    "for q in tqdm(qobj_h2mn, f'k = {k} | queries'):\n",
    "    topk.append(index_str.knn_query(q, k, verbose=False))\n",
    "toc = time.time()\n",
    "tqdm.write('time per query in s: ' f'{(toc-tic)/len(qobj_h2mn):.3}')\n",
    "torch.save(topk, f'../retrvs/{NAME}/h2mn_ne_fast_linear_scan_topk10.pt')\n",
    "topk = torch.load(f'../retrvs/{NAME}/h2mn_ne_fast_linear_scan_topk10.pt', map_location='cpu')"
   ]
  },
  {
   "cell_type": "code",
   "execution_count": 25,
   "id": "73485652-78dc-4ead-967d-0852fa328aec",
   "metadata": {
    "tags": []
   },
   "outputs": [
    {
     "data": {
      "application/vnd.jupyter.widget-view+json": {
       "model_id": "037cb03f99de40a8ac4e043bec04f98f",
       "version_major": 2,
       "version_minor": 0
      },
      "text/plain": [
       "r = 2 | queries:   0%|          | 0/10 [00:00<?, ?it/s]"
      ]
     },
     "metadata": {},
     "output_type": "display_data"
    },
    {
     "data": {
      "application/vnd.jupyter.widget-view+json": {
       "model_id": "0763bd81a1f14fbab8a3d85fd1cffe7c",
       "version_major": 2,
       "version_minor": 0
      },
      "text/plain": [
       "batches:   0%|          | 0/155 [00:00<?, ?it/s]"
      ]
     },
     "metadata": {},
     "output_type": "display_data"
    },
    {
     "data": {
      "application/vnd.jupyter.widget-view+json": {
       "model_id": "4644ca7177cd4677bb285b3182ba263d",
       "version_major": 2,
       "version_minor": 0
      },
      "text/plain": [
       "batches:   0%|          | 0/155 [00:00<?, ?it/s]"
      ]
     },
     "metadata": {},
     "output_type": "display_data"
    },
    {
     "data": {
      "application/vnd.jupyter.widget-view+json": {
       "model_id": "9533dd5fe0d445d4ae3ad2f93c4ef98e",
       "version_major": 2,
       "version_minor": 0
      },
      "text/plain": [
       "batches:   0%|          | 0/155 [00:00<?, ?it/s]"
      ]
     },
     "metadata": {},
     "output_type": "display_data"
    },
    {
     "data": {
      "application/vnd.jupyter.widget-view+json": {
       "model_id": "8ec7bafa88e446f594c649f927526d45",
       "version_major": 2,
       "version_minor": 0
      },
      "text/plain": [
       "batches:   0%|          | 0/155 [00:00<?, ?it/s]"
      ]
     },
     "metadata": {},
     "output_type": "display_data"
    },
    {
     "data": {
      "application/vnd.jupyter.widget-view+json": {
       "model_id": "8bab273266b146e7971d50432450d3b1",
       "version_major": 2,
       "version_minor": 0
      },
      "text/plain": [
       "batches:   0%|          | 0/155 [00:00<?, ?it/s]"
      ]
     },
     "metadata": {},
     "output_type": "display_data"
    },
    {
     "data": {
      "application/vnd.jupyter.widget-view+json": {
       "model_id": "cc9ff4dc556c45d29bbb1e696b97bf43",
       "version_major": 2,
       "version_minor": 0
      },
      "text/plain": [
       "batches:   0%|          | 0/155 [00:00<?, ?it/s]"
      ]
     },
     "metadata": {},
     "output_type": "display_data"
    },
    {
     "data": {
      "application/vnd.jupyter.widget-view+json": {
       "model_id": "db89fababc8f4f4282499db58f2a8f6c",
       "version_major": 2,
       "version_minor": 0
      },
      "text/plain": [
       "batches:   0%|          | 0/155 [00:00<?, ?it/s]"
      ]
     },
     "metadata": {},
     "output_type": "display_data"
    },
    {
     "data": {
      "application/vnd.jupyter.widget-view+json": {
       "model_id": "2ce5f352a1334f72b4165906c00406d0",
       "version_major": 2,
       "version_minor": 0
      },
      "text/plain": [
       "batches:   0%|          | 0/155 [00:00<?, ?it/s]"
      ]
     },
     "metadata": {},
     "output_type": "display_data"
    },
    {
     "data": {
      "application/vnd.jupyter.widget-view+json": {
       "model_id": "17826cee3b9e4584912078d8e71806c0",
       "version_major": 2,
       "version_minor": 0
      },
      "text/plain": [
       "batches:   0%|          | 0/155 [00:00<?, ?it/s]"
      ]
     },
     "metadata": {},
     "output_type": "display_data"
    },
    {
     "data": {
      "application/vnd.jupyter.widget-view+json": {
       "model_id": "ed6b4c493b2f4272bcd48d0789f02a56",
       "version_major": 2,
       "version_minor": 0
      },
      "text/plain": [
       "batches:   0%|          | 0/155 [00:00<?, ?it/s]"
      ]
     },
     "metadata": {},
     "output_type": "display_data"
    },
    {
     "name": "stdout",
     "output_type": "stream",
     "text": [
      "time per query in s: 37.4\n"
     ]
    }
   ],
   "source": [
    "r = 2\n",
    "tic = time.time()\n",
    "ans = []\n",
    "for q in tqdm(qobj_h2mn, f'r = {r} | queries'):\n",
    "    ans.append(index_str.range_query(q, r, verbose=False))\n",
    "toc = time.time()\n",
    "tqdm.write('time per query in s: ' f'{(toc-tic)/len(qobj_h2mn):.3}')\n",
    "torch.save(ans, f'../retrvs/{NAME}/h2mn_ne_fast_linear_scan_range2.pt')\n",
    "ans = torch.load(f'../retrvs/{NAME}/h2mn_ne_fast_linear_scan_range2.pt', map_location='cpu')"
   ]
  },
  {
   "cell_type": "markdown",
   "id": "d204d84a-c22c-4868-9db2-aa0498dcca2f",
   "metadata": {},
   "source": [
    "## Unvectorised Linear Scan on CPU (threads=1)"
   ]
  },
  {
   "cell_type": "code",
   "execution_count": 26,
   "id": "8e156a14-2a85-4071-a6e0-f2646c1e5976",
   "metadata": {},
   "outputs": [
    {
     "name": "stdout",
     "output_type": "stream",
     "text": [
      "slow (pythonic) linear scan index\n",
      "config.device: cpu\n",
      "preprocessing time: 0.00106 s\n"
     ]
    }
   ],
   "source": [
    "config.device = torch.device('cpu')\n",
    "torch.set_num_threads(1)\n",
    "tic = time.time()\n",
    "index_str = index.LinearScan(temb, dist_fn=utils.norm_sed_func)\n",
    "toc = time.time()\n",
    "tqdm.write(f'preprocessing time: {toc-tic:.3} s')\n",
    "index_str = index_str.to(config.device)"
   ]
  },
  {
   "cell_type": "code",
   "execution_count": 27,
   "id": "e4846f72-3a45-4925-8229-bfab87188828",
   "metadata": {
    "tags": []
   },
   "outputs": [
    {
     "data": {
      "application/vnd.jupyter.widget-view+json": {
       "model_id": "45f59b5d29fe426698d947c6ed47f184",
       "version_major": 2,
       "version_minor": 0
      },
      "text/plain": [
       "k = 10 | queries:   0%|          | 0/10 [00:00<?, ?it/s]"
      ]
     },
     "metadata": {},
     "output_type": "display_data"
    },
    {
     "data": {
      "application/vnd.jupyter.widget-view+json": {
       "model_id": "a1acd705c6de456daf848e8fb8eb9497",
       "version_major": 2,
       "version_minor": 0
      },
      "text/plain": [
       "targets:   0%|          | 0/19717 [00:00<?, ?it/s]"
      ]
     },
     "metadata": {},
     "output_type": "display_data"
    },
    {
     "data": {
      "application/vnd.jupyter.widget-view+json": {
       "model_id": "2d13b721e84a4cefa301148232e6973f",
       "version_major": 2,
       "version_minor": 0
      },
      "text/plain": [
       "targets:   0%|          | 0/19717 [00:00<?, ?it/s]"
      ]
     },
     "metadata": {},
     "output_type": "display_data"
    },
    {
     "data": {
      "application/vnd.jupyter.widget-view+json": {
       "model_id": "6c46747573954acb82042dc6bec58413",
       "version_major": 2,
       "version_minor": 0
      },
      "text/plain": [
       "targets:   0%|          | 0/19717 [00:00<?, ?it/s]"
      ]
     },
     "metadata": {},
     "output_type": "display_data"
    },
    {
     "data": {
      "application/vnd.jupyter.widget-view+json": {
       "model_id": "218c08f4b9d64ecf8be334a98f40a296",
       "version_major": 2,
       "version_minor": 0
      },
      "text/plain": [
       "targets:   0%|          | 0/19717 [00:00<?, ?it/s]"
      ]
     },
     "metadata": {},
     "output_type": "display_data"
    },
    {
     "data": {
      "application/vnd.jupyter.widget-view+json": {
       "model_id": "917bae5fe6524274b26ca7192a1020ed",
       "version_major": 2,
       "version_minor": 0
      },
      "text/plain": [
       "targets:   0%|          | 0/19717 [00:00<?, ?it/s]"
      ]
     },
     "metadata": {},
     "output_type": "display_data"
    },
    {
     "data": {
      "application/vnd.jupyter.widget-view+json": {
       "model_id": "72747a8cadc14a67acebf237b48a4618",
       "version_major": 2,
       "version_minor": 0
      },
      "text/plain": [
       "targets:   0%|          | 0/19717 [00:00<?, ?it/s]"
      ]
     },
     "metadata": {},
     "output_type": "display_data"
    },
    {
     "data": {
      "application/vnd.jupyter.widget-view+json": {
       "model_id": "582551331dce4d7d9369fc56a3d4bc15",
       "version_major": 2,
       "version_minor": 0
      },
      "text/plain": [
       "targets:   0%|          | 0/19717 [00:00<?, ?it/s]"
      ]
     },
     "metadata": {},
     "output_type": "display_data"
    },
    {
     "data": {
      "application/vnd.jupyter.widget-view+json": {
       "model_id": "a5f61e9395ec47e198a7ae15f248ce98",
       "version_major": 2,
       "version_minor": 0
      },
      "text/plain": [
       "targets:   0%|          | 0/19717 [00:00<?, ?it/s]"
      ]
     },
     "metadata": {},
     "output_type": "display_data"
    },
    {
     "data": {
      "application/vnd.jupyter.widget-view+json": {
       "model_id": "5497f181337d4ddb9fc4f558e16efcc7",
       "version_major": 2,
       "version_minor": 0
      },
      "text/plain": [
       "targets:   0%|          | 0/19717 [00:00<?, ?it/s]"
      ]
     },
     "metadata": {},
     "output_type": "display_data"
    },
    {
     "data": {
      "application/vnd.jupyter.widget-view+json": {
       "model_id": "58139ae049b540dfab5718ba13f3577f",
       "version_major": 2,
       "version_minor": 0
      },
      "text/plain": [
       "targets:   0%|          | 0/19717 [00:00<?, ?it/s]"
      ]
     },
     "metadata": {},
     "output_type": "display_data"
    },
    {
     "name": "stdout",
     "output_type": "stream",
     "text": [
      "time per query in s: 0.599\n"
     ]
    }
   ],
   "source": [
    "k = 10\n",
    "tic = time.time()\n",
    "topk = []\n",
    "for q in tqdm(qemb, f'k = {k} | queries'):\n",
    "    topk.append(index_str.knn_query(q, k, verbose=False))\n",
    "toc = time.time()\n",
    "tqdm.write('time per query in s: ' f'{(toc-tic)/qemb.shape[0]:.3}')\n",
    "torch.save(topk, f'../retrvs/{NAME}/neurosed_linear_scan_topk10.pt')\n",
    "topk = torch.load(f'../retrvs/{NAME}/neurosed_linear_scan_topk10.pt', map_location='cpu')"
   ]
  },
  {
   "cell_type": "code",
   "execution_count": 28,
   "id": "dda921a9-afcd-4ab3-910e-dffdcb58be39",
   "metadata": {
    "tags": []
   },
   "outputs": [
    {
     "data": {
      "application/vnd.jupyter.widget-view+json": {
       "model_id": "6fd9149a2a6b430985ee2bbb4d489ffe",
       "version_major": 2,
       "version_minor": 0
      },
      "text/plain": [
       "r = 2 | queries:   0%|          | 0/10 [00:00<?, ?it/s]"
      ]
     },
     "metadata": {},
     "output_type": "display_data"
    },
    {
     "data": {
      "application/vnd.jupyter.widget-view+json": {
       "model_id": "852bc1893f5e4175a6c075a39dffd323",
       "version_major": 2,
       "version_minor": 0
      },
      "text/plain": [
       "targets:   0%|          | 0/19717 [00:00<?, ?it/s]"
      ]
     },
     "metadata": {},
     "output_type": "display_data"
    },
    {
     "data": {
      "application/vnd.jupyter.widget-view+json": {
       "model_id": "47a51496b6f245128939b0397def5e91",
       "version_major": 2,
       "version_minor": 0
      },
      "text/plain": [
       "targets:   0%|          | 0/19717 [00:00<?, ?it/s]"
      ]
     },
     "metadata": {},
     "output_type": "display_data"
    },
    {
     "data": {
      "application/vnd.jupyter.widget-view+json": {
       "model_id": "3b1032c19142418ca34b68ebb221c44f",
       "version_major": 2,
       "version_minor": 0
      },
      "text/plain": [
       "targets:   0%|          | 0/19717 [00:00<?, ?it/s]"
      ]
     },
     "metadata": {},
     "output_type": "display_data"
    },
    {
     "data": {
      "application/vnd.jupyter.widget-view+json": {
       "model_id": "e09fb7db41cc406b8d4ed9188b5dff2d",
       "version_major": 2,
       "version_minor": 0
      },
      "text/plain": [
       "targets:   0%|          | 0/19717 [00:00<?, ?it/s]"
      ]
     },
     "metadata": {},
     "output_type": "display_data"
    },
    {
     "data": {
      "application/vnd.jupyter.widget-view+json": {
       "model_id": "01dbb2184f46414f924014e53cd8086b",
       "version_major": 2,
       "version_minor": 0
      },
      "text/plain": [
       "targets:   0%|          | 0/19717 [00:00<?, ?it/s]"
      ]
     },
     "metadata": {},
     "output_type": "display_data"
    },
    {
     "data": {
      "application/vnd.jupyter.widget-view+json": {
       "model_id": "cb6e0dd3aba6403db80b8ba3d80469d3",
       "version_major": 2,
       "version_minor": 0
      },
      "text/plain": [
       "targets:   0%|          | 0/19717 [00:00<?, ?it/s]"
      ]
     },
     "metadata": {},
     "output_type": "display_data"
    },
    {
     "data": {
      "application/vnd.jupyter.widget-view+json": {
       "model_id": "66c20461240c4e46a9911d7ba5340111",
       "version_major": 2,
       "version_minor": 0
      },
      "text/plain": [
       "targets:   0%|          | 0/19717 [00:00<?, ?it/s]"
      ]
     },
     "metadata": {},
     "output_type": "display_data"
    },
    {
     "data": {
      "application/vnd.jupyter.widget-view+json": {
       "model_id": "476ec1d06dc44474996f603bfd9f8592",
       "version_major": 2,
       "version_minor": 0
      },
      "text/plain": [
       "targets:   0%|          | 0/19717 [00:00<?, ?it/s]"
      ]
     },
     "metadata": {},
     "output_type": "display_data"
    },
    {
     "data": {
      "application/vnd.jupyter.widget-view+json": {
       "model_id": "7cb486756ed94a83abeafc91d2c06778",
       "version_major": 2,
       "version_minor": 0
      },
      "text/plain": [
       "targets:   0%|          | 0/19717 [00:00<?, ?it/s]"
      ]
     },
     "metadata": {},
     "output_type": "display_data"
    },
    {
     "data": {
      "application/vnd.jupyter.widget-view+json": {
       "model_id": "7fbd035acf0140c6b07cea042a56102f",
       "version_major": 2,
       "version_minor": 0
      },
      "text/plain": [
       "targets:   0%|          | 0/19717 [00:00<?, ?it/s]"
      ]
     },
     "metadata": {},
     "output_type": "display_data"
    },
    {
     "name": "stdout",
     "output_type": "stream",
     "text": [
      "time per query in s: 0.63\n"
     ]
    }
   ],
   "source": [
    "r = 2\n",
    "tic = time.time()\n",
    "ans = []\n",
    "for q in tqdm(qemb, f'r = {r} | queries'):\n",
    "    ans.append(index_str.range_query(q, r, verbose=False))\n",
    "toc = time.time()\n",
    "tqdm.write('time per query in s: ' f'{(toc-tic)/qemb.shape[0]:.3}')\n",
    "torch.save(ans, f'../retrvs/{NAME}/neurosed_linear_scan_range2.pt')\n",
    "ans = torch.load(f'../retrvs/{NAME}/neurosed_linear_scan_range2.pt', map_location='cpu')"
   ]
  },
  {
   "cell_type": "markdown",
   "id": "f530afc9-a3d7-4f8f-a7a7-32c8de7a2359",
   "metadata": {},
   "source": [
    "## Unvectorised (Metric-)Tree on CPU (threads=1)"
   ]
  },
  {
   "cell_type": "code",
   "execution_count": 29,
   "id": "63e4da66-2ae3-49f9-832f-e78552308837",
   "metadata": {},
   "outputs": [
    {
     "name": "stdout",
     "output_type": "stream",
     "text": [
      "construct (metric-)tree for asymmetric/symmetric distance function\n",
      "config.device: cpu\n"
     ]
    },
    {
     "data": {
      "application/vnd.jupyter.widget-view+json": {
       "model_id": "04cacfcebaae40d28efe9b0cb794758f",
       "version_major": 2,
       "version_minor": 0
      },
      "text/plain": [
       "  0%|          | 0/19717 [00:00<?, ?it/s]"
      ]
     },
     "metadata": {},
     "output_type": "display_data"
    },
    {
     "name": "stdout",
     "output_type": "stream",
     "text": [
      "distance computations: 236318\n",
      "internal nodes: 960 / 3841\n",
      "leaf nodes: 2881 / 3841\n",
      "big leaf nodes: 8 / 2881\n",
      "max leaf size: 63\n",
      "preprocessing time: 0.348 s\n"
     ]
    }
   ],
   "source": [
    "config.device = torch.device('cpu')\n",
    "torch.set_num_threads(1)\n",
    "tic = time.time()\n",
    "index_str = index.AsymTree(temb, dist_fn=utils.norm_sed_func, max_leaf_size=16)\n",
    "toc = time.time()\n",
    "tqdm.write(f'preprocessing time: {toc-tic:.3} s')\n",
    "index_str = index_str.to(config.device)"
   ]
  },
  {
   "cell_type": "code",
   "execution_count": 30,
   "id": "a5ea9362-b4d3-48f0-8a89-40e74d1b2634",
   "metadata": {
    "tags": []
   },
   "outputs": [
    {
     "data": {
      "application/vnd.jupyter.widget-view+json": {
       "model_id": "748e51106b084e4893c87882f06dcfd9",
       "version_major": 2,
       "version_minor": 0
      },
      "text/plain": [
       "k = 10 | queries:   0%|          | 0/10 [00:00<?, ?it/s]"
      ]
     },
     "metadata": {},
     "output_type": "display_data"
    },
    {
     "name": "stdout",
     "output_type": "stream",
     "text": [
      "time per query in s: 0.436\n"
     ]
    }
   ],
   "source": [
    "k = 10\n",
    "tic = time.time()\n",
    "topk = []\n",
    "for q in tqdm(qemb, f'k = {k} | queries'):\n",
    "    topk.append(index_str.knn_query(q, k, slow=True, verbose=False))\n",
    "toc = time.time()\n",
    "tqdm.write('time per query in s: ' f'{(toc-tic)/qemb.shape[0]:.3}')\n",
    "torch.save(topk, f'../retrvs/{NAME}/neurosed_linear_scan_topk10.pt')\n",
    "topk = torch.load(f'../retrvs/{NAME}/neurosed_linear_scan_topk10.pt', map_location='cpu')"
   ]
  },
  {
   "cell_type": "code",
   "execution_count": 31,
   "id": "2950ebf6-0f70-47e2-a6cc-8946a48128a7",
   "metadata": {
    "tags": []
   },
   "outputs": [
    {
     "data": {
      "application/vnd.jupyter.widget-view+json": {
       "model_id": "b40776a1c3594eaa80697e8e69d17e65",
       "version_major": 2,
       "version_minor": 0
      },
      "text/plain": [
       "r = 2 | queries:   0%|          | 0/10 [00:00<?, ?it/s]"
      ]
     },
     "metadata": {},
     "output_type": "display_data"
    },
    {
     "name": "stdout",
     "output_type": "stream",
     "text": [
      "time per query in s: 0.648\n"
     ]
    }
   ],
   "source": [
    "r = 2\n",
    "tic = time.time()\n",
    "ans = []\n",
    "for q in tqdm(qemb, f'r = {r} | queries'):\n",
    "    ans.append(index_str.range_query(q, r, slow=True, verbose=False))\n",
    "toc = time.time()\n",
    "tqdm.write('time per query in s: ' f'{(toc-tic)/qemb.shape[0]:.3}')\n",
    "torch.save(ans, f'../retrvs/{NAME}/neurosed_linear_scan_range2.pt')\n",
    "ans = torch.load(f'../retrvs/{NAME}/neurosed_linear_scan_range2.pt', map_location='cpu')"
   ]
  },
  {
   "cell_type": "markdown",
   "id": "9f260574-996a-4750-aa2e-113f694f883c",
   "metadata": {},
   "source": [
    "## Alignment"
   ]
  },
  {
   "cell_type": "code",
   "execution_count": 15,
   "id": "ecc601f0-7158-4cbb-872e-ca363f00ac0d",
   "metadata": {
    "tags": []
   },
   "outputs": [
    {
     "data": {
      "application/vnd.jupyter.widget-view+json": {
       "model_id": "d81f43c67d81407d84809f769b9599d4",
       "version_major": 2,
       "version_minor": 0
      },
      "text/plain": [
       "k = 10 | queries:   0%|          | 0/10 [00:00<?, ?it/s]"
      ]
     },
     "metadata": {},
     "output_type": "display_data"
    },
    {
     "name": "stdout",
     "output_type": "stream",
     "text": [
      "time in s: 0.00447\n"
     ]
    }
   ],
   "source": [
    "tic = time.time()\n",
    "k = 10\n",
    "topk = []\n",
    "for q in tqdm(qemb, f'k = {k} | queries'):\n",
    "    topk.append(index_str.knn_query(q, k, verbose=False))\n",
    "toc = time.time()\n",
    "tqdm.write('time in s: ' f'{(toc-tic)/qemb.shape[0]:.3}')"
   ]
  },
  {
   "cell_type": "code",
   "execution_count": 16,
   "id": "9fd4ff6e-baef-4ce9-9759-9f52c1a5b2a6",
   "metadata": {},
   "outputs": [
    {
     "data": {
      "application/vnd.jupyter.widget-view+json": {
       "model_id": "13b4ef0ac4d947ab8540d5ec87e0b404",
       "version_major": 2,
       "version_minor": 0
      },
      "text/plain": [
       "queries:   0%|          | 0/10 [00:00<?, ?it/s]"
      ]
     },
     "metadata": {},
     "output_type": "display_data"
    },
    {
     "data": {
      "application/vnd.jupyter.widget-view+json": {
       "model_id": "e2c257f6e1b44c2a912c61953740eb1c",
       "version_major": 2,
       "version_minor": 0
      },
      "text/plain": [
       "targets:   0%|          | 0/10 [00:00<?, ?it/s]"
      ]
     },
     "metadata": {},
     "output_type": "display_data"
    },
    {
     "name": "stdout",
     "output_type": "stream",
     "text": [
      "0.0 0.0 | 0.0 0.0 | 0.0 0.0 | 0.0 0.0 | 0.0 0.0 | 0.0 0.0 | 0.0 0.0 | 1.0 1.0 | 0.0 0.0 | 0.0 0.0 | \n"
     ]
    },
    {
     "data": {
      "application/vnd.jupyter.widget-view+json": {
       "model_id": "81e81299b42141299ff19afee37f68d4",
       "version_major": 2,
       "version_minor": 0
      },
      "text/plain": [
       "targets:   0%|          | 0/10 [00:00<?, ?it/s]"
      ]
     },
     "metadata": {},
     "output_type": "display_data"
    },
    {
     "name": "stdout",
     "output_type": "stream",
     "text": [
      "0.0 0.0 | 2.0 2.0 | 0.0 0.0 | 0.0 0.0 | 0.0 0.0 | 0.0 0.0 | 0.0 0.0 | 0.0 0.0 | 0.0 0.0 | 0.0 0.0 | \n"
     ]
    },
    {
     "data": {
      "application/vnd.jupyter.widget-view+json": {
       "model_id": "b687004cbf294cac81654ba3b73fb905",
       "version_major": 2,
       "version_minor": 0
      },
      "text/plain": [
       "targets:   0%|          | 0/10 [00:00<?, ?it/s]"
      ]
     },
     "metadata": {},
     "output_type": "display_data"
    },
    {
     "name": "stdout",
     "output_type": "stream",
     "text": [
      "1.0 1.0 | 0.0 0.0 | 1.0 1.0 | 1.0 1.0 | 1.0 1.0 | 0.0 0.0 | 1.0 1.0 | 1.0 1.0 | 2.0 2.0 | 1.0 1.0 | \n"
     ]
    },
    {
     "data": {
      "application/vnd.jupyter.widget-view+json": {
       "model_id": "bae165f8f63e45a1a227324b86bafcf2",
       "version_major": 2,
       "version_minor": 0
      },
      "text/plain": [
       "targets:   0%|          | 0/10 [00:00<?, ?it/s]"
      ]
     },
     "metadata": {},
     "output_type": "display_data"
    },
    {
     "name": "stdout",
     "output_type": "stream",
     "text": [
      "0.0 0.0 | 0.0 0.0 | 0.0 0.0 | 0.0 0.0 | 0.0 0.0 | 0.0 0.0 | 0.0 0.0 | 0.0 0.0 | 0.0 0.0 | 0.0 0.0 | \n"
     ]
    },
    {
     "data": {
      "application/vnd.jupyter.widget-view+json": {
       "model_id": "7f7bdf959ac64257980e311ff5d31997",
       "version_major": 2,
       "version_minor": 0
      },
      "text/plain": [
       "targets:   0%|          | 0/10 [00:00<?, ?it/s]"
      ]
     },
     "metadata": {},
     "output_type": "display_data"
    },
    {
     "name": "stdout",
     "output_type": "stream",
     "text": [
      "0.0 0.0 | 0.0 0.0 | 0.0 0.0 | 0.0 0.0 | 0.0 0.0 | 0.0 0.0 | 0.0 0.0 | 0.0 0.0 | 0.0 0.0 | 0.0 0.0 | \n"
     ]
    },
    {
     "data": {
      "application/vnd.jupyter.widget-view+json": {
       "model_id": "8da14e14194044c492e9170e3753cc87",
       "version_major": 2,
       "version_minor": 0
      },
      "text/plain": [
       "targets:   0%|          | 0/10 [00:00<?, ?it/s]"
      ]
     },
     "metadata": {},
     "output_type": "display_data"
    },
    {
     "name": "stdout",
     "output_type": "stream",
     "text": [
      "0.0 0.0 | 0.0 0.0 | 1.0 1.0 | 0.0 0.0 | 0.0 0.0 | 0.0 0.0 | 0.0 0.0 | 0.0 0.0 | 0.0 0.0 | 0.0 0.0 | \n"
     ]
    },
    {
     "data": {
      "application/vnd.jupyter.widget-view+json": {
       "model_id": "513684af09534ed88dc2cbb7172cf14a",
       "version_major": 2,
       "version_minor": 0
      },
      "text/plain": [
       "targets:   0%|          | 0/10 [00:00<?, ?it/s]"
      ]
     },
     "metadata": {},
     "output_type": "display_data"
    },
    {
     "name": "stdout",
     "output_type": "stream",
     "text": [
      "0.0 0.0 | 0.0 0.0 | 0.0 0.0 | 0.0 0.0 | 0.0 0.0 | 0.0 0.0 | 0.0 0.0 | 0.0 0.0 | 0.0 0.0 | 0.0 0.0 | \n"
     ]
    },
    {
     "data": {
      "application/vnd.jupyter.widget-view+json": {
       "model_id": "94a6656c410f4859856fa52ce1de03fd",
       "version_major": 2,
       "version_minor": 0
      },
      "text/plain": [
       "targets:   0%|          | 0/10 [00:00<?, ?it/s]"
      ]
     },
     "metadata": {},
     "output_type": "display_data"
    },
    {
     "name": "stdout",
     "output_type": "stream",
     "text": [
      "0.0 0.0 | 0.0 0.0 | 0.0 0.0 | 0.0 0.0 | 0.0 0.0 | 0.0 0.0 | 0.0 0.0 | 0.0 0.0 | 0.0 0.0 | 0.0 0.0 | \n"
     ]
    },
    {
     "data": {
      "application/vnd.jupyter.widget-view+json": {
       "model_id": "afbf41fee9ce464498d418c6b4228953",
       "version_major": 2,
       "version_minor": 0
      },
      "text/plain": [
       "targets:   0%|          | 0/10 [00:00<?, ?it/s]"
      ]
     },
     "metadata": {},
     "output_type": "display_data"
    },
    {
     "name": "stdout",
     "output_type": "stream",
     "text": [
      "0.0 0.0 | 0.0 0.0 | 0.0 0.0 | 0.0 0.0 | 0.0 0.0 | 0.0 0.0 | 0.0 0.0 | 0.0 0.0 | 0.0 0.0 | 0.0 0.0 | \n"
     ]
    },
    {
     "data": {
      "application/vnd.jupyter.widget-view+json": {
       "model_id": "879a6e5c22014096b68d201fc316225a",
       "version_major": 2,
       "version_minor": 0
      },
      "text/plain": [
       "targets:   0%|          | 0/10 [00:00<?, ?it/s]"
      ]
     },
     "metadata": {},
     "output_type": "display_data"
    },
    {
     "name": "stdout",
     "output_type": "stream",
     "text": [
      "1.0 1.0 | 0.0 0.0 | 0.0 0.0 | 0.0 0.0 | 0.0 0.0 | 0.0 0.0 | 0.0 0.0 | 0.0 0.0 | 1.0 1.0 | 0.0 0.0 | \n",
      "528.0619425773621\n"
     ]
    }
   ],
   "source": [
    "tic = time.time()\n",
    "for q, ts in zip(tqdm(queries, 'queries'), topk):\n",
    "    for ti in tqdm(ts, 'targets'):\n",
    "        node_map, (lb, ub) = pyged.sed_align(utils.to_pyged(q), utils.to_pyged(nbrs[ti]), 'f2', '')\n",
    "        print(lb, ub, end = ' | ')\n",
    "    print()\n",
    "toc = time.time()\n",
    "print(toc-tic)"
   ]
  },
  {
   "cell_type": "code",
   "execution_count": 17,
   "id": "577fe9c6-1b0c-43df-8e4f-2290dd322d54",
   "metadata": {},
   "outputs": [
    {
     "data": {
      "application/vnd.jupyter.widget-view+json": {
       "model_id": "0317b4b02ba34f40b00aeb492a10b759",
       "version_major": 2,
       "version_minor": 0
      },
      "text/plain": [
       "queries:   0%|          | 0/10 [00:00<?, ?it/s]"
      ]
     },
     "metadata": {},
     "output_type": "display_data"
    },
    {
     "data": {
      "application/vnd.jupyter.widget-view+json": {
       "model_id": "9ba744b854e24b31b5700d55dbbbab3b",
       "version_major": 2,
       "version_minor": 0
      },
      "text/plain": [
       "targets:   0%|          | 0/10 [00:00<?, ?it/s]"
      ]
     },
     "metadata": {},
     "output_type": "display_data"
    },
    {
     "name": "stdout",
     "output_type": "stream",
     "text": [
      "0.0 0.0 | 0.0 0.0 | 0.0 0.0 | 0.0 0.0 | 0.0 0.0 | 0.0 0.0 | 0.0 0.0 | 1.0 1.0 | 0.0 0.0 | 0.0 0.0 | \n"
     ]
    },
    {
     "data": {
      "application/vnd.jupyter.widget-view+json": {
       "model_id": "66bd88099c5548b3857f7315083d9162",
       "version_major": 2,
       "version_minor": 0
      },
      "text/plain": [
       "targets:   0%|          | 0/10 [00:00<?, ?it/s]"
      ]
     },
     "metadata": {},
     "output_type": "display_data"
    },
    {
     "name": "stdout",
     "output_type": "stream",
     "text": [
      "0.0 0.0 | 2.0 2.0 | 0.0 0.0 | 0.0 0.0 | 0.0 0.0 | 0.0 0.0 | 0.0 0.0 | 0.0 0.0 | 0.0 0.0 | 0.0 0.0 | \n"
     ]
    },
    {
     "data": {
      "application/vnd.jupyter.widget-view+json": {
       "model_id": "ec0525e1f9744d499945ae4c146386ea",
       "version_major": 2,
       "version_minor": 0
      },
      "text/plain": [
       "targets:   0%|          | 0/10 [00:00<?, ?it/s]"
      ]
     },
     "metadata": {},
     "output_type": "display_data"
    },
    {
     "name": "stdout",
     "output_type": "stream",
     "text": [
      "1.0 1.0 | 0.0 0.0 | 1.0 1.0 | 1.0 1.0 | 1.0 1.0 | 0.0 0.0 | 1.0 1.0 | 1.0 1.0 | 2.0 2.0 | 1.0 1.0 | \n"
     ]
    },
    {
     "data": {
      "application/vnd.jupyter.widget-view+json": {
       "model_id": "af387f11470941279157cb9c67e873bf",
       "version_major": 2,
       "version_minor": 0
      },
      "text/plain": [
       "targets:   0%|          | 0/10 [00:00<?, ?it/s]"
      ]
     },
     "metadata": {},
     "output_type": "display_data"
    },
    {
     "name": "stdout",
     "output_type": "stream",
     "text": [
      "0.0 0.0 | 0.0 0.0 | 0.0 0.0 | 0.0 0.0 | 0.0 0.0 | 0.0 0.0 | 0.0 0.0 | 0.0 0.0 | 0.0 0.0 | 0.0 0.0 | \n"
     ]
    },
    {
     "data": {
      "application/vnd.jupyter.widget-view+json": {
       "model_id": "695068190fb040639304d23c541b319b",
       "version_major": 2,
       "version_minor": 0
      },
      "text/plain": [
       "targets:   0%|          | 0/10 [00:00<?, ?it/s]"
      ]
     },
     "metadata": {},
     "output_type": "display_data"
    },
    {
     "name": "stdout",
     "output_type": "stream",
     "text": [
      "0.0 0.0 | 0.0 0.0 | 0.0 0.0 | 0.0 0.0 | 0.0 0.0 | 0.0 0.0 | 0.0 0.0 | 0.0 0.0 | 0.0 0.0 | 0.0 0.0 | \n"
     ]
    },
    {
     "data": {
      "application/vnd.jupyter.widget-view+json": {
       "model_id": "0b1e60f0d7c24324940d1b0443828d35",
       "version_major": 2,
       "version_minor": 0
      },
      "text/plain": [
       "targets:   0%|          | 0/10 [00:00<?, ?it/s]"
      ]
     },
     "metadata": {},
     "output_type": "display_data"
    },
    {
     "name": "stdout",
     "output_type": "stream",
     "text": [
      "0.0 0.0 | 0.0 0.0 | 1.0 1.0 | 0.0 0.0 | 0.0 0.0 | 0.0 0.0 | 0.0 0.0 | 0.0 0.0 | 0.0 0.0 | 0.0 0.0 | \n"
     ]
    },
    {
     "data": {
      "application/vnd.jupyter.widget-view+json": {
       "model_id": "5be05e6d86c442ac881722e225e6eddd",
       "version_major": 2,
       "version_minor": 0
      },
      "text/plain": [
       "targets:   0%|          | 0/10 [00:00<?, ?it/s]"
      ]
     },
     "metadata": {},
     "output_type": "display_data"
    },
    {
     "name": "stdout",
     "output_type": "stream",
     "text": [
      "0.0 0.0 | 0.0 0.0 | 0.0 0.0 | 0.0 0.0 | 0.0 0.0 | 0.0 0.0 | 0.0 0.0 | 0.0 0.0 | 0.0 0.0 | 0.0 0.0 | \n"
     ]
    },
    {
     "data": {
      "application/vnd.jupyter.widget-view+json": {
       "model_id": "f8fb4fcd6d3b459b8e37ddd1f43b5c20",
       "version_major": 2,
       "version_minor": 0
      },
      "text/plain": [
       "targets:   0%|          | 0/10 [00:00<?, ?it/s]"
      ]
     },
     "metadata": {},
     "output_type": "display_data"
    },
    {
     "name": "stdout",
     "output_type": "stream",
     "text": [
      "0.0 0.0 | 0.0 0.0 | 0.0 0.0 | 0.0 0.0 | 0.0 0.0 | 0.0 0.0 | 0.0 0.0 | 0.0 0.0 | 0.0 0.0 | 0.0 0.0 | \n"
     ]
    },
    {
     "data": {
      "application/vnd.jupyter.widget-view+json": {
       "model_id": "3af577b8fd7f4b898f933b1916aa04c0",
       "version_major": 2,
       "version_minor": 0
      },
      "text/plain": [
       "targets:   0%|          | 0/10 [00:00<?, ?it/s]"
      ]
     },
     "metadata": {},
     "output_type": "display_data"
    },
    {
     "name": "stdout",
     "output_type": "stream",
     "text": [
      "0.0 0.0 | 0.0 0.0 | 0.0 0.0 | 0.0 0.0 | 0.0 0.0 | 0.0 0.0 | 0.0 0.0 | 0.0 0.0 | 0.0 0.0 | 0.0 0.0 | \n"
     ]
    },
    {
     "data": {
      "application/vnd.jupyter.widget-view+json": {
       "model_id": "1f8a9f0e7f7e406390c46e8d0c0554d3",
       "version_major": 2,
       "version_minor": 0
      },
      "text/plain": [
       "targets:   0%|          | 0/10 [00:00<?, ?it/s]"
      ]
     },
     "metadata": {},
     "output_type": "display_data"
    },
    {
     "name": "stdout",
     "output_type": "stream",
     "text": [
      "1.0 1.0 | 0.0 0.0 | 0.0 0.0 | 0.0 0.0 | 0.0 0.0 | 0.0 0.0 | 0.0 0.0 | 0.0 0.0 | 1.0 1.0 | 0.0 0.0 | \n",
      "314.4020688533783\n"
     ]
    }
   ],
   "source": [
    "tic = time.time()\n",
    "for q, ts in zip(tqdm(queries, 'queries'), topk):\n",
    "    for ti in tqdm(ts, 'targets'):\n",
    "        node_map, (lb, ub) = pyged.sed_align(utils.to_pyged(q), utils.to_pyged(nbrs[ti]), 'f2', '--threads 64')\n",
    "        print(lb, ub, end = ' | ')\n",
    "    print()\n",
    "toc = time.time()\n",
    "print(toc-tic)"
   ]
  },
  {
   "cell_type": "code",
   "execution_count": null,
   "id": "6a7ae862-aeea-4591-9e5b-0812cec3fa1d",
   "metadata": {},
   "outputs": [],
   "source": []
  }
 ],
 "metadata": {
  "kernelspec": {
   "display_name": "Python 3",
   "language": "python",
   "name": "python3"
  },
  "language_info": {
   "codemirror_mode": {
    "name": "ipython",
    "version": 3
   },
   "file_extension": ".py",
   "mimetype": "text/x-python",
   "name": "python",
   "nbconvert_exporter": "python",
   "pygments_lexer": "ipython3",
   "version": "3.6.13"
  }
 },
 "nbformat": 4,
 "nbformat_minor": 5
}
