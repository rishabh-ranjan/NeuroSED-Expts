{
 "cells": [
  {
   "cell_type": "code",
   "execution_count": 1,
   "id": "432d6d23-b00d-4c72-81e5-a6b18e880036",
   "metadata": {},
   "outputs": [],
   "source": [
    "CUDA_INDEX = 0\n",
    "NAME = 'PubMed'\n",
    "CLASSES = 3"
   ]
  },
  {
   "cell_type": "code",
   "execution_count": 2,
   "id": "9b10d1b3-bd2f-4d89-aaf0-40654efbd9ef",
   "metadata": {},
   "outputs": [],
   "source": [
    "import sys\n",
    "sys.path.insert(0, '../..')\n",
    "sys.path.insert(0, '../../pyged/lib')"
   ]
  },
  {
   "cell_type": "code",
   "execution_count": 25,
   "id": "429ab5f3-27f1-4ce7-a371-5a69c529d303",
   "metadata": {},
   "outputs": [
    {
     "data": {
      "text/plain": [
       "<module 'neuro.viz' from '../../neuro/viz.py'>"
      ]
     },
     "execution_count": 25,
     "metadata": {},
     "output_type": "execute_result"
    }
   ],
   "source": [
    "import os\n",
    "import pickle\n",
    "import random\n",
    "import time\n",
    "\n",
    "import IPython as ipy\n",
    "import matplotlib.pyplot as plt\n",
    "import numpy as np\n",
    "import torch\n",
    "torch.cuda.set_device(CUDA_INDEX)\n",
    "torch.backends.cudnn.benchmark = True\n",
    "import torch.optim\n",
    "import torch_geometric as tg\n",
    "import torch_geometric.data\n",
    "from tqdm.auto import tqdm\n",
    "\n",
    "from neuro import config, datasets, index, metrics, models, train, utils, viz\n",
    "import pyged\n",
    "\n",
    "from importlib import reload\n",
    "reload(config)\n",
    "reload(datasets)\n",
    "reload(index)\n",
    "reload(metrics)\n",
    "reload(models)\n",
    "reload(pyged)\n",
    "reload(train)\n",
    "reload(utils)\n",
    "reload(viz)"
   ]
  },
  {
   "cell_type": "code",
   "execution_count": 4,
   "id": "8d972ba3-9375-4e69-931d-f1094fa9f289",
   "metadata": {},
   "outputs": [
    {
     "name": "stdout",
     "output_type": "stream",
     "text": [
      "move labels to node attrs\n"
     ]
    },
    {
     "data": {
      "application/vnd.jupyter.widget-view+json": {
       "model_id": "9ddd6bad24994f2083b2c1ec465fa54b",
       "version_major": 2,
       "version_minor": 0
      },
      "text/plain": [
       "graphs:   0%|          | 0/1 [00:00<?, ?it/s]"
      ]
     },
     "metadata": {},
     "output_type": "display_data"
    },
    {
     "name": "stdout",
     "output_type": "stream",
     "text": [
      "remove extra attrs\n"
     ]
    },
    {
     "data": {
      "application/vnd.jupyter.widget-view+json": {
       "model_id": "a22fba8570c44aa1945520ec93d9ee7b",
       "version_major": 2,
       "version_minor": 0
      },
      "text/plain": [
       "graphs:   0%|          | 0/1 [00:00<?, ?it/s]"
      ]
     },
     "metadata": {},
     "output_type": "display_data"
    }
   ],
   "source": [
    "graphs = utils.remove_extra_attrs(utils.label_graphs(tg.datasets.CitationFull(root=f'../data/{NAME}/tg', name=f'{NAME}')))"
   ]
  },
  {
   "cell_type": "code",
   "execution_count": 5,
   "id": "51e8b396-4297-48a6-b277-3cc87a6aa412",
   "metadata": {},
   "outputs": [],
   "source": [
    "# tic = time.time()\n",
    "# nbrs = datasets.decompose(graphs, n_hops=2)\n",
    "# toc = time.time()\n",
    "# torch.save(nbrs, f'../data/{NAME}/nbrs.pt')\n",
    "# tqdm.write(f'neighborhood decomposition time: {toc-tic:.3} s')\n",
    "nbrs = torch.load(f'../data/{NAME}/nbrs.pt')"
   ]
  },
  {
   "cell_type": "code",
   "execution_count": 9,
   "id": "ef58d72c-d610-4ae2-9e80-8eb7701812bf",
   "metadata": {},
   "outputs": [
    {
     "name": "stdout",
     "output_type": "stream",
     "text": [
      "sample queries from targets\n"
     ]
    },
    {
     "data": {
      "application/vnd.jupyter.widget-view+json": {
       "model_id": "dc5311f87b0f42b8ae58b198047bd08b",
       "version_major": 2,
       "version_minor": 0
      },
      "text/plain": [
       "sampled queries:   0%|          | 0/10 [00:00<?, ?it/s]"
      ]
     },
     "metadata": {},
     "output_type": "display_data"
    }
   ],
   "source": [
    "queries = datasets.make_queries(nbrs, n_queries=10, n_hops=2, trav_prob=0.4, node_lim=25)"
   ]
  },
  {
   "cell_type": "code",
   "execution_count": 10,
   "id": "0237bbf2-c71e-4898-aee2-113807d81be5",
   "metadata": {},
   "outputs": [],
   "source": [
    "model = models.NormSEDModel(8, CLASSES, 64, 64)\n",
    "model.load_state_dict(torch.load(f'../runlogs/{NAME}/1621887700.5921354/best_model.pt', map_location='cpu'))\n",
    "model = model.eval()\n",
    "model = model.to(config.device)"
   ]
  },
  {
   "cell_type": "code",
   "execution_count": 11,
   "id": "7f64c613-92b4-44fa-9fc1-b553525a022b",
   "metadata": {},
   "outputs": [
    {
     "name": "stdout",
     "output_type": "stream",
     "text": [
      "total target embedding time: 1.75 s\n",
      "per target embedding time: 8.87e-05 s\n"
     ]
    }
   ],
   "source": [
    "tic = time.time()\n",
    "with torch.no_grad():\n",
    "    target_embs = model.embed_model(tg.data.Batch.from_data_list(nbrs).to(config.device))\n",
    "toc = time.time()\n",
    "tqdm.write(f'total target embedding time: {toc-tic:.3} s')\n",
    "tqdm.write(f'per target embedding time: {(toc-tic)/len(nbrs):.3} s')"
   ]
  },
  {
   "cell_type": "code",
   "execution_count": 12,
   "id": "9b7e7299-1f2c-4fa5-a310-1c015016bb3b",
   "metadata": {},
   "outputs": [
    {
     "name": "stdout",
     "output_type": "stream",
     "text": [
      "total query embedding time: 0.00816 s\n",
      "per query embedding time: 0.000816 s\n"
     ]
    }
   ],
   "source": [
    "tic = time.time()\n",
    "with torch.no_grad():\n",
    "    query_embs = model.embed_model(tg.data.Batch.from_data_list(queries).to(config.device))\n",
    "toc = time.time()\n",
    "tqdm.write(f'total query embedding time: {toc-tic:.3} s')\n",
    "tqdm.write(f'per query embedding time: {(toc-tic)/len(queries):.3} s')"
   ]
  },
  {
   "cell_type": "code",
   "execution_count": 72,
   "id": "bc895ebf-7d83-4a4a-b1b2-6658001a7377",
   "metadata": {},
   "outputs": [],
   "source": [
    "temb = target_embs.repeat(100,1)\n",
    "qemb = query_embs"
   ]
  },
  {
   "cell_type": "markdown",
   "id": "5e050100-afc5-4884-ab90-2b2db0333b2d",
   "metadata": {},
   "source": [
    "# Linear Scan"
   ]
  },
  {
   "cell_type": "markdown",
   "id": "c8fbab4b-6237-4cc2-b7c3-9426714cc112",
   "metadata": {},
   "source": [
    "## Unvectorised, CPU, threads=1"
   ]
  },
  {
   "cell_type": "code",
   "execution_count": 38,
   "id": "8365d226-71ea-4a1f-a6e4-25c30d34f9c9",
   "metadata": {},
   "outputs": [
    {
     "name": "stdout",
     "output_type": "stream",
     "text": [
      "slow (pythonic) linear scan index\n",
      "config.device: cpu\n",
      "preprocessing time: 0.0179 s\n"
     ]
    }
   ],
   "source": [
    "tic = time.time()\n",
    "config.device = torch.device('cpu')\n",
    "torch.set_num_threads(1)\n",
    "index_str = index.LinearScan(temb, dist_fn=utils.norm_sed_func)\n",
    "toc = time.time()\n",
    "tqdm.write(f'preprocessing time: {toc-tic:.3} s')"
   ]
  },
  {
   "cell_type": "code",
   "execution_count": 39,
   "id": "39b567f4-5f1c-4143-8432-4293b6016adc",
   "metadata": {
    "tags": []
   },
   "outputs": [
    {
     "data": {
      "application/vnd.jupyter.widget-view+json": {
       "model_id": "7376f9aa80414f75987cc607783f752d",
       "version_major": 2,
       "version_minor": 0
      },
      "text/plain": [
       "r = 0 | queries:   0%|          | 0/10 [00:00<?, ?it/s]"
      ]
     },
     "metadata": {},
     "output_type": "display_data"
    },
    {
     "data": {
      "application/vnd.jupyter.widget-view+json": {
       "model_id": "abb430e446314ef4a8d3a8ff9999f29f",
       "version_major": 2,
       "version_minor": 0
      },
      "text/plain": [
       "r = 1 | queries:   0%|          | 0/10 [00:00<?, ?it/s]"
      ]
     },
     "metadata": {},
     "output_type": "display_data"
    },
    {
     "data": {
      "application/vnd.jupyter.widget-view+json": {
       "model_id": "79a267ab38ea4688a5a483e2bafc1ca6",
       "version_major": 2,
       "version_minor": 0
      },
      "text/plain": [
       "r = 2 | queries:   0%|          | 0/10 [00:00<?, ?it/s]"
      ]
     },
     "metadata": {},
     "output_type": "display_data"
    },
    {
     "data": {
      "application/vnd.jupyter.widget-view+json": {
       "model_id": "fd415a985ef5480094cc25debbb5081b",
       "version_major": 2,
       "version_minor": 0
      },
      "text/plain": [
       "r = 4 | queries:   0%|          | 0/10 [00:00<?, ?it/s]"
      ]
     },
     "metadata": {},
     "output_type": "display_data"
    },
    {
     "data": {
      "application/vnd.jupyter.widget-view+json": {
       "model_id": "033e8403610d483b87fa9dc402a47a49",
       "version_major": 2,
       "version_minor": 0
      },
      "text/plain": [
       "r = 8 | queries:   0%|          | 0/10 [00:00<?, ?it/s]"
      ]
     },
     "metadata": {},
     "output_type": "display_data"
    },
    {
     "data": {
      "application/vnd.jupyter.widget-view+json": {
       "model_id": "efd2dfc988d74c2d9845bd586456452b",
       "version_major": 2,
       "version_minor": 0
      },
      "text/plain": [
       "r = 12 | queries:   0%|          | 0/10 [00:00<?, ?it/s]"
      ]
     },
     "metadata": {},
     "output_type": "display_data"
    },
    {
     "name": "stdout",
     "output_type": "stream",
     "text": [
      "\n",
      "time in s:\n",
      "0.658\t0.652\t0.609\t0.62\t0.61\t0.632\t\n"
     ]
    }
   ],
   "source": [
    "out = ''\n",
    "for r in [0,1,2,4,8,12]:\n",
    "    tic = time.time()\n",
    "    for q in tqdm(qemb, f'r = {r} | queries'):\n",
    "        index_str.range_query(q, r, verbose=False)\n",
    "    toc = time.time()\n",
    "    out += f'{(toc-tic)/qemb.shape[0]:.3} / '\n",
    "tqdm.write('')\n",
    "tqdm.write('time in s:')\n",
    "tqdm.write(out)"
   ]
  },
  {
   "cell_type": "code",
   "execution_count": 40,
   "id": "982ebd54-a61c-4b44-bcb0-84ac2845de83",
   "metadata": {
    "tags": []
   },
   "outputs": [
    {
     "data": {
      "application/vnd.jupyter.widget-view+json": {
       "model_id": "aa7ec077aa0f457896829e6e17520bfd",
       "version_major": 2,
       "version_minor": 0
      },
      "text/plain": [
       "k = 1 | queries:   0%|          | 0/10 [00:00<?, ?it/s]"
      ]
     },
     "metadata": {},
     "output_type": "display_data"
    },
    {
     "data": {
      "application/vnd.jupyter.widget-view+json": {
       "model_id": "4c55d91bf6c64a5b914f03a559e4bda3",
       "version_major": 2,
       "version_minor": 0
      },
      "text/plain": [
       "k = 10 | queries:   0%|          | 0/10 [00:00<?, ?it/s]"
      ]
     },
     "metadata": {},
     "output_type": "display_data"
    },
    {
     "data": {
      "application/vnd.jupyter.widget-view+json": {
       "model_id": "5a521288a0ad48178f4fdda01f0e822a",
       "version_major": 2,
       "version_minor": 0
      },
      "text/plain": [
       "k = 20 | queries:   0%|          | 0/10 [00:00<?, ?it/s]"
      ]
     },
     "metadata": {},
     "output_type": "display_data"
    },
    {
     "data": {
      "application/vnd.jupyter.widget-view+json": {
       "model_id": "343875bdd3ed4b8ea684fef73e2e6972",
       "version_major": 2,
       "version_minor": 0
      },
      "text/plain": [
       "k = 100 | queries:   0%|          | 0/10 [00:00<?, ?it/s]"
      ]
     },
     "metadata": {},
     "output_type": "display_data"
    },
    {
     "data": {
      "application/vnd.jupyter.widget-view+json": {
       "model_id": "b47f0bb996c045b088c1be9b4e000e15",
       "version_major": 2,
       "version_minor": 0
      },
      "text/plain": [
       "k = 200 | queries:   0%|          | 0/10 [00:00<?, ?it/s]"
      ]
     },
     "metadata": {},
     "output_type": "display_data"
    },
    {
     "data": {
      "application/vnd.jupyter.widget-view+json": {
       "model_id": "01bfb242a95f48ad96d3c19796d5b72d",
       "version_major": 2,
       "version_minor": 0
      },
      "text/plain": [
       "k = 500 | queries:   0%|          | 0/10 [00:00<?, ?it/s]"
      ]
     },
     "metadata": {},
     "output_type": "display_data"
    },
    {
     "data": {
      "application/vnd.jupyter.widget-view+json": {
       "model_id": "fbcc4ee73820432686e60d91b8677b83",
       "version_major": 2,
       "version_minor": 0
      },
      "text/plain": [
       "k = 1000 | queries:   0%|          | 0/10 [00:00<?, ?it/s]"
      ]
     },
     "metadata": {},
     "output_type": "display_data"
    },
    {
     "name": "stdout",
     "output_type": "stream",
     "text": [
      "\n",
      "time in s:\n",
      "0.71\t0.682\t0.673\t0.721\t0.78\t0.886\t0.981\t\n"
     ]
    }
   ],
   "source": [
    "out = ''\n",
    "for k in [1,10,20,100,200,500,1000]:\n",
    "    tic = time.time()\n",
    "    for q in tqdm(qemb, f'k = {k} | queries'):\n",
    "        index_str.knn_query(q, k, verbose=False)\n",
    "    toc = time.time()\n",
    "    out += f'{(toc-tic)/qemb.shape[0]:.3} / '\n",
    "tqdm.write('')\n",
    "tqdm.write('time in s:')\n",
    "tqdm.write(out)"
   ]
  },
  {
   "cell_type": "markdown",
   "id": "a5945a9c-2365-4f79-afbb-0e5ab084e981",
   "metadata": {},
   "source": [
    "## Vectorised, CPU, threads=1"
   ]
  },
  {
   "cell_type": "code",
   "execution_count": 73,
   "id": "c5c801b0-0fe1-429e-9206-35ce678a069c",
   "metadata": {},
   "outputs": [
    {
     "name": "stdout",
     "output_type": "stream",
     "text": [
      "fast (vectorised) linear scan index\n",
      "config.device: cpu\n",
      "preprocessing time: 0.421 s\n"
     ]
    }
   ],
   "source": [
    "tic = time.time()\n",
    "config.device = torch.device('cpu')\n",
    "torch.set_num_threads(1)\n",
    "index_str = index.FastLinearScan(temb, dist_fn=utils.norm_sed_func)\n",
    "toc = time.time()\n",
    "tqdm.write(f'preprocessing time: {toc-tic:.3} s')"
   ]
  },
  {
   "cell_type": "code",
   "execution_count": 74,
   "id": "fc4d284c-a4a4-407b-ac01-0138377ec349",
   "metadata": {
    "tags": []
   },
   "outputs": [
    {
     "data": {
      "application/vnd.jupyter.widget-view+json": {
       "model_id": "30fdf62eb7d24752af9ca4e2b762f107",
       "version_major": 2,
       "version_minor": 0
      },
      "text/plain": [
       "r = 0 | queries:   0%|          | 0/10 [00:00<?, ?it/s]"
      ]
     },
     "metadata": {},
     "output_type": "display_data"
    },
    {
     "data": {
      "application/vnd.jupyter.widget-view+json": {
       "model_id": "edb0d6a8a9624c37acc17c2bd0e6619e",
       "version_major": 2,
       "version_minor": 0
      },
      "text/plain": [
       "r = 1 | queries:   0%|          | 0/10 [00:00<?, ?it/s]"
      ]
     },
     "metadata": {},
     "output_type": "display_data"
    },
    {
     "data": {
      "application/vnd.jupyter.widget-view+json": {
       "model_id": "71c310215f704104b15dc2de84b46c2a",
       "version_major": 2,
       "version_minor": 0
      },
      "text/plain": [
       "r = 2 | queries:   0%|          | 0/10 [00:00<?, ?it/s]"
      ]
     },
     "metadata": {},
     "output_type": "display_data"
    },
    {
     "data": {
      "application/vnd.jupyter.widget-view+json": {
       "model_id": "74c626c3394248989705f81d5e4aa37b",
       "version_major": 2,
       "version_minor": 0
      },
      "text/plain": [
       "r = 4 | queries:   0%|          | 0/10 [00:00<?, ?it/s]"
      ]
     },
     "metadata": {},
     "output_type": "display_data"
    },
    {
     "data": {
      "application/vnd.jupyter.widget-view+json": {
       "model_id": "90b92203eedd41bab321915312b7365f",
       "version_major": 2,
       "version_minor": 0
      },
      "text/plain": [
       "r = 8 | queries:   0%|          | 0/10 [00:00<?, ?it/s]"
      ]
     },
     "metadata": {},
     "output_type": "display_data"
    },
    {
     "data": {
      "application/vnd.jupyter.widget-view+json": {
       "model_id": "588fce2d2486496885b9c326fefb399c",
       "version_major": 2,
       "version_minor": 0
      },
      "text/plain": [
       "r = 12 | queries:   0%|          | 0/10 [00:00<?, ?it/s]"
      ]
     },
     "metadata": {},
     "output_type": "display_data"
    },
    {
     "name": "stdout",
     "output_type": "stream",
     "text": [
      "\n",
      "time in s:\n",
      "1.37 / 1.4 / 1.47 / 1.44 / 1.5 / 1.46 / \n"
     ]
    }
   ],
   "source": [
    "out = ''\n",
    "for r in [0,1,2,4,8,12]:\n",
    "    tic = time.time()\n",
    "    for q in tqdm(qemb, f'r = {r} | queries'):\n",
    "        index_str.range_query(q, r, verbose=False)\n",
    "    toc = time.time()\n",
    "    out += f'{(toc-tic)/qemb.shape[0]:.3} / '\n",
    "tqdm.write('')\n",
    "tqdm.write('time in s:')\n",
    "tqdm.write(out)"
   ]
  },
  {
   "cell_type": "code",
   "execution_count": 75,
   "id": "53992ecc-77e3-423d-a866-772051b83211",
   "metadata": {
    "tags": []
   },
   "outputs": [
    {
     "data": {
      "application/vnd.jupyter.widget-view+json": {
       "model_id": "9f598320bd034fe59974c255015889cc",
       "version_major": 2,
       "version_minor": 0
      },
      "text/plain": [
       "k = 1 | queries:   0%|          | 0/10 [00:00<?, ?it/s]"
      ]
     },
     "metadata": {},
     "output_type": "display_data"
    },
    {
     "data": {
      "application/vnd.jupyter.widget-view+json": {
       "model_id": "eb969452139f4353b8691c5188a8ed38",
       "version_major": 2,
       "version_minor": 0
      },
      "text/plain": [
       "k = 10 | queries:   0%|          | 0/10 [00:00<?, ?it/s]"
      ]
     },
     "metadata": {},
     "output_type": "display_data"
    },
    {
     "data": {
      "application/vnd.jupyter.widget-view+json": {
       "model_id": "17ba0fb2b8fe49c78e4df3c16b4ef935",
       "version_major": 2,
       "version_minor": 0
      },
      "text/plain": [
       "k = 20 | queries:   0%|          | 0/10 [00:00<?, ?it/s]"
      ]
     },
     "metadata": {},
     "output_type": "display_data"
    },
    {
     "data": {
      "application/vnd.jupyter.widget-view+json": {
       "model_id": "2bc3bf24200a4ada99c4e2fd53d2f225",
       "version_major": 2,
       "version_minor": 0
      },
      "text/plain": [
       "k = 100 | queries:   0%|          | 0/10 [00:00<?, ?it/s]"
      ]
     },
     "metadata": {},
     "output_type": "display_data"
    },
    {
     "data": {
      "application/vnd.jupyter.widget-view+json": {
       "model_id": "9ac07ab2613d422892006bef35378175",
       "version_major": 2,
       "version_minor": 0
      },
      "text/plain": [
       "k = 200 | queries:   0%|          | 0/10 [00:00<?, ?it/s]"
      ]
     },
     "metadata": {},
     "output_type": "display_data"
    },
    {
     "data": {
      "application/vnd.jupyter.widget-view+json": {
       "model_id": "5f0f75fb6fb64b68803fc73e0c8b8ed2",
       "version_major": 2,
       "version_minor": 0
      },
      "text/plain": [
       "k = 500 | queries:   0%|          | 0/10 [00:00<?, ?it/s]"
      ]
     },
     "metadata": {},
     "output_type": "display_data"
    },
    {
     "data": {
      "application/vnd.jupyter.widget-view+json": {
       "model_id": "d37133fa4d714c52bf2f9ff1143f1a09",
       "version_major": 2,
       "version_minor": 0
      },
      "text/plain": [
       "k = 1000 | queries:   0%|          | 0/10 [00:00<?, ?it/s]"
      ]
     },
     "metadata": {},
     "output_type": "display_data"
    },
    {
     "name": "stdout",
     "output_type": "stream",
     "text": [
      "\n",
      "time in s:\n",
      "1.39 / 1.42 / 1.51 / 1.46 / 1.48 / 1.49 / 1.42 / \n"
     ]
    }
   ],
   "source": [
    "out = ''\n",
    "for k in [1,10,20,100,200,500,1000]:\n",
    "    tic = time.time()\n",
    "    for q in tqdm(qemb, f'k = {k} | queries'):\n",
    "        index_str.knn_query(q, k, verbose=False)\n",
    "    toc = time.time()\n",
    "    out += f'{(toc-tic)/qemb.shape[0]:.3} / '\n",
    "tqdm.write('')\n",
    "tqdm.write('time in s:')\n",
    "tqdm.write(out)"
   ]
  },
  {
   "cell_type": "markdown",
   "id": "555cff8d-ca5a-4062-bb2c-d2d098f0f845",
   "metadata": {},
   "source": [
    "## Vectorised, GPU"
   ]
  },
  {
   "cell_type": "code",
   "execution_count": 44,
   "id": "49a4fcd9-092f-41fa-9955-20c84ad06c20",
   "metadata": {},
   "outputs": [
    {
     "name": "stdout",
     "output_type": "stream",
     "text": [
      "fast (vectorised) linear scan index\n",
      "config.device: cuda\n",
      "preprocessing time: 0.0155 s\n"
     ]
    }
   ],
   "source": [
    "tic = time.time()\n",
    "config.device = torch.device('cuda')\n",
    "index_str = index.FastLinearScan(temb, dist_fn=utils.norm_sed_func)\n",
    "toc = time.time()\n",
    "tqdm.write(f'preprocessing time: {toc-tic:.3} s')"
   ]
  },
  {
   "cell_type": "code",
   "execution_count": 45,
   "id": "424472ef-04e2-4459-acdc-1d442600e8c2",
   "metadata": {
    "tags": []
   },
   "outputs": [
    {
     "data": {
      "application/vnd.jupyter.widget-view+json": {
       "model_id": "28bd6421c52049d29c113cfa93323672",
       "version_major": 2,
       "version_minor": 0
      },
      "text/plain": [
       "r = 0 | queries:   0%|          | 0/10 [00:00<?, ?it/s]"
      ]
     },
     "metadata": {},
     "output_type": "display_data"
    },
    {
     "data": {
      "application/vnd.jupyter.widget-view+json": {
       "model_id": "eac20a95554248cfb92342fab0e0475f",
       "version_major": 2,
       "version_minor": 0
      },
      "text/plain": [
       "r = 1 | queries:   0%|          | 0/10 [00:00<?, ?it/s]"
      ]
     },
     "metadata": {},
     "output_type": "display_data"
    },
    {
     "data": {
      "application/vnd.jupyter.widget-view+json": {
       "model_id": "768ecf56963440e490cc9f8a4cb13f2e",
       "version_major": 2,
       "version_minor": 0
      },
      "text/plain": [
       "r = 2 | queries:   0%|          | 0/10 [00:00<?, ?it/s]"
      ]
     },
     "metadata": {},
     "output_type": "display_data"
    },
    {
     "data": {
      "application/vnd.jupyter.widget-view+json": {
       "model_id": "2a68df63e1ae486f83088cb6a1f82a36",
       "version_major": 2,
       "version_minor": 0
      },
      "text/plain": [
       "r = 4 | queries:   0%|          | 0/10 [00:00<?, ?it/s]"
      ]
     },
     "metadata": {},
     "output_type": "display_data"
    },
    {
     "data": {
      "application/vnd.jupyter.widget-view+json": {
       "model_id": "8cee03e3b89e4a1db273ec77a6609628",
       "version_major": 2,
       "version_minor": 0
      },
      "text/plain": [
       "r = 8 | queries:   0%|          | 0/10 [00:00<?, ?it/s]"
      ]
     },
     "metadata": {},
     "output_type": "display_data"
    },
    {
     "data": {
      "application/vnd.jupyter.widget-view+json": {
       "model_id": "80c703a32a8940feb39d47c1c7573df9",
       "version_major": 2,
       "version_minor": 0
      },
      "text/plain": [
       "r = 12 | queries:   0%|          | 0/10 [00:00<?, ?it/s]"
      ]
     },
     "metadata": {},
     "output_type": "display_data"
    },
    {
     "name": "stdout",
     "output_type": "stream",
     "text": [
      "\n",
      "time in s:\n",
      "0.00384\t0.00355\t0.00374\t0.00345\t0.00365\t0.00317\t\n"
     ]
    }
   ],
   "source": [
    "out = ''\n",
    "for r in [0,1,2,4,8,12]:\n",
    "    tic = time.time()\n",
    "    for q in tqdm(qemb, f'r = {r} | queries'):\n",
    "        index_str.range_query(q, r, verbose=False)\n",
    "    toc = time.time()\n",
    "    out += f'{(toc-tic)/qemb.shape[0]:.3} / '\n",
    "tqdm.write('')\n",
    "tqdm.write('time in s:')\n",
    "tqdm.write(out)"
   ]
  },
  {
   "cell_type": "code",
   "execution_count": 46,
   "id": "8cf33e3c-7ed0-4e96-9a26-b14ccb8e6a61",
   "metadata": {
    "tags": []
   },
   "outputs": [
    {
     "data": {
      "application/vnd.jupyter.widget-view+json": {
       "model_id": "71e97e68fcfd488fa67e6efa783ee3ba",
       "version_major": 2,
       "version_minor": 0
      },
      "text/plain": [
       "k = 1 | queries:   0%|          | 0/10 [00:00<?, ?it/s]"
      ]
     },
     "metadata": {},
     "output_type": "display_data"
    },
    {
     "data": {
      "application/vnd.jupyter.widget-view+json": {
       "model_id": "a67db0a883554d26be85d78d5c9b146c",
       "version_major": 2,
       "version_minor": 0
      },
      "text/plain": [
       "k = 10 | queries:   0%|          | 0/10 [00:00<?, ?it/s]"
      ]
     },
     "metadata": {},
     "output_type": "display_data"
    },
    {
     "data": {
      "application/vnd.jupyter.widget-view+json": {
       "model_id": "e77d5996829e49f59bbea45d92bb886b",
       "version_major": 2,
       "version_minor": 0
      },
      "text/plain": [
       "k = 20 | queries:   0%|          | 0/10 [00:00<?, ?it/s]"
      ]
     },
     "metadata": {},
     "output_type": "display_data"
    },
    {
     "data": {
      "application/vnd.jupyter.widget-view+json": {
       "model_id": "b637c8c908914dde91a48b6fde961376",
       "version_major": 2,
       "version_minor": 0
      },
      "text/plain": [
       "k = 100 | queries:   0%|          | 0/10 [00:00<?, ?it/s]"
      ]
     },
     "metadata": {},
     "output_type": "display_data"
    },
    {
     "data": {
      "application/vnd.jupyter.widget-view+json": {
       "model_id": "562e244210c44797a5af0348578a41d5",
       "version_major": 2,
       "version_minor": 0
      },
      "text/plain": [
       "k = 200 | queries:   0%|          | 0/10 [00:00<?, ?it/s]"
      ]
     },
     "metadata": {},
     "output_type": "display_data"
    },
    {
     "data": {
      "application/vnd.jupyter.widget-view+json": {
       "model_id": "cf7d0db358244da3ac59cbfd29a14d04",
       "version_major": 2,
       "version_minor": 0
      },
      "text/plain": [
       "k = 500 | queries:   0%|          | 0/10 [00:00<?, ?it/s]"
      ]
     },
     "metadata": {},
     "output_type": "display_data"
    },
    {
     "data": {
      "application/vnd.jupyter.widget-view+json": {
       "model_id": "0b549150c3544ff59e6b217286313205",
       "version_major": 2,
       "version_minor": 0
      },
      "text/plain": [
       "k = 1000 | queries:   0%|          | 0/10 [00:00<?, ?it/s]"
      ]
     },
     "metadata": {},
     "output_type": "display_data"
    },
    {
     "name": "stdout",
     "output_type": "stream",
     "text": [
      "\n",
      "time in s:\n",
      "0.00297\t0.0029\t0.00291\t0.00312\t0.00403\t0.00273\t0.00274\t\n"
     ]
    }
   ],
   "source": [
    "out = ''\n",
    "for k in [1,10,20,100,200,500,1000]:\n",
    "    tic = time.time()\n",
    "    for q in tqdm(qemb, f'k = {k} | queries'):\n",
    "        index_str.knn_query(q, k, verbose=False)\n",
    "    toc = time.time()\n",
    "    out += f'{(toc-tic)/qemb.shape[0]:.3} / '\n",
    "tqdm.write('')\n",
    "tqdm.write('time in s:')\n",
    "tqdm.write(out)"
   ]
  },
  {
   "cell_type": "markdown",
   "id": "ef1b5761-aa0f-40cc-afa2-44643b305789",
   "metadata": {},
   "source": [
    "# Quasi Metric Tree"
   ]
  },
  {
   "cell_type": "markdown",
   "id": "3b0bb65f-1b26-44ce-ae5d-f7105f4bba65",
   "metadata": {},
   "source": [
    "## Unvectorised, CPU, threads=1, max_leaf_size=8"
   ]
  },
  {
   "cell_type": "code",
   "execution_count": 47,
   "id": "441498f3-bed8-49a0-b227-7da6c1dada71",
   "metadata": {},
   "outputs": [
    {
     "name": "stdout",
     "output_type": "stream",
     "text": [
      "construct quasi metric tree for asymmetric/symmetric distance function\n",
      "config.device: cpu\n"
     ]
    },
    {
     "data": {
      "application/vnd.jupyter.widget-view+json": {
       "model_id": "2aefe93352d049f98855ba587ddc13b9",
       "version_major": 2,
       "version_minor": 0
      },
      "text/plain": [
       "  0%|          | 0/19717 [00:00<?, ?it/s]"
      ]
     },
     "metadata": {},
     "output_type": "display_data"
    },
    {
     "name": "stdout",
     "output_type": "stream",
     "text": [
      "distance computations: 259532\n",
      "internal nodes: 1925 / 7701\n",
      "leaf nodes: 5776 / 7701\n",
      "big leaf nodes: 30 / 5776\n",
      "max leaf size: 58\n",
      "preprocessing time: 0.963 s\n"
     ]
    }
   ],
   "source": [
    "tic = time.time()\n",
    "config.device = torch.device('cpu')\n",
    "torch.set_num_threads(1)\n",
    "index_str = index.QuasiMetricTree(temb, dist_fn=utils.norm_sed_func, max_leaf_size=8)\n",
    "toc = time.time()\n",
    "tqdm.write(f'preprocessing time: {toc-tic:.3} s')"
   ]
  },
  {
   "cell_type": "code",
   "execution_count": 48,
   "id": "e421dce2-9028-4f7b-9ec4-362fdc5133a1",
   "metadata": {
    "tags": []
   },
   "outputs": [
    {
     "data": {
      "application/vnd.jupyter.widget-view+json": {
       "model_id": "40612560ca7a4a47aeffef268534e6ea",
       "version_major": 2,
       "version_minor": 0
      },
      "text/plain": [
       "r = 0 | queries:   0%|          | 0/10 [00:00<?, ?it/s]"
      ]
     },
     "metadata": {},
     "output_type": "display_data"
    },
    {
     "data": {
      "application/vnd.jupyter.widget-view+json": {
       "model_id": "7056bd07f7b94c129045fcaf322b93d0",
       "version_major": 2,
       "version_minor": 0
      },
      "text/plain": [
       "r = 1 | queries:   0%|          | 0/10 [00:00<?, ?it/s]"
      ]
     },
     "metadata": {},
     "output_type": "display_data"
    },
    {
     "data": {
      "application/vnd.jupyter.widget-view+json": {
       "model_id": "3ff2277308314626a3a8a80bdfd8b83d",
       "version_major": 2,
       "version_minor": 0
      },
      "text/plain": [
       "r = 2 | queries:   0%|          | 0/10 [00:00<?, ?it/s]"
      ]
     },
     "metadata": {},
     "output_type": "display_data"
    },
    {
     "data": {
      "application/vnd.jupyter.widget-view+json": {
       "model_id": "8c53d0c8391040368745e33436e340cf",
       "version_major": 2,
       "version_minor": 0
      },
      "text/plain": [
       "r = 4 | queries:   0%|          | 0/10 [00:00<?, ?it/s]"
      ]
     },
     "metadata": {},
     "output_type": "display_data"
    },
    {
     "data": {
      "application/vnd.jupyter.widget-view+json": {
       "model_id": "33729370a45c495c8fd663c32e925005",
       "version_major": 2,
       "version_minor": 0
      },
      "text/plain": [
       "r = 8 | queries:   0%|          | 0/10 [00:00<?, ?it/s]"
      ]
     },
     "metadata": {},
     "output_type": "display_data"
    },
    {
     "data": {
      "application/vnd.jupyter.widget-view+json": {
       "model_id": "68185f3e65a94a8aa4d3f7a3e590fe70",
       "version_major": 2,
       "version_minor": 0
      },
      "text/plain": [
       "r = 12 | queries:   0%|          | 0/10 [00:00<?, ?it/s]"
      ]
     },
     "metadata": {},
     "output_type": "display_data"
    },
    {
     "name": "stdout",
     "output_type": "stream",
     "text": [
      "\n",
      "time in s:\n",
      "0.511\t0.499\t0.542\t0.552\t0.641\t0.551\t\n"
     ]
    }
   ],
   "source": [
    "out = ''\n",
    "for r in [0,1,2,4,8,12]:\n",
    "    tic = time.time()\n",
    "    for q in tqdm(qemb, f'r = {r} | queries'):\n",
    "        index_str.range_query(q, r, slow=True, verbose=False)\n",
    "    toc = time.time()\n",
    "    out += f'{(toc-tic)/qemb.shape[0]:.3} / '\n",
    "tqdm.write('')\n",
    "tqdm.write('time in s:')\n",
    "tqdm.write(out)"
   ]
  },
  {
   "cell_type": "code",
   "execution_count": 49,
   "id": "88014c5a-89fc-417a-98bf-32072507169c",
   "metadata": {
    "tags": []
   },
   "outputs": [
    {
     "data": {
      "application/vnd.jupyter.widget-view+json": {
       "model_id": "fe54e176056f4096b03623a792d43e5e",
       "version_major": 2,
       "version_minor": 0
      },
      "text/plain": [
       "k = 1 | queries:   0%|          | 0/10 [00:00<?, ?it/s]"
      ]
     },
     "metadata": {},
     "output_type": "display_data"
    },
    {
     "data": {
      "application/vnd.jupyter.widget-view+json": {
       "model_id": "4c626c62f1b2494a83da4bf3aac38ecd",
       "version_major": 2,
       "version_minor": 0
      },
      "text/plain": [
       "k = 10 | queries:   0%|          | 0/10 [00:00<?, ?it/s]"
      ]
     },
     "metadata": {},
     "output_type": "display_data"
    },
    {
     "data": {
      "application/vnd.jupyter.widget-view+json": {
       "model_id": "8c4c4dc293c24e8cad92eef2845fc533",
       "version_major": 2,
       "version_minor": 0
      },
      "text/plain": [
       "k = 20 | queries:   0%|          | 0/10 [00:00<?, ?it/s]"
      ]
     },
     "metadata": {},
     "output_type": "display_data"
    },
    {
     "data": {
      "application/vnd.jupyter.widget-view+json": {
       "model_id": "641b0b37e8dd475d88000f7b0750a769",
       "version_major": 2,
       "version_minor": 0
      },
      "text/plain": [
       "k = 100 | queries:   0%|          | 0/10 [00:00<?, ?it/s]"
      ]
     },
     "metadata": {},
     "output_type": "display_data"
    },
    {
     "data": {
      "application/vnd.jupyter.widget-view+json": {
       "model_id": "f1bec1d91f804fda996a49995e0f0c07",
       "version_major": 2,
       "version_minor": 0
      },
      "text/plain": [
       "k = 200 | queries:   0%|          | 0/10 [00:00<?, ?it/s]"
      ]
     },
     "metadata": {},
     "output_type": "display_data"
    },
    {
     "data": {
      "application/vnd.jupyter.widget-view+json": {
       "model_id": "53dd9f2e01af48a18c8de9a0e5202d05",
       "version_major": 2,
       "version_minor": 0
      },
      "text/plain": [
       "k = 500 | queries:   0%|          | 0/10 [00:00<?, ?it/s]"
      ]
     },
     "metadata": {},
     "output_type": "display_data"
    },
    {
     "data": {
      "application/vnd.jupyter.widget-view+json": {
       "model_id": "7785ab453a9842999f9580dfd54c949e",
       "version_major": 2,
       "version_minor": 0
      },
      "text/plain": [
       "k = 1000 | queries:   0%|          | 0/10 [00:00<?, ?it/s]"
      ]
     },
     "metadata": {},
     "output_type": "display_data"
    },
    {
     "name": "stdout",
     "output_type": "stream",
     "text": [
      "\n",
      "time in s:\n",
      "0.516\t0.532\t0.524\t0.58\t0.611\t0.783\t0.993\t\n"
     ]
    }
   ],
   "source": [
    "out = ''\n",
    "for k in [1,10,20,100,200,500,1000]:\n",
    "    tic = time.time()\n",
    "    for q in tqdm(qemb, f'k = {k} | queries'):\n",
    "        index_str.knn_query(q, k, slow=True, verbose=False)\n",
    "    toc = time.time()\n",
    "    out += f'{(toc-tic)/qemb.shape[0]:.3} / '\n",
    "tqdm.write('')\n",
    "tqdm.write('time in s:')\n",
    "tqdm.write(out)"
   ]
  },
  {
   "cell_type": "markdown",
   "id": "d1dd19c1-8f43-4152-b5d9-79a7c59e707c",
   "metadata": {},
   "source": [
    "## Unvectorised, CPU, threads=1, max_leaf_size=64"
   ]
  },
  {
   "cell_type": "code",
   "execution_count": 50,
   "id": "3f2ef2a1-cb22-47ae-b25a-9d0a85965571",
   "metadata": {},
   "outputs": [
    {
     "name": "stdout",
     "output_type": "stream",
     "text": [
      "construct quasi metric tree for asymmetric/symmetric distance function\n",
      "config.device: cpu\n"
     ]
    },
    {
     "data": {
      "application/vnd.jupyter.widget-view+json": {
       "model_id": "664e374ab6e14ddf8bcc5cb6451d270a",
       "version_major": 2,
       "version_minor": 0
      },
      "text/plain": [
       "  0%|          | 0/19717 [00:00<?, ?it/s]"
      ]
     },
     "metadata": {},
     "output_type": "display_data"
    },
    {
     "name": "stdout",
     "output_type": "stream",
     "text": [
      "distance computations: 193296\n",
      "internal nodes: 246 / 985\n",
      "leaf nodes: 739 / 985\n",
      "big leaf nodes: 0 / 739\n",
      "max leaf size: 64\n",
      "preprocessing time: 0.277 s\n"
     ]
    }
   ],
   "source": [
    "tic = time.time()\n",
    "config.device = torch.device('cpu')\n",
    "torch.set_num_threads(1)\n",
    "index_str = index.QuasiMetricTree(temb, dist_fn=utils.norm_sed_func, max_leaf_size=64)\n",
    "toc = time.time()\n",
    "tqdm.write(f'preprocessing time: {toc-tic:.3} s')"
   ]
  },
  {
   "cell_type": "code",
   "execution_count": 51,
   "id": "6b74c33f-6175-4739-b8f3-5adbebb3611c",
   "metadata": {
    "tags": []
   },
   "outputs": [
    {
     "data": {
      "application/vnd.jupyter.widget-view+json": {
       "model_id": "a1e92ff02b6042dea8598d833060d83e",
       "version_major": 2,
       "version_minor": 0
      },
      "text/plain": [
       "r = 0 | queries:   0%|          | 0/10 [00:00<?, ?it/s]"
      ]
     },
     "metadata": {},
     "output_type": "display_data"
    },
    {
     "data": {
      "application/vnd.jupyter.widget-view+json": {
       "model_id": "c91b91a9842844f286f547deab24abaf",
       "version_major": 2,
       "version_minor": 0
      },
      "text/plain": [
       "r = 1 | queries:   0%|          | 0/10 [00:00<?, ?it/s]"
      ]
     },
     "metadata": {},
     "output_type": "display_data"
    },
    {
     "data": {
      "application/vnd.jupyter.widget-view+json": {
       "model_id": "bd2885125e9046189b8947287559257b",
       "version_major": 2,
       "version_minor": 0
      },
      "text/plain": [
       "r = 2 | queries:   0%|          | 0/10 [00:00<?, ?it/s]"
      ]
     },
     "metadata": {},
     "output_type": "display_data"
    },
    {
     "data": {
      "application/vnd.jupyter.widget-view+json": {
       "model_id": "021fb31540fd45f09d19711a4defcb0f",
       "version_major": 2,
       "version_minor": 0
      },
      "text/plain": [
       "r = 4 | queries:   0%|          | 0/10 [00:00<?, ?it/s]"
      ]
     },
     "metadata": {},
     "output_type": "display_data"
    },
    {
     "data": {
      "application/vnd.jupyter.widget-view+json": {
       "model_id": "6770f0ee3fd045ec91e5a365ad471326",
       "version_major": 2,
       "version_minor": 0
      },
      "text/plain": [
       "r = 8 | queries:   0%|          | 0/10 [00:00<?, ?it/s]"
      ]
     },
     "metadata": {},
     "output_type": "display_data"
    },
    {
     "data": {
      "application/vnd.jupyter.widget-view+json": {
       "model_id": "b9923affd2494d1085d95d7affe5a3c4",
       "version_major": 2,
       "version_minor": 0
      },
      "text/plain": [
       "r = 12 | queries:   0%|          | 0/10 [00:00<?, ?it/s]"
      ]
     },
     "metadata": {},
     "output_type": "display_data"
    },
    {
     "name": "stdout",
     "output_type": "stream",
     "text": [
      "\n",
      "time in s:\n",
      "0.453\t0.476\t0.476\t0.547\t0.561\t0.577\t\n"
     ]
    }
   ],
   "source": [
    "out = ''\n",
    "for r in [0,1,2,4,8,12]:\n",
    "    tic = time.time()\n",
    "    for q in tqdm(qemb, f'r = {r} | queries'):\n",
    "        index_str.range_query(q, r, slow=True, verbose=False)\n",
    "    toc = time.time()\n",
    "    out += f'{(toc-tic)/qemb.shape[0]:.3} / '\n",
    "tqdm.write('')\n",
    "tqdm.write('time in s:')\n",
    "tqdm.write(out)"
   ]
  },
  {
   "cell_type": "code",
   "execution_count": 52,
   "id": "6c756c1b-a05a-454d-911a-21d1bbeee2e6",
   "metadata": {
    "tags": []
   },
   "outputs": [
    {
     "data": {
      "application/vnd.jupyter.widget-view+json": {
       "model_id": "5756b3c266414f1b88ffb1825421f79a",
       "version_major": 2,
       "version_minor": 0
      },
      "text/plain": [
       "k = 1 | queries:   0%|          | 0/10 [00:00<?, ?it/s]"
      ]
     },
     "metadata": {},
     "output_type": "display_data"
    },
    {
     "data": {
      "application/vnd.jupyter.widget-view+json": {
       "model_id": "3be0bb21b314439db3b9e7775f36f302",
       "version_major": 2,
       "version_minor": 0
      },
      "text/plain": [
       "k = 10 | queries:   0%|          | 0/10 [00:00<?, ?it/s]"
      ]
     },
     "metadata": {},
     "output_type": "display_data"
    },
    {
     "data": {
      "application/vnd.jupyter.widget-view+json": {
       "model_id": "7383eaaf5b58452dbbf15542c0462767",
       "version_major": 2,
       "version_minor": 0
      },
      "text/plain": [
       "k = 20 | queries:   0%|          | 0/10 [00:00<?, ?it/s]"
      ]
     },
     "metadata": {},
     "output_type": "display_data"
    },
    {
     "data": {
      "application/vnd.jupyter.widget-view+json": {
       "model_id": "db3f3531795045548661f4fa80510dc9",
       "version_major": 2,
       "version_minor": 0
      },
      "text/plain": [
       "k = 100 | queries:   0%|          | 0/10 [00:00<?, ?it/s]"
      ]
     },
     "metadata": {},
     "output_type": "display_data"
    },
    {
     "data": {
      "application/vnd.jupyter.widget-view+json": {
       "model_id": "8005cba2543740349d870c2a31852a73",
       "version_major": 2,
       "version_minor": 0
      },
      "text/plain": [
       "k = 200 | queries:   0%|          | 0/10 [00:00<?, ?it/s]"
      ]
     },
     "metadata": {},
     "output_type": "display_data"
    },
    {
     "data": {
      "application/vnd.jupyter.widget-view+json": {
       "model_id": "3993f58c978b49b395dcf1c5337ca390",
       "version_major": 2,
       "version_minor": 0
      },
      "text/plain": [
       "k = 500 | queries:   0%|          | 0/10 [00:00<?, ?it/s]"
      ]
     },
     "metadata": {},
     "output_type": "display_data"
    },
    {
     "data": {
      "application/vnd.jupyter.widget-view+json": {
       "model_id": "dc619df42dd24924bbee708ec848d3d1",
       "version_major": 2,
       "version_minor": 0
      },
      "text/plain": [
       "k = 1000 | queries:   0%|          | 0/10 [00:00<?, ?it/s]"
      ]
     },
     "metadata": {},
     "output_type": "display_data"
    },
    {
     "name": "stdout",
     "output_type": "stream",
     "text": [
      "\n",
      "time in s:\n",
      "0.494\t0.433\t0.462\t0.522\t0.602\t0.689\t0.869\t\n"
     ]
    }
   ],
   "source": [
    "out = ''\n",
    "for k in [1,10,20,100,200,500,1000]:\n",
    "    tic = time.time()\n",
    "    for q in tqdm(qemb, f'k = {k} | queries'):\n",
    "        index_str.knn_query(q, k, slow=True, verbose=False)\n",
    "    toc = time.time()\n",
    "    out += f'{(toc-tic)/qemb.shape[0]:.3} / '\n",
    "tqdm.write('')\n",
    "tqdm.write('time in s:')\n",
    "tqdm.write(out)"
   ]
  },
  {
   "cell_type": "markdown",
   "id": "aa71aa6a-7f0b-4e47-8c7e-293d724f8399",
   "metadata": {},
   "source": [
    "## Vectorised, CPU, threads=1, max_leaf_size=8"
   ]
  },
  {
   "cell_type": "code",
   "execution_count": 53,
   "id": "8f83b52c-ea75-4e99-b66b-09fad64d9431",
   "metadata": {},
   "outputs": [
    {
     "name": "stdout",
     "output_type": "stream",
     "text": [
      "construct quasi metric tree for asymmetric/symmetric distance function\n",
      "config.device: cpu\n"
     ]
    },
    {
     "data": {
      "application/vnd.jupyter.widget-view+json": {
       "model_id": "19ba7c4e5d2e431181837ecbbe37ed2b",
       "version_major": 2,
       "version_minor": 0
      },
      "text/plain": [
       "  0%|          | 0/19717 [00:00<?, ?it/s]"
      ]
     },
     "metadata": {},
     "output_type": "display_data"
    },
    {
     "name": "stdout",
     "output_type": "stream",
     "text": [
      "distance computations: 259532\n",
      "internal nodes: 1925 / 7701\n",
      "leaf nodes: 5776 / 7701\n",
      "big leaf nodes: 30 / 5776\n",
      "max leaf size: 58\n",
      "preprocessing time: 0.838 s\n"
     ]
    }
   ],
   "source": [
    "tic = time.time()\n",
    "config.device = torch.device('cpu')\n",
    "torch.set_num_threads(1)\n",
    "index_str = index.QuasiMetricTree(temb, dist_fn=utils.norm_sed_func, max_leaf_size=8)\n",
    "toc = time.time()\n",
    "tqdm.write(f'preprocessing time: {toc-tic:.3} s')"
   ]
  },
  {
   "cell_type": "code",
   "execution_count": 54,
   "id": "bfbd9a16-8dd5-4d20-b973-f013a856a90d",
   "metadata": {
    "tags": []
   },
   "outputs": [
    {
     "data": {
      "application/vnd.jupyter.widget-view+json": {
       "model_id": "78c38ced45454d4dbac13781039e46d2",
       "version_major": 2,
       "version_minor": 0
      },
      "text/plain": [
       "r = 0 | queries:   0%|          | 0/10 [00:00<?, ?it/s]"
      ]
     },
     "metadata": {},
     "output_type": "display_data"
    },
    {
     "data": {
      "application/vnd.jupyter.widget-view+json": {
       "model_id": "015f40b8cfd44250a677f22f84900a3d",
       "version_major": 2,
       "version_minor": 0
      },
      "text/plain": [
       "r = 1 | queries:   0%|          | 0/10 [00:00<?, ?it/s]"
      ]
     },
     "metadata": {},
     "output_type": "display_data"
    },
    {
     "data": {
      "application/vnd.jupyter.widget-view+json": {
       "model_id": "88fb581e1d0842a0b7db23a201237407",
       "version_major": 2,
       "version_minor": 0
      },
      "text/plain": [
       "r = 2 | queries:   0%|          | 0/10 [00:00<?, ?it/s]"
      ]
     },
     "metadata": {},
     "output_type": "display_data"
    },
    {
     "data": {
      "application/vnd.jupyter.widget-view+json": {
       "model_id": "966cbb9db4754eb6a47ce4f3f1683db9",
       "version_major": 2,
       "version_minor": 0
      },
      "text/plain": [
       "r = 4 | queries:   0%|          | 0/10 [00:00<?, ?it/s]"
      ]
     },
     "metadata": {},
     "output_type": "display_data"
    },
    {
     "data": {
      "application/vnd.jupyter.widget-view+json": {
       "model_id": "7f22bd457efe4936a6b960541da5a2cb",
       "version_major": 2,
       "version_minor": 0
      },
      "text/plain": [
       "r = 8 | queries:   0%|          | 0/10 [00:00<?, ?it/s]"
      ]
     },
     "metadata": {},
     "output_type": "display_data"
    },
    {
     "data": {
      "application/vnd.jupyter.widget-view+json": {
       "model_id": "987fdb9b97b24673814e670da78e0eb2",
       "version_major": 2,
       "version_minor": 0
      },
      "text/plain": [
       "r = 12 | queries:   0%|          | 0/10 [00:00<?, ?it/s]"
      ]
     },
     "metadata": {},
     "output_type": "display_data"
    },
    {
     "name": "stdout",
     "output_type": "stream",
     "text": [
      "\n",
      "time in s:\n",
      "0.31\t0.37\t0.354\t0.361\t0.392\t0.355\t\n"
     ]
    }
   ],
   "source": [
    "out = ''\n",
    "for r in [0,1,2,4,8,12]:\n",
    "    tic = time.time()\n",
    "    for q in tqdm(qemb, f'r = {r} | queries'):\n",
    "        index_str.range_query(q, r, slow=False, verbose=False)\n",
    "    toc = time.time()\n",
    "    out += f'{(toc-tic)/qemb.shape[0]:.3} / '\n",
    "tqdm.write('')\n",
    "tqdm.write('time in s:')\n",
    "tqdm.write(out)"
   ]
  },
  {
   "cell_type": "code",
   "execution_count": 55,
   "id": "f9e42e51-23a3-4a68-8936-568453762139",
   "metadata": {
    "tags": []
   },
   "outputs": [
    {
     "data": {
      "application/vnd.jupyter.widget-view+json": {
       "model_id": "e010955f07ca49b583b1c0f01a7dd5cf",
       "version_major": 2,
       "version_minor": 0
      },
      "text/plain": [
       "k = 1 | queries:   0%|          | 0/10 [00:00<?, ?it/s]"
      ]
     },
     "metadata": {},
     "output_type": "display_data"
    },
    {
     "data": {
      "application/vnd.jupyter.widget-view+json": {
       "model_id": "a333700848de467586eafa70f97d668a",
       "version_major": 2,
       "version_minor": 0
      },
      "text/plain": [
       "k = 10 | queries:   0%|          | 0/10 [00:00<?, ?it/s]"
      ]
     },
     "metadata": {},
     "output_type": "display_data"
    },
    {
     "data": {
      "application/vnd.jupyter.widget-view+json": {
       "model_id": "fa62dc748ba44efaa9d4ab413704a541",
       "version_major": 2,
       "version_minor": 0
      },
      "text/plain": [
       "k = 20 | queries:   0%|          | 0/10 [00:00<?, ?it/s]"
      ]
     },
     "metadata": {},
     "output_type": "display_data"
    },
    {
     "data": {
      "application/vnd.jupyter.widget-view+json": {
       "model_id": "86d1146697214fc7b5dacbcadafc7064",
       "version_major": 2,
       "version_minor": 0
      },
      "text/plain": [
       "k = 100 | queries:   0%|          | 0/10 [00:00<?, ?it/s]"
      ]
     },
     "metadata": {},
     "output_type": "display_data"
    },
    {
     "data": {
      "application/vnd.jupyter.widget-view+json": {
       "model_id": "42f3263ab0494f97901206ebae6e978f",
       "version_major": 2,
       "version_minor": 0
      },
      "text/plain": [
       "k = 200 | queries:   0%|          | 0/10 [00:00<?, ?it/s]"
      ]
     },
     "metadata": {},
     "output_type": "display_data"
    },
    {
     "data": {
      "application/vnd.jupyter.widget-view+json": {
       "model_id": "e9f2b28d95ce4a28805ab196adf208af",
       "version_major": 2,
       "version_minor": 0
      },
      "text/plain": [
       "k = 500 | queries:   0%|          | 0/10 [00:00<?, ?it/s]"
      ]
     },
     "metadata": {},
     "output_type": "display_data"
    },
    {
     "data": {
      "application/vnd.jupyter.widget-view+json": {
       "model_id": "de5e2cd85e284a5eb71890c89ccd3b79",
       "version_major": 2,
       "version_minor": 0
      },
      "text/plain": [
       "k = 1000 | queries:   0%|          | 0/10 [00:00<?, ?it/s]"
      ]
     },
     "metadata": {},
     "output_type": "display_data"
    },
    {
     "name": "stdout",
     "output_type": "stream",
     "text": [
      "\n",
      "time in s:\n",
      "0.4\t0.414\t0.463\t0.505\t0.521\t0.644\t0.806\t\n"
     ]
    }
   ],
   "source": [
    "out = ''\n",
    "for k in [1,10,20,100,200,500,1000]:\n",
    "    tic = time.time()\n",
    "    for q in tqdm(qemb, f'k = {k} | queries'):\n",
    "        index_str.knn_query(q, k, slow=False, verbose=False)\n",
    "    toc = time.time()\n",
    "    out += f'{(toc-tic)/qemb.shape[0]:.3} / '\n",
    "tqdm.write('')\n",
    "tqdm.write('time in s:')\n",
    "tqdm.write(out)"
   ]
  },
  {
   "cell_type": "markdown",
   "id": "61241279-ed46-4844-88fe-d88006d79785",
   "metadata": {},
   "source": [
    "## Vectorised, CPU, threads=1, max_leaf_size=64"
   ]
  },
  {
   "cell_type": "code",
   "execution_count": 76,
   "id": "d11bd84c-1151-4720-aa69-9d120558b461",
   "metadata": {},
   "outputs": [
    {
     "name": "stdout",
     "output_type": "stream",
     "text": [
      "construct quasi metric tree for asymmetric/symmetric distance function\n",
      "config.device: cpu\n"
     ]
    },
    {
     "data": {
      "application/vnd.jupyter.widget-view+json": {
       "model_id": "e28f31b7fb9141bebc96db7d0c9a9534",
       "version_major": 2,
       "version_minor": 0
      },
      "text/plain": [
       "  0%|          | 0/1971700 [00:00<?, ?it/s]"
      ]
     },
     "metadata": {},
     "output_type": "display_data"
    },
    {
     "name": "stdout",
     "output_type": "stream",
     "text": [
      "distance computations: 35936600\n",
      "internal nodes: 11740 / 46961\n",
      "leaf nodes: 35221 / 46961\n",
      "big leaf nodes: 18809 / 35221\n",
      "max leaf size: 5800\n",
      "preprocessing time: 35.6 s\n"
     ]
    }
   ],
   "source": [
    "tic = time.time()\n",
    "config.device = torch.device('cpu')\n",
    "torch.set_num_threads(1)\n",
    "index_str = index.QuasiMetricTree(temb, dist_fn=utils.norm_sed_func, max_leaf_size=64)\n",
    "toc = time.time()\n",
    "tqdm.write(f'preprocessing time: {toc-tic:.3} s')"
   ]
  },
  {
   "cell_type": "code",
   "execution_count": 77,
   "id": "1d210840-be67-410f-8591-48060dcfbf17",
   "metadata": {
    "tags": []
   },
   "outputs": [
    {
     "data": {
      "application/vnd.jupyter.widget-view+json": {
       "model_id": "1f32800182e54a928923473993b643f8",
       "version_major": 2,
       "version_minor": 0
      },
      "text/plain": [
       "r = 0 | queries:   0%|          | 0/10 [00:00<?, ?it/s]"
      ]
     },
     "metadata": {},
     "output_type": "display_data"
    },
    {
     "data": {
      "application/vnd.jupyter.widget-view+json": {
       "model_id": "46f5e5dd054543fda0d95fb53dc55c42",
       "version_major": 2,
       "version_minor": 0
      },
      "text/plain": [
       "r = 1 | queries:   0%|          | 0/10 [00:00<?, ?it/s]"
      ]
     },
     "metadata": {},
     "output_type": "display_data"
    },
    {
     "data": {
      "application/vnd.jupyter.widget-view+json": {
       "model_id": "dee7d6693d52471998a5fad9bbc4afb1",
       "version_major": 2,
       "version_minor": 0
      },
      "text/plain": [
       "r = 2 | queries:   0%|          | 0/10 [00:00<?, ?it/s]"
      ]
     },
     "metadata": {},
     "output_type": "display_data"
    },
    {
     "data": {
      "application/vnd.jupyter.widget-view+json": {
       "model_id": "ad57f5d4aadf4b78ae5cfb6323968c6c",
       "version_major": 2,
       "version_minor": 0
      },
      "text/plain": [
       "r = 4 | queries:   0%|          | 0/10 [00:00<?, ?it/s]"
      ]
     },
     "metadata": {},
     "output_type": "display_data"
    },
    {
     "data": {
      "application/vnd.jupyter.widget-view+json": {
       "model_id": "0165101e6f14428893bfb43b78f05200",
       "version_major": 2,
       "version_minor": 0
      },
      "text/plain": [
       "r = 8 | queries:   0%|          | 0/10 [00:00<?, ?it/s]"
      ]
     },
     "metadata": {},
     "output_type": "display_data"
    },
    {
     "data": {
      "application/vnd.jupyter.widget-view+json": {
       "model_id": "0b19152bdf464ffbae3624e5efedb68a",
       "version_major": 2,
       "version_minor": 0
      },
      "text/plain": [
       "r = 12 | queries:   0%|          | 0/10 [00:00<?, ?it/s]"
      ]
     },
     "metadata": {},
     "output_type": "display_data"
    },
    {
     "name": "stdout",
     "output_type": "stream",
     "text": [
      "\n",
      "time in s:\n",
      "1.81 / 2.04 / 1.94 / 2.09 / 2.17 / 1.89 / \n"
     ]
    }
   ],
   "source": [
    "out = ''\n",
    "for r in [0,1,2,4,8,12]:\n",
    "    tic = time.time()\n",
    "    for q in tqdm(qemb, f'r = {r} | queries'):\n",
    "        index_str.range_query(q, r, slow=False, verbose=False)\n",
    "    toc = time.time()\n",
    "    out += f'{(toc-tic)/qemb.shape[0]:.3} / '\n",
    "tqdm.write('')\n",
    "tqdm.write('time in s:')\n",
    "tqdm.write(out)"
   ]
  },
  {
   "cell_type": "code",
   "execution_count": 78,
   "id": "a1fff1a4-1e0b-4a36-87fd-e5fc81c11a74",
   "metadata": {
    "tags": []
   },
   "outputs": [
    {
     "data": {
      "application/vnd.jupyter.widget-view+json": {
       "model_id": "721118560d98405fb6eba48285d9d650",
       "version_major": 2,
       "version_minor": 0
      },
      "text/plain": [
       "k = 1 | queries:   0%|          | 0/10 [00:00<?, ?it/s]"
      ]
     },
     "metadata": {},
     "output_type": "display_data"
    },
    {
     "data": {
      "application/vnd.jupyter.widget-view+json": {
       "model_id": "b92652faae9546c7b348b98c931a5ae4",
       "version_major": 2,
       "version_minor": 0
      },
      "text/plain": [
       "k = 10 | queries:   0%|          | 0/10 [00:00<?, ?it/s]"
      ]
     },
     "metadata": {},
     "output_type": "display_data"
    },
    {
     "data": {
      "application/vnd.jupyter.widget-view+json": {
       "model_id": "a0033a6d7dad4f7888afcd6b20263fd2",
       "version_major": 2,
       "version_minor": 0
      },
      "text/plain": [
       "k = 20 | queries:   0%|          | 0/10 [00:00<?, ?it/s]"
      ]
     },
     "metadata": {},
     "output_type": "display_data"
    },
    {
     "data": {
      "application/vnd.jupyter.widget-view+json": {
       "model_id": "9bb2d6afab644d839dbdb28296bec0e6",
       "version_major": 2,
       "version_minor": 0
      },
      "text/plain": [
       "k = 100 | queries:   0%|          | 0/10 [00:00<?, ?it/s]"
      ]
     },
     "metadata": {},
     "output_type": "display_data"
    },
    {
     "data": {
      "application/vnd.jupyter.widget-view+json": {
       "model_id": "ef4dddb2b9f24640af8186966093df77",
       "version_major": 2,
       "version_minor": 0
      },
      "text/plain": [
       "k = 200 | queries:   0%|          | 0/10 [00:00<?, ?it/s]"
      ]
     },
     "metadata": {},
     "output_type": "display_data"
    },
    {
     "data": {
      "application/vnd.jupyter.widget-view+json": {
       "model_id": "a24af7caabfc48f384dfaae31d864885",
       "version_major": 2,
       "version_minor": 0
      },
      "text/plain": [
       "k = 500 | queries:   0%|          | 0/10 [00:00<?, ?it/s]"
      ]
     },
     "metadata": {},
     "output_type": "display_data"
    },
    {
     "data": {
      "application/vnd.jupyter.widget-view+json": {
       "model_id": "fb800b40fbd44fa89aba7a92f6fbdb79",
       "version_major": 2,
       "version_minor": 0
      },
      "text/plain": [
       "k = 1000 | queries:   0%|          | 0/10 [00:00<?, ?it/s]"
      ]
     },
     "metadata": {},
     "output_type": "display_data"
    },
    {
     "name": "stdout",
     "output_type": "stream",
     "text": [
      "\n",
      "time in s:\n",
      "7.76 / 7.88 / 7.79 / 7.86 / 8.07 / 8.57 / 9.5 / \n"
     ]
    }
   ],
   "source": [
    "out = ''\n",
    "for k in [1,10,20,100,200,500,1000]:\n",
    "    tic = time.time()\n",
    "    for q in tqdm(qemb, f'k = {k} | queries'):\n",
    "        index_str.knn_query(q, k, slow=False, verbose=False)\n",
    "    toc = time.time()\n",
    "    out += f'{(toc-tic)/qemb.shape[0]:.3} / '\n",
    "tqdm.write('')\n",
    "tqdm.write('time in s:')\n",
    "tqdm.write(out)"
   ]
  },
  {
   "cell_type": "markdown",
   "id": "97af5dd0-1745-487f-8a4f-b5c08cef0f6c",
   "metadata": {},
   "source": [
    "## Vectorised, GPU, max_leaf_size=8"
   ]
  },
  {
   "cell_type": "code",
   "execution_count": 59,
   "id": "1f673b59-947d-4fd0-a697-d6ac343ec5b3",
   "metadata": {},
   "outputs": [
    {
     "name": "stdout",
     "output_type": "stream",
     "text": [
      "construct quasi metric tree for asymmetric/symmetric distance function\n",
      "config.device: cuda\n"
     ]
    },
    {
     "data": {
      "application/vnd.jupyter.widget-view+json": {
       "model_id": "a07b806d3f1e4d2aa79ea919f87d2c33",
       "version_major": 2,
       "version_minor": 0
      },
      "text/plain": [
       "  0%|          | 0/19717 [00:00<?, ?it/s]"
      ]
     },
     "metadata": {},
     "output_type": "display_data"
    },
    {
     "name": "stdout",
     "output_type": "stream",
     "text": [
      "distance computations: 259732\n",
      "internal nodes: 1940 / 7761\n",
      "leaf nodes: 5821 / 7761\n",
      "big leaf nodes: 29 / 5821\n",
      "max leaf size: 35\n",
      "preprocessing time: 1.79 s\n"
     ]
    }
   ],
   "source": [
    "tic = time.time()\n",
    "config.device = torch.device('cuda')\n",
    "index_str = index.QuasiMetricTree(temb, dist_fn=utils.norm_sed_func, max_leaf_size=8)\n",
    "toc = time.time()\n",
    "tqdm.write(f'preprocessing time: {toc-tic:.3} s')"
   ]
  },
  {
   "cell_type": "code",
   "execution_count": 60,
   "id": "a2b853e3-cf4c-4fee-8861-d9401ce29dc6",
   "metadata": {
    "tags": []
   },
   "outputs": [
    {
     "data": {
      "application/vnd.jupyter.widget-view+json": {
       "model_id": "3839141ce62e49d88bd8c9d2517badbd",
       "version_major": 2,
       "version_minor": 0
      },
      "text/plain": [
       "r = 0 | queries:   0%|          | 0/10 [00:00<?, ?it/s]"
      ]
     },
     "metadata": {},
     "output_type": "display_data"
    },
    {
     "data": {
      "application/vnd.jupyter.widget-view+json": {
       "model_id": "a7eccfb1b2eb4c9aa04eb10d15566e3a",
       "version_major": 2,
       "version_minor": 0
      },
      "text/plain": [
       "r = 1 | queries:   0%|          | 0/10 [00:00<?, ?it/s]"
      ]
     },
     "metadata": {},
     "output_type": "display_data"
    },
    {
     "data": {
      "application/vnd.jupyter.widget-view+json": {
       "model_id": "f48a7accf679451d988c6c5c45cf3a1d",
       "version_major": 2,
       "version_minor": 0
      },
      "text/plain": [
       "r = 2 | queries:   0%|          | 0/10 [00:00<?, ?it/s]"
      ]
     },
     "metadata": {},
     "output_type": "display_data"
    },
    {
     "data": {
      "application/vnd.jupyter.widget-view+json": {
       "model_id": "1cb9400d79b84ffa80cf8d1364585032",
       "version_major": 2,
       "version_minor": 0
      },
      "text/plain": [
       "r = 4 | queries:   0%|          | 0/10 [00:00<?, ?it/s]"
      ]
     },
     "metadata": {},
     "output_type": "display_data"
    },
    {
     "data": {
      "application/vnd.jupyter.widget-view+json": {
       "model_id": "826b0818791142569b029e205d27824b",
       "version_major": 2,
       "version_minor": 0
      },
      "text/plain": [
       "r = 8 | queries:   0%|          | 0/10 [00:00<?, ?it/s]"
      ]
     },
     "metadata": {},
     "output_type": "display_data"
    },
    {
     "data": {
      "application/vnd.jupyter.widget-view+json": {
       "model_id": "6b12a540a9264858a56e7a67604da597",
       "version_major": 2,
       "version_minor": 0
      },
      "text/plain": [
       "r = 12 | queries:   0%|          | 0/10 [00:00<?, ?it/s]"
      ]
     },
     "metadata": {},
     "output_type": "display_data"
    },
    {
     "name": "stdout",
     "output_type": "stream",
     "text": [
      "\n",
      "time in s:\n",
      "0.906\t0.974\t0.968\t1.1\t1.14\t1.07\t\n"
     ]
    }
   ],
   "source": [
    "out = ''\n",
    "for r in [0,1,2,4,8,12]:\n",
    "    tic = time.time()\n",
    "    for q in tqdm(qemb, f'r = {r} | queries'):\n",
    "        index_str.range_query(q, r, slow=False, verbose=False)\n",
    "    toc = time.time()\n",
    "    out += f'{(toc-tic)/qemb.shape[0]:.3} / '\n",
    "tqdm.write('')\n",
    "tqdm.write('time in s:')\n",
    "tqdm.write(out)"
   ]
  },
  {
   "cell_type": "code",
   "execution_count": 61,
   "id": "a5e3497e-50b4-4436-acfa-7d87d6203498",
   "metadata": {
    "tags": []
   },
   "outputs": [
    {
     "data": {
      "application/vnd.jupyter.widget-view+json": {
       "model_id": "b257993ae5e04483807640e8469af989",
       "version_major": 2,
       "version_minor": 0
      },
      "text/plain": [
       "k = 1 | queries:   0%|          | 0/10 [00:00<?, ?it/s]"
      ]
     },
     "metadata": {},
     "output_type": "display_data"
    },
    {
     "data": {
      "application/vnd.jupyter.widget-view+json": {
       "model_id": "53d34c2136984c79a54e4d0746c048b8",
       "version_major": 2,
       "version_minor": 0
      },
      "text/plain": [
       "k = 10 | queries:   0%|          | 0/10 [00:00<?, ?it/s]"
      ]
     },
     "metadata": {},
     "output_type": "display_data"
    },
    {
     "data": {
      "application/vnd.jupyter.widget-view+json": {
       "model_id": "de8aad5b613b41af80e42a2d8c71bcea",
       "version_major": 2,
       "version_minor": 0
      },
      "text/plain": [
       "k = 20 | queries:   0%|          | 0/10 [00:00<?, ?it/s]"
      ]
     },
     "metadata": {},
     "output_type": "display_data"
    },
    {
     "data": {
      "application/vnd.jupyter.widget-view+json": {
       "model_id": "dfaf06d21f564b64a40dbe35a1efab7e",
       "version_major": 2,
       "version_minor": 0
      },
      "text/plain": [
       "k = 100 | queries:   0%|          | 0/10 [00:00<?, ?it/s]"
      ]
     },
     "metadata": {},
     "output_type": "display_data"
    },
    {
     "data": {
      "application/vnd.jupyter.widget-view+json": {
       "model_id": "e8ac65eefe86405d82b0af3837a83526",
       "version_major": 2,
       "version_minor": 0
      },
      "text/plain": [
       "k = 200 | queries:   0%|          | 0/10 [00:00<?, ?it/s]"
      ]
     },
     "metadata": {},
     "output_type": "display_data"
    },
    {
     "data": {
      "application/vnd.jupyter.widget-view+json": {
       "model_id": "032118e369444d04aa527acfb2622e64",
       "version_major": 2,
       "version_minor": 0
      },
      "text/plain": [
       "k = 500 | queries:   0%|          | 0/10 [00:00<?, ?it/s]"
      ]
     },
     "metadata": {},
     "output_type": "display_data"
    },
    {
     "data": {
      "application/vnd.jupyter.widget-view+json": {
       "model_id": "a7e1bb6bc10449fab7ef1ec65d3a2250",
       "version_major": 2,
       "version_minor": 0
      },
      "text/plain": [
       "k = 1000 | queries:   0%|          | 0/10 [00:00<?, ?it/s]"
      ]
     },
     "metadata": {},
     "output_type": "display_data"
    },
    {
     "name": "stdout",
     "output_type": "stream",
     "text": [
      "\n",
      "time in s:\n",
      "1.21\t1.16\t1.28\t1.49\t1.82\t2.48\t3.33\t\n"
     ]
    }
   ],
   "source": [
    "out = ''\n",
    "for k in [1,10,20,100,200,500,1000]:\n",
    "    tic = time.time()\n",
    "    for q in tqdm(qemb, f'k = {k} | queries'):\n",
    "        index_str.knn_query(q, k, slow=False, verbose=False)\n",
    "    toc = time.time()\n",
    "    out += f'{(toc-tic)/qemb.shape[0]:.3} / '\n",
    "tqdm.write('')\n",
    "tqdm.write('time in s:')\n",
    "tqdm.write(out)"
   ]
  },
  {
   "cell_type": "markdown",
   "id": "629db0ea-f7c2-4ded-b245-32e81d9a0423",
   "metadata": {},
   "source": [
    "## Vectorised, GPU, max_leaf_size=64"
   ]
  },
  {
   "cell_type": "code",
   "execution_count": 62,
   "id": "1405f767-586f-4745-aca8-8562c1573a89",
   "metadata": {},
   "outputs": [
    {
     "name": "stdout",
     "output_type": "stream",
     "text": [
      "construct quasi metric tree for asymmetric/symmetric distance function\n",
      "config.device: cuda\n"
     ]
    },
    {
     "data": {
      "application/vnd.jupyter.widget-view+json": {
       "model_id": "9deea61d524e4ffdbda0d9c2414f1fab",
       "version_major": 2,
       "version_minor": 0
      },
      "text/plain": [
       "  0%|          | 0/19717 [00:00<?, ?it/s]"
      ]
     },
     "metadata": {},
     "output_type": "display_data"
    },
    {
     "name": "stdout",
     "output_type": "stream",
     "text": [
      "distance computations: 193304\n",
      "internal nodes: 246 / 985\n",
      "leaf nodes: 739 / 985\n",
      "big leaf nodes: 0 / 739\n",
      "max leaf size: 64\n",
      "preprocessing time: 0.252 s\n"
     ]
    }
   ],
   "source": [
    "tic = time.time()\n",
    "config.device = torch.device('cuda')\n",
    "index_str = index.QuasiMetricTree(temb, dist_fn=utils.norm_sed_func, max_leaf_size=64)\n",
    "toc = time.time()\n",
    "tqdm.write(f'preprocessing time: {toc-tic:.3} s')"
   ]
  },
  {
   "cell_type": "code",
   "execution_count": 63,
   "id": "2a06ce8c-c6d4-4bbc-944a-0c2ed96d4871",
   "metadata": {
    "tags": []
   },
   "outputs": [
    {
     "data": {
      "application/vnd.jupyter.widget-view+json": {
       "model_id": "1352ef58105642579f1c850e590ad154",
       "version_major": 2,
       "version_minor": 0
      },
      "text/plain": [
       "r = 0 | queries:   0%|          | 0/10 [00:00<?, ?it/s]"
      ]
     },
     "metadata": {},
     "output_type": "display_data"
    },
    {
     "data": {
      "application/vnd.jupyter.widget-view+json": {
       "model_id": "f3684ffb56ab432d9892afc37c2dd23e",
       "version_major": 2,
       "version_minor": 0
      },
      "text/plain": [
       "r = 1 | queries:   0%|          | 0/10 [00:00<?, ?it/s]"
      ]
     },
     "metadata": {},
     "output_type": "display_data"
    },
    {
     "data": {
      "application/vnd.jupyter.widget-view+json": {
       "model_id": "a9d86adb2a5b4e58a1161514b3bfba40",
       "version_major": 2,
       "version_minor": 0
      },
      "text/plain": [
       "r = 2 | queries:   0%|          | 0/10 [00:00<?, ?it/s]"
      ]
     },
     "metadata": {},
     "output_type": "display_data"
    },
    {
     "data": {
      "application/vnd.jupyter.widget-view+json": {
       "model_id": "f2a86fb20efc4cdf8611f6933a0dbd64",
       "version_major": 2,
       "version_minor": 0
      },
      "text/plain": [
       "r = 4 | queries:   0%|          | 0/10 [00:00<?, ?it/s]"
      ]
     },
     "metadata": {},
     "output_type": "display_data"
    },
    {
     "data": {
      "application/vnd.jupyter.widget-view+json": {
       "model_id": "f6a32a75a4444885bf5d6882d63e2ccd",
       "version_major": 2,
       "version_minor": 0
      },
      "text/plain": [
       "r = 8 | queries:   0%|          | 0/10 [00:00<?, ?it/s]"
      ]
     },
     "metadata": {},
     "output_type": "display_data"
    },
    {
     "data": {
      "application/vnd.jupyter.widget-view+json": {
       "model_id": "7fdfce8150ab4c078a9248e263fc894c",
       "version_major": 2,
       "version_minor": 0
      },
      "text/plain": [
       "r = 12 | queries:   0%|          | 0/10 [00:00<?, ?it/s]"
      ]
     },
     "metadata": {},
     "output_type": "display_data"
    },
    {
     "name": "stdout",
     "output_type": "stream",
     "text": [
      "\n",
      "time in s:\n",
      "0.156\t0.145\t0.151\t0.164\t0.209\t0.185\t\n"
     ]
    }
   ],
   "source": [
    "out = ''\n",
    "for r in [0,1,2,4,8,12]:\n",
    "    tic = time.time()\n",
    "    for q in tqdm(qemb, f'r = {r} | queries'):\n",
    "        index_str.range_query(q, r, slow=False, verbose=False)\n",
    "    toc = time.time()\n",
    "    out += f'{(toc-tic)/qemb.shape[0]:.3} / '\n",
    "tqdm.write('')\n",
    "tqdm.write('time in s:')\n",
    "tqdm.write(out)"
   ]
  },
  {
   "cell_type": "code",
   "execution_count": 64,
   "id": "45efa370-c4ef-446f-b9f7-ac79e9a836be",
   "metadata": {
    "tags": []
   },
   "outputs": [
    {
     "data": {
      "application/vnd.jupyter.widget-view+json": {
       "model_id": "aa4fff81fc1e471ab7e293a63f330bc8",
       "version_major": 2,
       "version_minor": 0
      },
      "text/plain": [
       "k = 1 | queries:   0%|          | 0/10 [00:00<?, ?it/s]"
      ]
     },
     "metadata": {},
     "output_type": "display_data"
    },
    {
     "data": {
      "application/vnd.jupyter.widget-view+json": {
       "model_id": "3a005b170d3a4798810f1d8e39fee937",
       "version_major": 2,
       "version_minor": 0
      },
      "text/plain": [
       "k = 10 | queries:   0%|          | 0/10 [00:00<?, ?it/s]"
      ]
     },
     "metadata": {},
     "output_type": "display_data"
    },
    {
     "data": {
      "application/vnd.jupyter.widget-view+json": {
       "model_id": "6027fe9648274e5db6e99b69313132d8",
       "version_major": 2,
       "version_minor": 0
      },
      "text/plain": [
       "k = 20 | queries:   0%|          | 0/10 [00:00<?, ?it/s]"
      ]
     },
     "metadata": {},
     "output_type": "display_data"
    },
    {
     "data": {
      "application/vnd.jupyter.widget-view+json": {
       "model_id": "4298a13eed5a4a4ba0983b66cfe7e733",
       "version_major": 2,
       "version_minor": 0
      },
      "text/plain": [
       "k = 100 | queries:   0%|          | 0/10 [00:00<?, ?it/s]"
      ]
     },
     "metadata": {},
     "output_type": "display_data"
    },
    {
     "data": {
      "application/vnd.jupyter.widget-view+json": {
       "model_id": "e86552e07a6643aca8e157e09d392452",
       "version_major": 2,
       "version_minor": 0
      },
      "text/plain": [
       "k = 200 | queries:   0%|          | 0/10 [00:00<?, ?it/s]"
      ]
     },
     "metadata": {},
     "output_type": "display_data"
    },
    {
     "data": {
      "application/vnd.jupyter.widget-view+json": {
       "model_id": "8acb2c96165044268cea1eda07af2005",
       "version_major": 2,
       "version_minor": 0
      },
      "text/plain": [
       "k = 500 | queries:   0%|          | 0/10 [00:00<?, ?it/s]"
      ]
     },
     "metadata": {},
     "output_type": "display_data"
    },
    {
     "data": {
      "application/vnd.jupyter.widget-view+json": {
       "model_id": "bfccc8a5860149a397701d870c4fc76e",
       "version_major": 2,
       "version_minor": 0
      },
      "text/plain": [
       "k = 1000 | queries:   0%|          | 0/10 [00:00<?, ?it/s]"
      ]
     },
     "metadata": {},
     "output_type": "display_data"
    },
    {
     "name": "stdout",
     "output_type": "stream",
     "text": [
      "\n",
      "time in s:\n",
      "0.646\t0.688\t0.719\t0.972\t1.21\t1.83\t2.58\t\n"
     ]
    }
   ],
   "source": [
    "out = ''\n",
    "for k in [1,10,20,100,200,500,1000]:\n",
    "    tic = time.time()\n",
    "    for q in tqdm(qemb, f'k = {k} | queries'):\n",
    "        index_str.knn_query(q, k, slow=False, verbose=False)\n",
    "    toc = time.time()\n",
    "    out += f'{(toc-tic)/qemb.shape[0]:.3} / '\n",
    "tqdm.write('')\n",
    "tqdm.write('time in s:')\n",
    "tqdm.write(out)"
   ]
  },
  {
   "cell_type": "code",
   "execution_count": null,
   "id": "6eb520c5-f4f0-4d7c-b293-c9aa6e91cb6e",
   "metadata": {},
   "outputs": [],
   "source": []
  }
 ],
 "metadata": {
  "kernelspec": {
   "display_name": "Python 3",
   "language": "python",
   "name": "python3"
  },
  "language_info": {
   "codemirror_mode": {
    "name": "ipython",
    "version": 3
   },
   "file_extension": ".py",
   "mimetype": "text/x-python",
   "name": "python",
   "nbconvert_exporter": "python",
   "pygments_lexer": "ipython3",
   "version": "3.6.13"
  }
 },
 "nbformat": 4,
 "nbformat_minor": 5
}
