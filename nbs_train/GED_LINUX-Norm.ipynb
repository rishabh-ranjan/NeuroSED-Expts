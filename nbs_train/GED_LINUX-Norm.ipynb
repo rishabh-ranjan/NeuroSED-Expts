{
 "cells": [
  {
   "cell_type": "code",
   "execution_count": 1,
   "id": "altered-conference",
   "metadata": {},
   "outputs": [],
   "source": [
    "CUDA_INDEX = 5\n",
    "NAME = 'GED_LINUX'\n",
    "CLASSES = 1"
   ]
  },
  {
   "cell_type": "code",
   "execution_count": 2,
   "id": "bigger-invention",
   "metadata": {},
   "outputs": [],
   "source": [
    "import sys\n",
    "sys.path.insert(0, '../..')\n",
    "sys.path.insert(0, '../../pyged/lib')"
   ]
  },
  {
   "cell_type": "code",
   "execution_count": 3,
   "id": "secure-institute",
   "metadata": {},
   "outputs": [
    {
     "data": {
      "text/plain": [
       "<module 'neuro.viz' from '../../neuro/viz.py'>"
      ]
     },
     "execution_count": 3,
     "metadata": {},
     "output_type": "execute_result"
    }
   ],
   "source": [
    "import os\n",
    "import pickle\n",
    "import random\n",
    "import time\n",
    "\n",
    "import IPython as ipy\n",
    "import matplotlib.pyplot as plt\n",
    "import numpy as np\n",
    "import torch\n",
    "torch.cuda.set_device(CUDA_INDEX)\n",
    "torch.backends.cudnn.benchmark = True\n",
    "import torch.optim\n",
    "import torch_geometric as tg\n",
    "import torch_geometric.data\n",
    "from tqdm.auto import tqdm\n",
    "\n",
    "from neuro import config, datasets, metrics, models, train, utils, viz\n",
    "import pyged\n",
    "\n",
    "from importlib import reload\n",
    "reload(config)\n",
    "reload(datasets)\n",
    "reload(metrics)\n",
    "reload(models)\n",
    "reload(pyged)\n",
    "reload(train)\n",
    "reload(utils)\n",
    "reload(viz)"
   ]
  },
  {
   "cell_type": "code",
   "execution_count": null,
   "id": "liberal-artwork",
   "metadata": {},
   "outputs": [],
   "source": [
    "train_set, train_meta = torch.load(f'../data/{NAME}/train.pt', map_location='cpu')"
   ]
  },
  {
   "cell_type": "code",
   "execution_count": null,
   "id": "encouraging-valuation",
   "metadata": {},
   "outputs": [],
   "source": [
    "nodes = [h.num_nodes for h in train_set[1]]\n",
    "edges = [h.num_edges for h in train_set[1]]\n",
    "print(f'avg target nodes: {sum(nodes)/len(nodes):.3f}')\n",
    "print(f'avg target edges: {sum(edges)/len(edges):.3f}')"
   ]
  },
  {
   "cell_type": "code",
   "execution_count": null,
   "id": "diverse-semester",
   "metadata": {},
   "outputs": [],
   "source": [
    "viz.plot_inner_dataset(train_set, n_items=5, random=True)"
   ]
  },
  {
   "cell_type": "code",
   "execution_count": null,
   "id": "caroline-printing",
   "metadata": {},
   "outputs": [],
   "source": [
    "viz.plot_dataset_dist(train_set)"
   ]
  },
  {
   "cell_type": "code",
   "execution_count": null,
   "id": "protective-compact",
   "metadata": {},
   "outputs": [],
   "source": [
    "queries, targets, lb, ub = train_set\n",
    "sed = (lb+ub)/2\n",
    "plt.figure(figsize=(12,4))\n",
    "plt.subplot(121)\n",
    "viz.plot_corr(sed, ub-lb, show_std=True)\n",
    "plt.xlabel('GED')\n",
    "plt.ylabel('UB-LB')\n",
    "plt.title('Range vs GED')\n",
    "plt.subplot(122)\n",
    "viz.plot_corr(sed, (ub-lb)/sed, show_std=True)\n",
    "plt.xlabel('GED')\n",
    "plt.ylabel('(UB-LB)/GED')\n",
    "plt.title('Relative Range vs GED')\n",
    "plt.show()"
   ]
  },
  {
   "cell_type": "code",
   "execution_count": null,
   "id": "front-plate",
   "metadata": {},
   "outputs": [],
   "source": [
    "val_set, _ = torch.load(f'../data/{NAME}/val.pt', map_location='cpu')"
   ]
  },
  {
   "cell_type": "code",
   "execution_count": null,
   "id": "broken-insurance",
   "metadata": {},
   "outputs": [],
   "source": [
    "model = models.NormGEDModel(8, CLASSES, 64, 64).to(config.device)\n",
    "model.weighted = True"
   ]
  },
  {
   "cell_type": "code",
   "execution_count": null,
   "id": "actual-internship",
   "metadata": {},
   "outputs": [],
   "source": [
    "loader = tg.data.DataLoader(list(zip(*train_set)), batch_size=200, shuffle=True)\n",
    "val_loader = tg.data.DataLoader(list(zip(*val_set)), batch_size=1000, shuffle=True)"
   ]
  },
  {
   "cell_type": "code",
   "execution_count": null,
   "id": "regulated-methodology",
   "metadata": {},
   "outputs": [],
   "source": [
    "dump_path = os.path.join(f'../runlogs/{NAME}-Norm', str(time.time()))\n",
    "os.mkdir(dump_path)\n",
    "train.train_full(model, loader, val_loader, lr=1e-3, weight_decay=1e-3, cycle_patience=5, step_size_up=2000, step_size_down=2000, dump_path=dump_path)"
   ]
  },
  {
   "cell_type": "code",
   "execution_count": null,
   "id": "wanted-chapel",
   "metadata": {},
   "outputs": [],
   "source": []
  }
 ],
 "metadata": {
  "kernelspec": {
   "display_name": "Python 3",
   "language": "python",
   "name": "python3"
  },
  "language_info": {
   "codemirror_mode": {
    "name": "ipython",
    "version": 3
   },
   "file_extension": ".py",
   "mimetype": "text/x-python",
   "name": "python",
   "nbconvert_exporter": "python",
   "pygments_lexer": "ipython3",
   "version": "3.6.13"
  }
 },
 "nbformat": 4,
 "nbformat_minor": 5
}
