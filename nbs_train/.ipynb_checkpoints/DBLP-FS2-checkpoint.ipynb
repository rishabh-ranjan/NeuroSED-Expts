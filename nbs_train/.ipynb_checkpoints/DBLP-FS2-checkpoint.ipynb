{
 "cells": [
  {
   "cell_type": "code",
   "execution_count": 1,
   "id": "narrative-radius",
   "metadata": {},
   "outputs": [],
   "source": [
    "CUDA_INDEX = 3\n",
    "NAME = 'DBLP'\n",
    "CLASSES = 8"
   ]
  },
  {
   "cell_type": "code",
   "execution_count": 2,
   "id": "wrapped-handle",
   "metadata": {},
   "outputs": [],
   "source": [
    "import sys\n",
    "sys.path.insert(0, '../..')\n",
    "sys.path.insert(0, '../../pyged/lib')"
   ]
  },
  {
   "cell_type": "code",
   "execution_count": 3,
   "id": "italic-madagascar",
   "metadata": {},
   "outputs": [
    {
     "data": {
      "text/plain": [
       "<module 'neuro.viz' from '../../neuro/viz.py'>"
      ]
     },
     "execution_count": 3,
     "metadata": {},
     "output_type": "execute_result"
    }
   ],
   "source": [
    "import os\n",
    "import pickle\n",
    "import random\n",
    "import time\n",
    "\n",
    "import IPython as ipy\n",
    "import matplotlib.pyplot as plt\n",
    "import numpy as np\n",
    "import torch\n",
    "torch.cuda.set_device(CUDA_INDEX)\n",
    "torch.backends.cudnn.benchmark = True\n",
    "import torch.optim\n",
    "import torch_geometric as tg\n",
    "import torch_geometric.data\n",
    "from tqdm.auto import tqdm\n",
    "\n",
    "from neuro import config, datasets, metrics, models, train, utils, viz\n",
    "import pyged\n",
    "\n",
    "from importlib import reload\n",
    "reload(config)\n",
    "reload(datasets)\n",
    "reload(metrics)\n",
    "reload(models)\n",
    "reload(pyged)\n",
    "reload(train)\n",
    "reload(utils)\n",
    "reload(viz)"
   ]
  },
  {
   "cell_type": "code",
   "execution_count": null,
   "id": "empirical-timer",
   "metadata": {},
   "outputs": [],
   "source": [
    "train_set, train_meta = torch.load(f'/data/rishabh/neurosim/final/data/{NAME}/train.pt', map_location='cpu')\n",
    "train_set = [_[:1000] for _ in train_set]\n",
    "train_meta = [_[:1000] for _ in train_meta]"
   ]
  },
  {
   "cell_type": "code",
   "execution_count": null,
   "id": "bigger-gibraltar",
   "metadata": {},
   "outputs": [],
   "source": [
    "nodes = [h.num_nodes for h in train_set[1]]\n",
    "edges = [h.num_edges for h in train_set[1]]\n",
    "print(f'avg target nodes: {sum(nodes)/len(nodes):.3f}')\n",
    "print(f'avg target edges: {sum(edges)/len(edges):.3f}')"
   ]
  },
  {
   "cell_type": "code",
   "execution_count": null,
   "id": "motivated-prince",
   "metadata": {},
   "outputs": [],
   "source": [
    "viz.plot_inner_dataset_plus(train_set, train_meta, n_items=5, random=True)"
   ]
  },
  {
   "cell_type": "code",
   "execution_count": null,
   "id": "concerned-footwear",
   "metadata": {},
   "outputs": [],
   "source": [
    "viz.plot_dataset_dist(train_set)"
   ]
  },
  {
   "cell_type": "code",
   "execution_count": null,
   "id": "adapted-vietnam",
   "metadata": {},
   "outputs": [],
   "source": [
    "queries, targets, lb, ub = train_set\n",
    "sed = (lb+ub)/2\n",
    "plt.figure(figsize=(12,4))\n",
    "plt.subplot(121)\n",
    "viz.plot_corr(sed, ub-lb, show_std=True)\n",
    "plt.xlabel('SED')\n",
    "plt.ylabel('UB-LB')\n",
    "plt.title('Range vs SED')\n",
    "plt.subplot(122)\n",
    "viz.plot_corr(sed, (ub-lb)/sed, show_std=True)\n",
    "plt.xlabel('SED')\n",
    "plt.ylabel('(UB-LB)/SED')\n",
    "plt.title('Relative Range vs SED')\n",
    "plt.show()"
   ]
  },
  {
   "cell_type": "code",
   "execution_count": null,
   "id": "infinite-retrieval",
   "metadata": {},
   "outputs": [],
   "source": [
    "val_set, _ = torch.load(f'/data/rishabh/neurosim/final/data/{NAME}/val.pt', map_location='cpu')"
   ]
  },
  {
   "cell_type": "code",
   "execution_count": null,
   "id": "mental-artwork",
   "metadata": {},
   "outputs": [],
   "source": [
    "model = models.NormSEDModel(8, CLASSES, 64, 64).to(config.device)"
   ]
  },
  {
   "cell_type": "code",
   "execution_count": null,
   "id": "responsible-indicator",
   "metadata": {},
   "outputs": [],
   "source": [
    "loader = tg.data.DataLoader(list(zip(*train_set)), batch_size=100, shuffle=True)\n",
    "val_loader = tg.data.DataLoader(list(zip(*val_set)), batch_size=1000, shuffle=True)"
   ]
  },
  {
   "cell_type": "code",
   "execution_count": null,
   "id": "legendary-external",
   "metadata": {},
   "outputs": [],
   "source": [
    "dump_path = os.path.join(f'../runlogs/{NAME}-FS2', str(time.time()))\n",
    "os.mkdir(dump_path)\n",
    "train.train_full(model, loader, val_loader, lr=1e-4, weight_decay=1e-2, cycle_patience=5, step_size_up=4000, step_size_down=4000, dump_path=dump_path)"
   ]
  },
  {
   "cell_type": "code",
   "execution_count": null,
   "id": "moral-substance",
   "metadata": {},
   "outputs": [],
   "source": []
  }
 ],
 "metadata": {
  "kernelspec": {
   "display_name": "Python 3",
   "language": "python",
   "name": "python3"
  },
  "language_info": {
   "codemirror_mode": {
    "name": "ipython",
    "version": 3
   },
   "file_extension": ".py",
   "mimetype": "text/x-python",
   "name": "python",
   "nbconvert_exporter": "python",
   "pygments_lexer": "ipython3",
   "version": "3.6.13"
  }
 },
 "nbformat": 4,
 "nbformat_minor": 5
}
